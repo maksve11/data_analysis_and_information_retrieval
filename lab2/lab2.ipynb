{
 "cells": [
  {
   "cell_type": "markdown",
   "metadata": {},
   "source": [
    "## Задание\n",
    "1. Выбрать датасет, подходящий для моделирования рекомендательной системы.  Хорошие источники данных: https://ods.ai/competitions/ и https://www.recsyschallenge.com/2024/ (тут можно подставлять любой год, начиная с 2016). Ещё примеры данных: https://www.aicrowd.com/challenges/spotify-million-playlist-dataset-challenge#dataset и https://boosters.pro/championship/rekko_challenge/data\n",
    "2. Сделать разведочный анализ данных, то есть посчитать статистические показатели, построить визуализации и дать им интерпретацию, подготовить отчёт по качеству данных (пропуски, дубли, выбросы). При необходимости предобработать данные. Сделать выводы.\n",
    "3. Выбрать минимум три метода формирования рекомендации. Реализовать их. Потенциальные методы: MostPop, UserKNN, ItemKNN, SLIM, EASE, ALS\n",
    "4. Выбрать несколько метрик оценки качества рекомендаций. Рассчитать их. Желательно выбирать хотя бы одну метрику, учитывающую качество ранжирования.\n",
    "5. Желательно выбрать хотя бы одну специфическую для рекомендательных систем метрику (новизна, разнообразие, неожиданность)\n",
    "Сформулировать предложения по улучшению качества рекомендаций. Сделать выводы."
   ]
  },
  {
   "cell_type": "markdown",
   "metadata": {},
   "source": [
    "## Для выполнения был выбран один из competition от MTS:\n",
    "### Вам предоставлены данные из приложения МТС Kion по взаимодействиям пользователей с контентом за период 6 месяцев.\n",
    "    В отдельных файлах есть:\n",
    "\n",
    "* факты просмотра контента пользователями\n",
    "* описание контента\n",
    "* описание пользователей\n",
    "\n",
    "Что нужно сделать?\n",
    "Наиболее качественно порекомендовать список из 10 объектов для каждого пользователя из тестовой выборки."
   ]
  },
  {
   "cell_type": "markdown",
   "metadata": {},
   "source": [
    "### Ссылка на competition: https://ods.ai/competitions/competition-recsys-21"
   ]
  },
  {
   "cell_type": "code",
   "execution_count": 1,
   "metadata": {},
   "outputs": [
    {
     "name": "stdout",
     "output_type": "stream",
     "text": [
      "Requirement already satisfied: more_itertools in /Users/maksvell/Учеба/.venv/lib/python3.13/site-packages (10.6.0)\n"
     ]
    }
   ],
   "source": [
    "!pip install more_itertools"
   ]
  },
  {
   "cell_type": "code",
   "execution_count": 2,
   "metadata": {},
   "outputs": [
    {
     "name": "stderr",
     "output_type": "stream",
     "text": [
      "/var/folders/pq/7p0c971j5k7dd6zbzt4kxsj40000gn/T/ipykernel_4943/3403949601.py:16: DeprecationWarning: Importing display from IPython.core.display is deprecated since IPython 7.14, please import from IPython.display\n",
      "  from IPython.core.display import display, HTML, clear_output\n",
      "/var/folders/pq/7p0c971j5k7dd6zbzt4kxsj40000gn/T/ipykernel_4943/3403949601.py:16: DeprecationWarning: Importing clear_output from IPython.core.display is deprecated since IPython 7.14, please import from IPython.display\n",
      "  from IPython.core.display import display, HTML, clear_output\n"
     ]
    },
    {
     "data": {
      "text/html": [
       "<style>.container { width:80% !important; }</style>"
      ],
      "text/plain": [
       "<IPython.core.display.HTML object>"
      ]
     },
     "metadata": {},
     "output_type": "display_data"
    },
    {
     "data": {
      "text/html": [
       "<style>.prompt { min-width:10ex !important; }</style>"
      ],
      "text/plain": [
       "<IPython.core.display.HTML object>"
      ]
     },
     "metadata": {},
     "output_type": "display_data"
    },
    {
     "data": {
      "text/html": [
       "<style>div#notebook { font-size:12px !important; }</style>"
      ],
      "text/plain": [
       "<IPython.core.display.HTML object>"
      ]
     },
     "metadata": {},
     "output_type": "display_data"
    }
   ],
   "source": [
    "import datetime\n",
    "import numpy as np\n",
    "import pandas as pd\n",
    "import seaborn as sns\n",
    "import stanza\n",
    "from itertools import islice, cycle\n",
    "from more_itertools import pairwise\n",
    "\n",
    "%matplotlib inline\n",
    "import matplotlib as mpl\n",
    "import matplotlib.pyplot as plt\n",
    "mpl.rc('axes', labelsize=14)\n",
    "mpl.rc('xtick', labelsize=12)\n",
    "mpl.rc('ytick', labelsize=12)\n",
    "\n",
    "from IPython.core.display import display, HTML, clear_output\n",
    "display(HTML('<style>.container { width:80% !important; }</style>'))\n",
    "display(HTML('<style>.prompt { min-width:10ex !important; }</style>'))\n",
    "display(HTML('<style>div#notebook { font-size:12px !important; }</style>'))"
   ]
  },
  {
   "cell_type": "code",
   "execution_count": 3,
   "metadata": {},
   "outputs": [
    {
     "data": {
      "application/vnd.jupyter.widget-view+json": {
       "model_id": "385182b4cbea4be399849146b69791a3",
       "version_major": 2,
       "version_minor": 0
      },
      "text/plain": [
       "Downloading https://raw.githubusercontent.com/stanfordnlp/stanza-resources/main/resources_1.10.0.json:   0%|  …"
      ]
     },
     "metadata": {},
     "output_type": "display_data"
    },
    {
     "name": "stderr",
     "output_type": "stream",
     "text": [
      "2025-02-24 19:56:37 INFO: Downloaded file to /Users/maksvell/stanza_resources/resources.json\n",
      "2025-02-24 19:56:37 INFO: Downloading default packages for language: ru (Russian) ...\n",
      "2025-02-24 19:56:38 INFO: File exists: /Users/maksvell/stanza_resources/ru/default.zip\n",
      "2025-02-24 19:56:40 INFO: Finished downloading models and saved to /Users/maksvell/stanza_resources\n"
     ]
    }
   ],
   "source": [
    "stanza.download('ru')"
   ]
  },
  {
   "cell_type": "markdown",
   "metadata": {},
   "source": [
    "# Обзор датасета онлайн-кинотеатра Kion\n",
    "\n",
    "Датасет содержит информацию о пользователях, контенте (фильмы/сериалы) и их взаимодействиях за период примерно 6 месяцев, с 2021-03-13 по 2021-08-22. Данные включают анонимизированные идентификаторы пользователей и контента, а также случайный шум.\n",
    "\n",
    "## Статистика датасета\n",
    "\n",
    "- **Пользователи:** 840,000\n",
    "- **Объекты контента:** 16,000\n",
    "- **Взаимодействия:** 5,500,000\n",
    "\n",
    "## Описание файлов\n",
    "\n",
    "### `users.csv`\n",
    "\n",
    "Этот файл содержит информацию о пользователях:\n",
    "\n",
    "- **`user_id`**: Идентификатор пользователя\n",
    "- **`age`**: Возрастная группа пользователя в формате \"M_N\"\n",
    "  - `18_24`: от 18 до 24 лет\n",
    "  - `25_34`: от 25 до 34 лет\n",
    "  - `35_44`: от 35 до 44 лет\n",
    "  - `45_54`: от 45 до 54 лет\n",
    "  - `55_64`: от 55 до 64 лет\n",
    "  - `65_inf`: 65 и старше\n",
    "- **`sex`**: Пол пользователя\n",
    "  - `M`: Мужчина\n",
    "  - `Ж`: Женщина\n",
    "- **`income`**: Уровень дохода пользователя в формате \"M_N\"\n",
    "  - `income_0_20`\n",
    "  - `income_20_40`\n",
    "  - `income_40_60`\n",
    "  - `income_60_90`\n",
    "  - `income_90_150`\n",
    "  - `income_150_inf`\n",
    "- **`kids_flg`**: Флаг наличия детей\n",
    "\n",
    "### `items.csv`\n",
    "\n",
    "Этот файл содержит информацию о контенте (фильмы/сериалы):\n",
    "\n",
    "- **`item_id`**: Идентификатор контента\n",
    "- **`content_type`**: Тип контента (фильм, сериал)\n",
    "- **`title`**: Название на русском языке\n",
    "- **`title_orig`**: Оригинальное название\n",
    "- **`genres`**: Жанры из источника (онлайн-кинотеатры)\n",
    "- **`countries`**: Страны происхождения\n",
    "- **`for_kids`**: Флаг \"контент для детей\"\n",
    "- **`age_rating`**: Возрастной рейтинг\n",
    "- **`studios`**: Студии, участвовавшие в создании\n",
    "- **`directors`**: Режиссеры\n",
    "- **`actors`**: Актеры\n",
    "- **`keywords`**: Ключевые слова\n",
    "- **`description`**: Описание контента\n",
    "\n",
    "### `interactions.csv`\n",
    "\n",
    "Этот файл содержит информацию о взаимодействиях пользователей с контентом:\n",
    "\n",
    "- **`user_id`**: Идентификатор пользователя\n",
    "- **`item_id`**: Идентификатор контента\n",
    "- **`last_watch_dt`**: Дата последнего просмотра\n",
    "- **`total_dur`**: Общая продолжительность всех просмотров данного контента в секундах\n",
    "- **`content_type`**: Тип контента (фильм, сериал)\n",
    "\n",
    "Этот датасет предоставляет всесторонний взгляд на поведение пользователей и предпочтения контента в онлайн-кинотеатре Kion за указанный период."
   ]
  },
  {
   "cell_type": "markdown",
   "metadata": {},
   "source": [
    "# 2. EDA"
   ]
  },
  {
   "cell_type": "markdown",
   "metadata": {},
   "source": [
    "## Users"
   ]
  },
  {
   "cell_type": "code",
   "execution_count": 6,
   "metadata": {},
   "outputs": [],
   "source": [
    "users_df = pd.read_csv('users.csv')"
   ]
  },
  {
   "cell_type": "code",
   "execution_count": 7,
   "metadata": {},
   "outputs": [
    {
     "data": {
      "text/html": [
       "<div>\n",
       "<style scoped>\n",
       "    .dataframe tbody tr th:only-of-type {\n",
       "        vertical-align: middle;\n",
       "    }\n",
       "\n",
       "    .dataframe tbody tr th {\n",
       "        vertical-align: top;\n",
       "    }\n",
       "\n",
       "    .dataframe thead th {\n",
       "        text-align: right;\n",
       "    }\n",
       "</style>\n",
       "<table border=\"1\" class=\"dataframe\">\n",
       "  <thead>\n",
       "    <tr style=\"text-align: right;\">\n",
       "      <th></th>\n",
       "      <th>user_id</th>\n",
       "      <th>age</th>\n",
       "      <th>income</th>\n",
       "      <th>sex</th>\n",
       "      <th>kids_flg</th>\n",
       "    </tr>\n",
       "  </thead>\n",
       "  <tbody>\n",
       "    <tr>\n",
       "      <th>146233</th>\n",
       "      <td>790265</td>\n",
       "      <td>age_25_34</td>\n",
       "      <td>income_20_40</td>\n",
       "      <td>Ж</td>\n",
       "      <td>0</td>\n",
       "    </tr>\n",
       "    <tr>\n",
       "      <th>692842</th>\n",
       "      <td>125435</td>\n",
       "      <td>age_18_24</td>\n",
       "      <td>income_20_40</td>\n",
       "      <td>Ж</td>\n",
       "      <td>0</td>\n",
       "    </tr>\n",
       "    <tr>\n",
       "      <th>828885</th>\n",
       "      <td>769214</td>\n",
       "      <td>age_25_34</td>\n",
       "      <td>income_40_60</td>\n",
       "      <td>М</td>\n",
       "      <td>0</td>\n",
       "    </tr>\n",
       "    <tr>\n",
       "      <th>652233</th>\n",
       "      <td>548474</td>\n",
       "      <td>age_18_24</td>\n",
       "      <td>income_0_20</td>\n",
       "      <td>Ж</td>\n",
       "      <td>0</td>\n",
       "    </tr>\n",
       "    <tr>\n",
       "      <th>352202</th>\n",
       "      <td>63493</td>\n",
       "      <td>age_45_54</td>\n",
       "      <td>income_20_40</td>\n",
       "      <td>Ж</td>\n",
       "      <td>0</td>\n",
       "    </tr>\n",
       "  </tbody>\n",
       "</table>\n",
       "</div>"
      ],
      "text/plain": [
       "        user_id        age        income sex  kids_flg\n",
       "146233   790265  age_25_34  income_20_40   Ж         0\n",
       "692842   125435  age_18_24  income_20_40   Ж         0\n",
       "828885   769214  age_25_34  income_40_60   М         0\n",
       "652233   548474  age_18_24   income_0_20   Ж         0\n",
       "352202    63493  age_45_54  income_20_40   Ж         0"
      ]
     },
     "execution_count": 7,
     "metadata": {},
     "output_type": "execute_result"
    }
   ],
   "source": [
    "users_df.sample(5)"
   ]
  },
  {
   "cell_type": "code",
   "execution_count": 8,
   "metadata": {},
   "outputs": [
    {
     "name": "stdout",
     "output_type": "stream",
     "text": [
      "<class 'pandas.core.frame.DataFrame'>\n",
      "RangeIndex: 840197 entries, 0 to 840196\n",
      "Data columns (total 5 columns):\n",
      " #   Column    Non-Null Count   Dtype \n",
      "---  ------    --------------   ----- \n",
      " 0   user_id   840197 non-null  int64 \n",
      " 1   age       826102 non-null  object\n",
      " 2   income    825421 non-null  object\n",
      " 3   sex       826366 non-null  object\n",
      " 4   kids_flg  840197 non-null  int64 \n",
      "dtypes: int64(2), object(3)\n",
      "memory usage: 32.1+ MB\n"
     ]
    }
   ],
   "source": [
    "users_df.info(verbose=True, show_counts=True)"
   ]
  },
  {
   "cell_type": "code",
   "execution_count": 9,
   "metadata": {},
   "outputs": [
    {
     "data": {
      "text/plain": [
       "user_id     840197\n",
       "age              6\n",
       "income           6\n",
       "sex              2\n",
       "kids_flg         2\n",
       "dtype: int64"
      ]
     },
     "execution_count": 9,
     "metadata": {},
     "output_type": "execute_result"
    }
   ],
   "source": [
    "users_df.nunique()"
   ]
  },
  {
   "cell_type": "code",
   "execution_count": 10,
   "metadata": {},
   "outputs": [
    {
     "data": {
      "text/plain": [
       "(840197, 5)"
      ]
     },
     "execution_count": 10,
     "metadata": {},
     "output_type": "execute_result"
    }
   ],
   "source": [
    "users_df.shape"
   ]
  },
  {
   "cell_type": "code",
   "execution_count": 11,
   "metadata": {},
   "outputs": [
    {
     "data": {
      "text/plain": [
       "user_id         0\n",
       "age         14095\n",
       "income      14776\n",
       "sex         13831\n",
       "kids_flg        0\n",
       "dtype: int64"
      ]
     },
     "execution_count": 11,
     "metadata": {},
     "output_type": "execute_result"
    }
   ],
   "source": [
    "users_df.isnull().sum()"
   ]
  },
  {
   "cell_type": "code",
   "execution_count": 12,
   "metadata": {},
   "outputs": [
    {
     "data": {
      "text/plain": [
       "<Axes: xlabel='age'>"
      ]
     },
     "execution_count": 12,
     "metadata": {},
     "output_type": "execute_result"
    },
    {
     "data": {
      "image/png": "[encoded data removed]",
      "text/plain": [
       "<Figure size 640x480 with 1 Axes>"
      ]
     },
     "metadata": {},
     "output_type": "display_data"
    }
   ],
   "source": [
    "users_df.age.value_counts().sort_index().plot(kind='bar')"
   ]
  },
  {
   "cell_type": "code",
   "execution_count": 13,
   "metadata": {},
   "outputs": [],
   "source": [
    "users_df['age'] = users_df['age'].fillna('age_unknown')"
   ]
  },
  {
   "cell_type": "code",
   "execution_count": 14,
   "metadata": {},
   "outputs": [
    {
     "data": {
      "text/plain": [
       "age\n",
       "age_25_34      233926\n",
       "age_35_44      207043\n",
       "age_45_54      135925\n",
       "age_18_24      127672\n",
       "age_55_64       75265\n",
       "age_65_inf      46271\n",
       "age_unknown     14095\n",
       "Name: count, dtype: int64"
      ]
     },
     "execution_count": 14,
     "metadata": {},
     "output_type": "execute_result"
    }
   ],
   "source": [
    "users_df['age'].value_counts()"
   ]
  },
  {
   "cell_type": "code",
   "execution_count": 15,
   "metadata": {},
   "outputs": [
    {
     "data": {
      "text/plain": [
       "income\n",
       "income_20_40      471519\n",
       "income_40_60      248330\n",
       "income_60_90       68674\n",
       "income_0_20        21836\n",
       "income_90_150      13985\n",
       "income_150_inf      1077\n",
       "Name: count, dtype: int64"
      ]
     },
     "execution_count": 15,
     "metadata": {},
     "output_type": "execute_result"
    }
   ],
   "source": [
    "users_df.income.value_counts()"
   ]
  },
  {
   "cell_type": "code",
   "execution_count": 16,
   "metadata": {},
   "outputs": [
    {
     "data": {
      "text/plain": [
       "<Axes: xlabel='income'>"
      ]
     },
     "execution_count": 16,
     "metadata": {},
     "output_type": "execute_result"
    },
    {
     "data": {
      "image/png": "[encoded data removed]",
      "text/plain": [
       "<Figure size 640x480 with 1 Axes>"
      ]
     },
     "metadata": {},
     "output_type": "display_data"
    }
   ],
   "source": [
    "users_df.income.value_counts().iloc[[3,0,1,2,4,5]].plot(kind='bar')"
   ]
  },
  {
   "cell_type": "code",
   "execution_count": 17,
   "metadata": {},
   "outputs": [],
   "source": [
    "users_df['income'] = users_df['income'].fillna('income_unknown')"
   ]
  },
  {
   "cell_type": "code",
   "execution_count": 18,
   "metadata": {},
   "outputs": [
    {
     "data": {
      "text/plain": [
       "income\n",
       "income_20_40      471519\n",
       "income_40_60      248330\n",
       "income_60_90       68674\n",
       "income_0_20        21836\n",
       "income_unknown     14776\n",
       "income_90_150      13985\n",
       "income_150_inf      1077\n",
       "Name: count, dtype: int64"
      ]
     },
     "execution_count": 18,
     "metadata": {},
     "output_type": "execute_result"
    }
   ],
   "source": [
    "users_df['income'].value_counts()"
   ]
  },
  {
   "cell_type": "code",
   "execution_count": 19,
   "metadata": {},
   "outputs": [
    {
     "data": {
      "text/plain": [
       "sex\n",
       "Ж    425270\n",
       "М    401096\n",
       "Name: count, dtype: int64"
      ]
     },
     "execution_count": 19,
     "metadata": {},
     "output_type": "execute_result"
    }
   ],
   "source": [
    "users_df['sex'].value_counts()"
   ]
  },
  {
   "cell_type": "code",
   "execution_count": 20,
   "metadata": {},
   "outputs": [],
   "source": [
    "users_df['sex'] = users_df['sex'].fillna('sex_unknown')"
   ]
  },
  {
   "cell_type": "code",
   "execution_count": 21,
   "metadata": {},
   "outputs": [],
   "source": [
    "users_df['sex'] = users_df['sex'].map({'М': 1, 'Ж': 0, 'sex_unknown': 2})"
   ]
  },
  {
   "cell_type": "code",
   "execution_count": 22,
   "metadata": {},
   "outputs": [
    {
     "data": {
      "text/plain": [
       "sex\n",
       "0    425270\n",
       "1    401096\n",
       "2     13831\n",
       "Name: count, dtype: int64"
      ]
     },
     "execution_count": 22,
     "metadata": {},
     "output_type": "execute_result"
    }
   ],
   "source": [
    "users_df['sex'].value_counts()"
   ]
  },
  {
   "cell_type": "code",
   "execution_count": 23,
   "metadata": {},
   "outputs": [
    {
     "data": {
      "text/plain": [
       "kids_flg\n",
       "0    587209\n",
       "1    252988\n",
       "Name: count, dtype: int64"
      ]
     },
     "execution_count": 23,
     "metadata": {},
     "output_type": "execute_result"
    }
   ],
   "source": [
    "users_df['kids_flg'].value_counts()"
   ]
  },
  {
   "cell_type": "code",
   "execution_count": 24,
   "metadata": {},
   "outputs": [],
   "source": [
    "users_df['kids_flg'] = users_df['kids_flg'].astype('bool')"
   ]
  },
  {
   "cell_type": "code",
   "execution_count": 25,
   "metadata": {},
   "outputs": [
    {
     "data": {
      "text/plain": [
       "np.int64(0)"
      ]
     },
     "execution_count": 25,
     "metadata": {},
     "output_type": "execute_result"
    }
   ],
   "source": [
    "users_df.duplicated(subset=['user_id'], keep=False).sum()"
   ]
  },
  {
   "cell_type": "code",
   "execution_count": 26,
   "metadata": {},
   "outputs": [],
   "source": [
    "from sklearn.preprocessing import OrdinalEncoder\n",
    "\n",
    "age_order = ['age_unknown', 'age_18_24', 'age_25_34', 'age_35_44', 'age_45_54', 'age_55_64', 'age_65_inf']\n",
    "income_order = ['income_unknown', 'income_0_20', 'income_20_40', 'income_40_60', 'income_60_90', 'income_90_150', 'income_150_inf']\n",
    "\n",
    "encoder = OrdinalEncoder(categories=[age_order, income_order])\n",
    "\n",
    "users_df[['age', 'income']] = encoder.fit_transform(users_df[['age', 'income']])"
   ]
  },
  {
   "cell_type": "code",
   "execution_count": 27,
   "metadata": {},
   "outputs": [
    {
     "data": {
      "text/html": [
       "<div>\n",
       "<style scoped>\n",
       "    .dataframe tbody tr th:only-of-type {\n",
       "        vertical-align: middle;\n",
       "    }\n",
       "\n",
       "    .dataframe tbody tr th {\n",
       "        vertical-align: top;\n",
       "    }\n",
       "\n",
       "    .dataframe thead th {\n",
       "        text-align: right;\n",
       "    }\n",
       "</style>\n",
       "<table border=\"1\" class=\"dataframe\">\n",
       "  <thead>\n",
       "    <tr style=\"text-align: right;\">\n",
       "      <th></th>\n",
       "      <th>user_id</th>\n",
       "      <th>age</th>\n",
       "      <th>income</th>\n",
       "      <th>sex</th>\n",
       "      <th>kids_flg</th>\n",
       "    </tr>\n",
       "  </thead>\n",
       "  <tbody>\n",
       "    <tr>\n",
       "      <th>755330</th>\n",
       "      <td>15540</td>\n",
       "      <td>1.0</td>\n",
       "      <td>2.0</td>\n",
       "      <td>0</td>\n",
       "      <td>True</td>\n",
       "    </tr>\n",
       "    <tr>\n",
       "      <th>29182</th>\n",
       "      <td>586887</td>\n",
       "      <td>1.0</td>\n",
       "      <td>2.0</td>\n",
       "      <td>0</td>\n",
       "      <td>False</td>\n",
       "    </tr>\n",
       "    <tr>\n",
       "      <th>446928</th>\n",
       "      <td>184009</td>\n",
       "      <td>2.0</td>\n",
       "      <td>3.0</td>\n",
       "      <td>0</td>\n",
       "      <td>True</td>\n",
       "    </tr>\n",
       "    <tr>\n",
       "      <th>453335</th>\n",
       "      <td>696393</td>\n",
       "      <td>6.0</td>\n",
       "      <td>2.0</td>\n",
       "      <td>0</td>\n",
       "      <td>False</td>\n",
       "    </tr>\n",
       "    <tr>\n",
       "      <th>114142</th>\n",
       "      <td>38422</td>\n",
       "      <td>3.0</td>\n",
       "      <td>4.0</td>\n",
       "      <td>1</td>\n",
       "      <td>True</td>\n",
       "    </tr>\n",
       "  </tbody>\n",
       "</table>\n",
       "</div>"
      ],
      "text/plain": [
       "        user_id  age  income  sex  kids_flg\n",
       "755330    15540  1.0     2.0    0      True\n",
       "29182    586887  1.0     2.0    0     False\n",
       "446928   184009  2.0     3.0    0      True\n",
       "453335   696393  6.0     2.0    0     False\n",
       "114142    38422  3.0     4.0    1      True"
      ]
     },
     "execution_count": 27,
     "metadata": {},
     "output_type": "execute_result"
    }
   ],
   "source": [
    "users_df.sample(5)"
   ]
  },
  {
   "cell_type": "code",
   "execution_count": 28,
   "metadata": {},
   "outputs": [
    {
     "name": "stdout",
     "output_type": "stream",
     "text": [
      "<class 'pandas.core.frame.DataFrame'>\n",
      "RangeIndex: 840197 entries, 0 to 840196\n",
      "Data columns (total 5 columns):\n",
      " #   Column    Non-Null Count   Dtype  \n",
      "---  ------    --------------   -----  \n",
      " 0   user_id   840197 non-null  int64  \n",
      " 1   age       840197 non-null  float64\n",
      " 2   income    840197 non-null  float64\n",
      " 3   sex       840197 non-null  int64  \n",
      " 4   kids_flg  840197 non-null  bool   \n",
      "dtypes: bool(1), float64(2), int64(2)\n",
      "memory usage: 26.4 MB\n"
     ]
    }
   ],
   "source": [
    "users_df.info()"
   ]
  },
  {
   "cell_type": "markdown",
   "metadata": {},
   "source": [
    "## Items"
   ]
  },
  {
   "cell_type": "code",
   "execution_count": 30,
   "metadata": {},
   "outputs": [],
   "source": [
    "items_df = pd.read_csv('items.csv')"
   ]
  },
  {
   "cell_type": "code",
   "execution_count": 31,
   "metadata": {},
   "outputs": [
    {
     "data": {
      "text/html": [
       "<div>\n",
       "<style scoped>\n",
       "    .dataframe tbody tr th:only-of-type {\n",
       "        vertical-align: middle;\n",
       "    }\n",
       "\n",
       "    .dataframe tbody tr th {\n",
       "        vertical-align: top;\n",
       "    }\n",
       "\n",
       "    .dataframe thead th {\n",
       "        text-align: right;\n",
       "    }\n",
       "</style>\n",
       "<table border=\"1\" class=\"dataframe\">\n",
       "  <thead>\n",
       "    <tr style=\"text-align: right;\">\n",
       "      <th></th>\n",
       "      <th>item_id</th>\n",
       "      <th>content_type</th>\n",
       "      <th>title</th>\n",
       "      <th>title_orig</th>\n",
       "      <th>release_year</th>\n",
       "      <th>genres</th>\n",
       "      <th>countries</th>\n",
       "      <th>for_kids</th>\n",
       "      <th>age_rating</th>\n",
       "      <th>studios</th>\n",
       "      <th>directors</th>\n",
       "      <th>actors</th>\n",
       "      <th>description</th>\n",
       "      <th>keywords</th>\n",
       "    </tr>\n",
       "  </thead>\n",
       "  <tbody>\n",
       "    <tr>\n",
       "      <th>3869</th>\n",
       "      <td>5485</td>\n",
       "      <td>film</td>\n",
       "      <td>Посмешище</td>\n",
       "      <td>Ridicule</td>\n",
       "      <td>2011.0</td>\n",
       "      <td>драмы, комедии</td>\n",
       "      <td>Франция</td>\n",
       "      <td>NaN</td>\n",
       "      <td>6.0</td>\n",
       "      <td>NaN</td>\n",
       "      <td>Одри Наджар, Фридерик Перро</td>\n",
       "      <td>Ромен Селье, Даниэль Берлиу, Лайонел Эммери, Ш...</td>\n",
       "      <td>Ромен всегда чувствовал себя по-другому по оче...</td>\n",
       "      <td>2011, франция, посмешище</td>\n",
       "    </tr>\n",
       "    <tr>\n",
       "      <th>9501</th>\n",
       "      <td>8308</td>\n",
       "      <td>series</td>\n",
       "      <td>Принцесса Фантагира</td>\n",
       "      <td>FANTAGHIRO</td>\n",
       "      <td>1999.0</td>\n",
       "      <td>мультсериалы</td>\n",
       "      <td>Испания</td>\n",
       "      <td>NaN</td>\n",
       "      <td>6.0</td>\n",
       "      <td>NaN</td>\n",
       "      <td>Тони Гарсиа</td>\n",
       "      <td>NaN</td>\n",
       "      <td>Великолепный мультипликационный сериал для дет...</td>\n",
       "      <td>NaN</td>\n",
       "    </tr>\n",
       "    <tr>\n",
       "      <th>13667</th>\n",
       "      <td>12966</td>\n",
       "      <td>film</td>\n",
       "      <td>Собеседование</td>\n",
       "      <td>Entretien d'embauche</td>\n",
       "      <td>2015.0</td>\n",
       "      <td>драмы, фэнтези, комедии</td>\n",
       "      <td>Франция</td>\n",
       "      <td>NaN</td>\n",
       "      <td>12.0</td>\n",
       "      <td>NaN</td>\n",
       "      <td>Николас Новак</td>\n",
       "      <td>Джозеф Эрнандез, Бенжамин Вангермее, Изабель К...</td>\n",
       "      <td>Молодой выпускник приходит на классическое соб...</td>\n",
       "      <td>2015, франция, собеседование</td>\n",
       "    </tr>\n",
       "    <tr>\n",
       "      <th>15773</th>\n",
       "      <td>10029</td>\n",
       "      <td>series</td>\n",
       "      <td>Сын за отца</td>\n",
       "      <td>NaN</td>\n",
       "      <td>2014.0</td>\n",
       "      <td>драмы, криминал</td>\n",
       "      <td>Россия</td>\n",
       "      <td>0.0</td>\n",
       "      <td>16.0</td>\n",
       "      <td>NaN</td>\n",
       "      <td>Леван Когуашвили</td>\n",
       "      <td>Антон Макарский, Алексей Горбунов, Татьяна Лют...</td>\n",
       "      <td>Вадиму с детства прививали мораль и нравственн...</td>\n",
       "      <td>Сын, за, отца, 2014, Россия</td>\n",
       "    </tr>\n",
       "    <tr>\n",
       "      <th>4172</th>\n",
       "      <td>5866</td>\n",
       "      <td>film</td>\n",
       "      <td>Долина Синих скал</td>\n",
       "      <td>Valley of the Blue Rocks</td>\n",
       "      <td>1956.0</td>\n",
       "      <td>драмы, русские</td>\n",
       "      <td>СССР</td>\n",
       "      <td>NaN</td>\n",
       "      <td>12.0</td>\n",
       "      <td>NaN</td>\n",
       "      <td>Николай Красий</td>\n",
       "      <td>Леонид Жуковский, Федор Радчук, Андрей Сова, А...</td>\n",
       "      <td>Молодой геолог Василий Рубан сразу после оконч...</td>\n",
       "      <td>Долина, Синих, скал, 1956, СССР</td>\n",
       "    </tr>\n",
       "  </tbody>\n",
       "</table>\n",
       "</div>"
      ],
      "text/plain": [
       "       item_id content_type                title                title_orig  \\\n",
       "3869      5485         film            Посмешище                  Ridicule   \n",
       "9501      8308       series  Принцесса Фантагира                FANTAGHIRO   \n",
       "13667    12966         film        Собеседование      Entretien d'embauche   \n",
       "15773    10029       series          Сын за отца                       NaN   \n",
       "4172      5866         film    Долина Синих скал  Valley of the Blue Rocks   \n",
       "\n",
       "       release_year                   genres countries  for_kids  age_rating  \\\n",
       "3869         2011.0           драмы, комедии   Франция       NaN         6.0   \n",
       "9501         1999.0             мультсериалы   Испания       NaN         6.0   \n",
       "13667        2015.0  драмы, фэнтези, комедии   Франция       NaN        12.0   \n",
       "15773        2014.0          драмы, криминал    Россия       0.0        16.0   \n",
       "4172         1956.0           драмы, русские      СССР       NaN        12.0   \n",
       "\n",
       "      studios                    directors  \\\n",
       "3869      NaN  Одри Наджар, Фридерик Перро   \n",
       "9501      NaN                  Тони Гарсиа   \n",
       "13667     NaN                Николас Новак   \n",
       "15773     NaN             Леван Когуашвили   \n",
       "4172      NaN               Николай Красий   \n",
       "\n",
       "                                                  actors  \\\n",
       "3869   Ромен Селье, Даниэль Берлиу, Лайонел Эммери, Ш...   \n",
       "9501                                                 NaN   \n",
       "13667  Джозеф Эрнандез, Бенжамин Вангермее, Изабель К...   \n",
       "15773  Антон Макарский, Алексей Горбунов, Татьяна Лют...   \n",
       "4172   Леонид Жуковский, Федор Радчук, Андрей Сова, А...   \n",
       "\n",
       "                                             description  \\\n",
       "3869   Ромен всегда чувствовал себя по-другому по оче...   \n",
       "9501   Великолепный мультипликационный сериал для дет...   \n",
       "13667  Молодой выпускник приходит на классическое соб...   \n",
       "15773  Вадиму с детства прививали мораль и нравственн...   \n",
       "4172   Молодой геолог Василий Рубан сразу после оконч...   \n",
       "\n",
       "                              keywords  \n",
       "3869          2011, франция, посмешище  \n",
       "9501                               NaN  \n",
       "13667     2015, франция, собеседование  \n",
       "15773      Сын, за, отца, 2014, Россия  \n",
       "4172   Долина, Синих, скал, 1956, СССР  "
      ]
     },
     "execution_count": 31,
     "metadata": {},
     "output_type": "execute_result"
    }
   ],
   "source": [
    "items_df.sample(5)"
   ]
  },
  {
   "cell_type": "code",
   "execution_count": 32,
   "metadata": {},
   "outputs": [
    {
     "data": {
      "text/plain": [
       "(15963, 14)"
      ]
     },
     "execution_count": 32,
     "metadata": {},
     "output_type": "execute_result"
    }
   ],
   "source": [
    "items_df.shape"
   ]
  },
  {
   "cell_type": "code",
   "execution_count": 33,
   "metadata": {},
   "outputs": [
    {
     "data": {
      "text/plain": [
       "item_id         15963\n",
       "content_type        2\n",
       "title           15293\n",
       "title_orig      10575\n",
       "release_year      105\n",
       "genres           2771\n",
       "countries         687\n",
       "for_kids            2\n",
       "age_rating          6\n",
       "studios            38\n",
       "directors        7973\n",
       "actors          12996\n",
       "description     15619\n",
       "keywords        15492\n",
       "dtype: int64"
      ]
     },
     "execution_count": 33,
     "metadata": {},
     "output_type": "execute_result"
    }
   ],
   "source": [
    "items_df.nunique()"
   ]
  },
  {
   "cell_type": "code",
   "execution_count": 34,
   "metadata": {},
   "outputs": [
    {
     "name": "stdout",
     "output_type": "stream",
     "text": [
      "<class 'pandas.core.frame.DataFrame'>\n",
      "RangeIndex: 15963 entries, 0 to 15962\n",
      "Data columns (total 14 columns):\n",
      " #   Column        Non-Null Count  Dtype  \n",
      "---  ------        --------------  -----  \n",
      " 0   item_id       15963 non-null  int64  \n",
      " 1   content_type  15963 non-null  object \n",
      " 2   title         15963 non-null  object \n",
      " 3   title_orig    11218 non-null  object \n",
      " 4   release_year  15865 non-null  float64\n",
      " 5   genres        15963 non-null  object \n",
      " 6   countries     15926 non-null  object \n",
      " 7   for_kids      566 non-null    float64\n",
      " 8   age_rating    15961 non-null  float64\n",
      " 9   studios       1065 non-null   object \n",
      " 10  directors     14454 non-null  object \n",
      " 11  actors        13344 non-null  object \n",
      " 12  description   15961 non-null  object \n",
      " 13  keywords      15540 non-null  object \n",
      "dtypes: float64(3), int64(1), object(10)\n",
      "memory usage: 1.7+ MB\n"
     ]
    }
   ],
   "source": [
    "items_df.info(verbose=True, show_counts=True)"
   ]
  },
  {
   "cell_type": "code",
   "execution_count": 35,
   "metadata": {},
   "outputs": [
    {
     "data": {
      "text/plain": [
       "content_type\n",
       "film      12002\n",
       "series     3961\n",
       "Name: count, dtype: int64"
      ]
     },
     "execution_count": 35,
     "metadata": {},
     "output_type": "execute_result"
    }
   ],
   "source": [
    "items_df.content_type.value_counts()"
   ]
  },
  {
   "cell_type": "code",
   "execution_count": 36,
   "metadata": {},
   "outputs": [
    {
     "data": {
      "text/plain": [
       "np.int64(0)"
      ]
     },
     "execution_count": 36,
     "metadata": {},
     "output_type": "execute_result"
    }
   ],
   "source": [
    "items_df.content_type.isnull().sum()"
   ]
  },
  {
   "cell_type": "code",
   "execution_count": 37,
   "metadata": {},
   "outputs": [],
   "source": [
    "items_df['content_type'] = items_df['content_type'].map({'film': 1, 'series': 0})"
   ]
  },
  {
   "cell_type": "code",
   "execution_count": 38,
   "metadata": {},
   "outputs": [
    {
     "data": {
      "text/plain": [
       "13827       Рей и пожарный патруль\n",
       "8797                      Бумбараш\n",
       "9305                        Нико 2\n",
       "3852     Русское краткое. Выпуск 4\n",
       "14039      Труффальдино из Бергамо\n",
       "Name: title, dtype: object"
      ]
     },
     "execution_count": 38,
     "metadata": {},
     "output_type": "execute_result"
    }
   ],
   "source": [
    "items_df['title'].sample(5)"
   ]
  },
  {
   "cell_type": "code",
   "execution_count": 39,
   "metadata": {},
   "outputs": [
    {
     "data": {
      "text/plain": [
       "np.int64(1266)"
      ]
     },
     "execution_count": 39,
     "metadata": {},
     "output_type": "execute_result"
    }
   ],
   "source": [
    "items_df.duplicated(subset=['title'], keep=False).sum()"
   ]
  },
  {
   "cell_type": "code",
   "execution_count": 40,
   "metadata": {},
   "outputs": [],
   "source": [
    "items_df['title'] = items_df['title'].str.lower()"
   ]
  },
  {
   "cell_type": "code",
   "execution_count": 41,
   "metadata": {},
   "outputs": [
    {
     "data": {
      "text/plain": [
       "title\n",
       "охота                                   5\n",
       "соблазн                                 4\n",
       "стрелок                                 4\n",
       "вторжение                               4\n",
       "родина                                  4\n",
       "                                       ..\n",
       "война по принуждению                    1\n",
       "море соблазна                           1\n",
       "сексуальные эксперименты в космосе 2    1\n",
       "голый романтик                          1\n",
       "гоша                                    1\n",
       "Name: count, Length: 15276, dtype: int64"
      ]
     },
     "execution_count": 41,
     "metadata": {},
     "output_type": "execute_result"
    }
   ],
   "source": [
    "items_df.title.value_counts()"
   ]
  },
  {
   "cell_type": "code",
   "execution_count": 42,
   "metadata": {},
   "outputs": [
    {
     "data": {
      "text/html": [
       "<div>\n",
       "<style scoped>\n",
       "    .dataframe tbody tr th:only-of-type {\n",
       "        vertical-align: middle;\n",
       "    }\n",
       "\n",
       "    .dataframe tbody tr th {\n",
       "        vertical-align: top;\n",
       "    }\n",
       "\n",
       "    .dataframe thead th {\n",
       "        text-align: right;\n",
       "    }\n",
       "</style>\n",
       "<table border=\"1\" class=\"dataframe\">\n",
       "  <thead>\n",
       "    <tr style=\"text-align: right;\">\n",
       "      <th></th>\n",
       "      <th>item_id</th>\n",
       "      <th>content_type</th>\n",
       "      <th>title</th>\n",
       "      <th>title_orig</th>\n",
       "      <th>release_year</th>\n",
       "      <th>genres</th>\n",
       "      <th>countries</th>\n",
       "      <th>for_kids</th>\n",
       "      <th>age_rating</th>\n",
       "      <th>studios</th>\n",
       "      <th>directors</th>\n",
       "      <th>actors</th>\n",
       "      <th>description</th>\n",
       "      <th>keywords</th>\n",
       "    </tr>\n",
       "  </thead>\n",
       "  <tbody>\n",
       "    <tr>\n",
       "      <th>1190</th>\n",
       "      <td>9103</td>\n",
       "      <td>1</td>\n",
       "      <td>охота</td>\n",
       "      <td>Hunt, The</td>\n",
       "      <td>2020.0</td>\n",
       "      <td>боевики, триллеры, комедии</td>\n",
       "      <td>США</td>\n",
       "      <td>NaN</td>\n",
       "      <td>18.0</td>\n",
       "      <td>NaN</td>\n",
       "      <td>Крэйг Зобел</td>\n",
       "      <td>Бетти Гилпин, Хилари Суэнк, Айк Баринхолц, Уэй...</td>\n",
       "      <td>Несколько человек имели неосторожность обсужда...</td>\n",
       "      <td>хорватия, охота на людей, ручная граната, свин...</td>\n",
       "    </tr>\n",
       "    <tr>\n",
       "      <th>3447</th>\n",
       "      <td>1223</td>\n",
       "      <td>0</td>\n",
       "      <td>охота</td>\n",
       "      <td>NaN</td>\n",
       "      <td>2019.0</td>\n",
       "      <td>драмы, зарубежные</td>\n",
       "      <td>Австралия</td>\n",
       "      <td>NaN</td>\n",
       "      <td>18.0</td>\n",
       "      <td>NaN</td>\n",
       "      <td>Ана Коккинос, Софи Хайд</td>\n",
       "      <td>Алекс Кьюсак, Ашер Кедди, Джессика Де Гау, Кав...</td>\n",
       "      <td>В обычной австралийской школе разгорается секс...</td>\n",
       "      <td>Охота, 2019, Австралия, отцы, дети, первая, лю...</td>\n",
       "    </tr>\n",
       "    <tr>\n",
       "      <th>10851</th>\n",
       "      <td>5692</td>\n",
       "      <td>1</td>\n",
       "      <td>охота</td>\n",
       "      <td>Jagten</td>\n",
       "      <td>2012.0</td>\n",
       "      <td>драмы, зарубежные</td>\n",
       "      <td>Дания</td>\n",
       "      <td>NaN</td>\n",
       "      <td>16.0</td>\n",
       "      <td>NaN</td>\n",
       "      <td>Томас Винтерберг</td>\n",
       "      <td>Александра Рапапорт, Аллан Вибор Кристенсен, А...</td>\n",
       "      <td>Борющийся с трудностями и одиночеством детский...</td>\n",
       "      <td>Охота, 2012, Дания, безответная, любовь, друзь...</td>\n",
       "    </tr>\n",
       "    <tr>\n",
       "      <th>10934</th>\n",
       "      <td>15114</td>\n",
       "      <td>1</td>\n",
       "      <td>охота</td>\n",
       "      <td>The Hunting</td>\n",
       "      <td>2017.0</td>\n",
       "      <td>драмы, зарубежные, триллеры, ужасы</td>\n",
       "      <td>США</td>\n",
       "      <td>NaN</td>\n",
       "      <td>18.0</td>\n",
       "      <td>NaN</td>\n",
       "      <td>NaN</td>\n",
       "      <td>NaN</td>\n",
       "      <td>Действие мрачного триллера разворачивается в 1...</td>\n",
       "      <td>Охота, 2017, США, друзья, страхи, убийства, уб...</td>\n",
       "    </tr>\n",
       "    <tr>\n",
       "      <th>13446</th>\n",
       "      <td>7891</td>\n",
       "      <td>1</td>\n",
       "      <td>охота</td>\n",
       "      <td>The hunt</td>\n",
       "      <td>2019.0</td>\n",
       "      <td>драмы, мультфильм</td>\n",
       "      <td>Польша</td>\n",
       "      <td>NaN</td>\n",
       "      <td>16.0</td>\n",
       "      <td>NaN</td>\n",
       "      <td>Матеуш Ярмульски</td>\n",
       "      <td>NaN</td>\n",
       "      <td>Во время летних каникул в сельской местности 1...</td>\n",
       "      <td>2019, польша, охота</td>\n",
       "    </tr>\n",
       "  </tbody>\n",
       "</table>\n",
       "</div>"
      ],
      "text/plain": [
       "       item_id  content_type  title   title_orig  release_year  \\\n",
       "1190      9103             1  охота    Hunt, The        2020.0   \n",
       "3447      1223             0  охота          NaN        2019.0   \n",
       "10851     5692             1  охота       Jagten        2012.0   \n",
       "10934    15114             1  охота  The Hunting        2017.0   \n",
       "13446     7891             1  охота     The hunt        2019.0   \n",
       "\n",
       "                                   genres  countries  for_kids  age_rating  \\\n",
       "1190           боевики, триллеры, комедии        США       NaN        18.0   \n",
       "3447                    драмы, зарубежные  Австралия       NaN        18.0   \n",
       "10851                   драмы, зарубежные      Дания       NaN        16.0   \n",
       "10934  драмы, зарубежные, триллеры, ужасы        США       NaN        18.0   \n",
       "13446                   драмы, мультфильм     Польша       NaN        16.0   \n",
       "\n",
       "      studios                directors  \\\n",
       "1190      NaN              Крэйг Зобел   \n",
       "3447      NaN  Ана Коккинос, Софи Хайд   \n",
       "10851     NaN         Томас Винтерберг   \n",
       "10934     NaN                      NaN   \n",
       "13446     NaN         Матеуш Ярмульски   \n",
       "\n",
       "                                                  actors  \\\n",
       "1190   Бетти Гилпин, Хилари Суэнк, Айк Баринхолц, Уэй...   \n",
       "3447   Алекс Кьюсак, Ашер Кедди, Джессика Де Гау, Кав...   \n",
       "10851  Александра Рапапорт, Аллан Вибор Кристенсен, А...   \n",
       "10934                                                NaN   \n",
       "13446                                                NaN   \n",
       "\n",
       "                                             description  \\\n",
       "1190   Несколько человек имели неосторожность обсужда...   \n",
       "3447   В обычной австралийской школе разгорается секс...   \n",
       "10851  Борющийся с трудностями и одиночеством детский...   \n",
       "10934  Действие мрачного триллера разворачивается в 1...   \n",
       "13446  Во время летних каникул в сельской местности 1...   \n",
       "\n",
       "                                                keywords  \n",
       "1190   хорватия, охота на людей, ручная граната, свин...  \n",
       "3447   Охота, 2019, Австралия, отцы, дети, первая, лю...  \n",
       "10851  Охота, 2012, Дания, безответная, любовь, друзь...  \n",
       "10934  Охота, 2017, США, друзья, страхи, убийства, уб...  \n",
       "13446                                2019, польша, охота  "
      ]
     },
     "execution_count": 42,
     "metadata": {},
     "output_type": "execute_result"
    }
   ],
   "source": [
    "items_df.loc[items_df.title == 'охота']"
   ]
  },
  {
   "cell_type": "code",
   "execution_count": 43,
   "metadata": {},
   "outputs": [
    {
     "data": {
      "text/plain": [
       "np.int64(0)"
      ]
     },
     "execution_count": 43,
     "metadata": {},
     "output_type": "execute_result"
    }
   ],
   "source": [
    "items_df.title.isnull().sum()"
   ]
  },
  {
   "cell_type": "code",
   "execution_count": 44,
   "metadata": {},
   "outputs": [
    {
     "data": {
      "text/plain": [
       "9310     Les auto-entrepreneuses\n",
       "2529              Tropic Thunder\n",
       "7768                         NaN\n",
       "10232               Little Gobie\n",
       "13617                        NaN\n",
       "Name: title_orig, dtype: object"
      ]
     },
     "execution_count": 44,
     "metadata": {},
     "output_type": "execute_result"
    }
   ],
   "source": [
    "items_df['title_orig'].sample(5)"
   ]
  },
  {
   "cell_type": "code",
   "execution_count": 45,
   "metadata": {},
   "outputs": [
    {
     "data": {
      "text/plain": [
       "<Axes: xlabel='countries'>"
      ]
     },
     "execution_count": 45,
     "metadata": {},
     "output_type": "execute_result"
    },
    {
     "data": {
      "image/png": "[encoded data removed]",
      "text/plain": [
       "<Figure size 640x480 with 1 Axes>"
      ]
     },
     "metadata": {},
     "output_type": "display_data"
    }
   ],
   "source": [
    "items_df[items_df.title_orig.isna()].countries.value_counts().head(10).plot(kind='bar')"
   ]
  },
  {
   "cell_type": "code",
   "execution_count": 46,
   "metadata": {},
   "outputs": [
    {
     "data": {
      "text/plain": [
       "np.int64(6007)"
      ]
     },
     "execution_count": 46,
     "metadata": {},
     "output_type": "execute_result"
    }
   ],
   "source": [
    "items_df.duplicated(subset=['title_orig'], keep=False).sum()"
   ]
  },
  {
   "cell_type": "code",
   "execution_count": 47,
   "metadata": {},
   "outputs": [
    {
     "data": {
      "text/plain": [
       "np.int64(380)"
      ]
     },
     "execution_count": 47,
     "metadata": {},
     "output_type": "execute_result"
    }
   ],
   "source": [
    "items_df.duplicated(subset=['title', 'title_orig'], keep=False).sum()"
   ]
  },
  {
   "cell_type": "code",
   "execution_count": 48,
   "metadata": {},
   "outputs": [],
   "source": [
    "items_df['title_orig'] = items_df['title_orig'].fillna('None') "
   ]
  },
  {
   "cell_type": "code",
   "execution_count": 49,
   "metadata": {},
   "outputs": [],
   "source": [
    "items_df['title_orig'] = items_df['title_orig'].str.lower()"
   ]
  },
  {
   "cell_type": "code",
   "execution_count": 50,
   "metadata": {},
   "outputs": [
    {
     "data": {
      "text/plain": [
       "14430    monster high: electrified\n",
       "3081                          none\n",
       "13603                         none\n",
       "13483                         none\n",
       "1238           the lady in the van\n",
       "Name: title_orig, dtype: object"
      ]
     },
     "execution_count": 50,
     "metadata": {},
     "output_type": "execute_result"
    }
   ],
   "source": [
    "items_df.title_orig.sample(5)"
   ]
  },
  {
   "cell_type": "code",
   "execution_count": 51,
   "metadata": {},
   "outputs": [
    {
     "data": {
      "text/html": [
       "<div>\n",
       "<style scoped>\n",
       "    .dataframe tbody tr th:only-of-type {\n",
       "        vertical-align: middle;\n",
       "    }\n",
       "\n",
       "    .dataframe tbody tr th {\n",
       "        vertical-align: top;\n",
       "    }\n",
       "\n",
       "    .dataframe thead th {\n",
       "        text-align: right;\n",
       "    }\n",
       "</style>\n",
       "<table border=\"1\" class=\"dataframe\">\n",
       "  <thead>\n",
       "    <tr style=\"text-align: right;\">\n",
       "      <th></th>\n",
       "      <th>title</th>\n",
       "      <th>title_orig</th>\n",
       "    </tr>\n",
       "  </thead>\n",
       "  <tbody>\n",
       "    <tr>\n",
       "      <th>7106</th>\n",
       "      <td>кальви - столица корсиканского сада. корсика</td>\n",
       "      <td>the corsican garden capital</td>\n",
       "    </tr>\n",
       "    <tr>\n",
       "      <th>8071</th>\n",
       "      <td>ной</td>\n",
       "      <td>none</td>\n",
       "    </tr>\n",
       "    <tr>\n",
       "      <th>10439</th>\n",
       "      <td>казнь после смерти</td>\n",
       "      <td>өлімнен соңғы жаза</td>\n",
       "    </tr>\n",
       "    <tr>\n",
       "      <th>5848</th>\n",
       "      <td>поезд в пусан (расширенная версия)</td>\n",
       "      <td>train to busan  (extended version)</td>\n",
       "    </tr>\n",
       "    <tr>\n",
       "      <th>516</th>\n",
       "      <td>к-19</td>\n",
       "      <td>k-19: the widowmaker</td>\n",
       "    </tr>\n",
       "    <tr>\n",
       "      <th>998</th>\n",
       "      <td>экстрасенсы</td>\n",
       "      <td>solace</td>\n",
       "    </tr>\n",
       "    <tr>\n",
       "      <th>15366</th>\n",
       "      <td>горбатые киты. французская полинезия</td>\n",
       "      <td>humpback whales</td>\n",
       "    </tr>\n",
       "    <tr>\n",
       "      <th>12769</th>\n",
       "      <td>риф. новые приключения (с тифлокомментарием)</td>\n",
       "      <td>go fish (with audio description)</td>\n",
       "    </tr>\n",
       "    <tr>\n",
       "      <th>5463</th>\n",
       "      <td>невидимка</td>\n",
       "      <td>hollow man</td>\n",
       "    </tr>\n",
       "    <tr>\n",
       "      <th>4148</th>\n",
       "      <td>сыщик</td>\n",
       "      <td>syshchik</td>\n",
       "    </tr>\n",
       "  </tbody>\n",
       "</table>\n",
       "</div>"
      ],
      "text/plain": [
       "                                              title  \\\n",
       "7106   кальви - столица корсиканского сада. корсика   \n",
       "8071                                            ной   \n",
       "10439                            казнь после смерти   \n",
       "5848             поезд в пусан (расширенная версия)   \n",
       "516                                            к-19   \n",
       "998                                     экстрасенсы   \n",
       "15366          горбатые киты. французская полинезия   \n",
       "12769  риф. новые приключения (с тифлокомментарием)   \n",
       "5463                                      невидимка   \n",
       "4148                                          сыщик   \n",
       "\n",
       "                               title_orig  \n",
       "7106          the corsican garden capital  \n",
       "8071                                 none  \n",
       "10439                  өлімнен соңғы жаза  \n",
       "5848   train to busan  (extended version)  \n",
       "516                  k-19: the widowmaker  \n",
       "998                                solace  \n",
       "15366                     humpback whales  \n",
       "12769    go fish (with audio description)  \n",
       "5463                           hollow man  \n",
       "4148                             syshchik  "
      ]
     },
     "execution_count": 51,
     "metadata": {},
     "output_type": "execute_result"
    }
   ],
   "source": [
    "items_df[['title', 'title_orig']].sample(10)"
   ]
  },
  {
   "cell_type": "code",
   "execution_count": 52,
   "metadata": {},
   "outputs": [
    {
     "data": {
      "text/plain": [
       "<Axes: >"
      ]
     },
     "execution_count": 52,
     "metadata": {},
     "output_type": "execute_result"
    },
    {
     "data": {
      "image/png": "[encoded data removed]",
      "text/plain": [
       "<Figure size 1400x800 with 1 Axes>"
      ]
     },
     "metadata": {},
     "output_type": "display_data"
    }
   ],
   "source": [
    "items_df.release_year.hist(figsize=(14, 8), bins=40)"
   ]
  },
  {
   "cell_type": "code",
   "execution_count": 53,
   "metadata": {},
   "outputs": [
    {
     "data": {
      "text/html": [
       "<div>\n",
       "<style scoped>\n",
       "    .dataframe tbody tr th:only-of-type {\n",
       "        vertical-align: middle;\n",
       "    }\n",
       "\n",
       "    .dataframe tbody tr th {\n",
       "        vertical-align: top;\n",
       "    }\n",
       "\n",
       "    .dataframe thead th {\n",
       "        text-align: right;\n",
       "    }\n",
       "</style>\n",
       "<table border=\"1\" class=\"dataframe\">\n",
       "  <thead>\n",
       "    <tr style=\"text-align: right;\">\n",
       "      <th></th>\n",
       "      <th>item_id</th>\n",
       "      <th>content_type</th>\n",
       "      <th>title</th>\n",
       "      <th>title_orig</th>\n",
       "      <th>release_year</th>\n",
       "      <th>genres</th>\n",
       "      <th>countries</th>\n",
       "      <th>for_kids</th>\n",
       "      <th>age_rating</th>\n",
       "      <th>studios</th>\n",
       "      <th>directors</th>\n",
       "      <th>actors</th>\n",
       "      <th>description</th>\n",
       "      <th>keywords</th>\n",
       "    </tr>\n",
       "  </thead>\n",
       "  <tbody>\n",
       "    <tr>\n",
       "      <th>15609</th>\n",
       "      <td>15173</td>\n",
       "      <td>1</td>\n",
       "      <td>порт - сересо осака</td>\n",
       "      <td>none</td>\n",
       "      <td>NaN</td>\n",
       "      <td>футбол</td>\n",
       "      <td>Россия</td>\n",
       "      <td>NaN</td>\n",
       "      <td>0.0</td>\n",
       "      <td>NaN</td>\n",
       "      <td>NaN</td>\n",
       "      <td>NaN</td>\n",
       "      <td>Лига чемпионов AFC - это главный клубный футбо...</td>\n",
       "      <td>Порт, -, Сересо, Осака, Россия, спорт-фитнес, ...</td>\n",
       "    </tr>\n",
       "    <tr>\n",
       "      <th>6283</th>\n",
       "      <td>10185</td>\n",
       "      <td>0</td>\n",
       "      <td>прокачка</td>\n",
       "      <td>none</td>\n",
       "      <td>NaN</td>\n",
       "      <td>фитнес, спорт</td>\n",
       "      <td>NaN</td>\n",
       "      <td>NaN</td>\n",
       "      <td>6.0</td>\n",
       "      <td>NaN</td>\n",
       "      <td>NaN</td>\n",
       "      <td>NaN</td>\n",
       "      <td>Прокачай свое тело вместе с комплексом трениро...</td>\n",
       "      <td>Прокачка</td>\n",
       "    </tr>\n",
       "    <tr>\n",
       "      <th>5973</th>\n",
       "      <td>6872</td>\n",
       "      <td>0</td>\n",
       "      <td>жиросжигающий интенсив</td>\n",
       "      <td>none</td>\n",
       "      <td>NaN</td>\n",
       "      <td>фитнес</td>\n",
       "      <td>Россия</td>\n",
       "      <td>NaN</td>\n",
       "      <td>6.0</td>\n",
       "      <td>NaN</td>\n",
       "      <td>NaN</td>\n",
       "      <td>NaN</td>\n",
       "      <td>Программа от Motify интенсивных тренировок для...</td>\n",
       "      <td>Жиросжигающий, интенсив, Россия, спорт-фитнес,...</td>\n",
       "    </tr>\n",
       "    <tr>\n",
       "      <th>9653</th>\n",
       "      <td>13608</td>\n",
       "      <td>0</td>\n",
       "      <td>путь к гармонии</td>\n",
       "      <td>none</td>\n",
       "      <td>NaN</td>\n",
       "      <td>фитнес, спорт</td>\n",
       "      <td>NaN</td>\n",
       "      <td>NaN</td>\n",
       "      <td>6.0</td>\n",
       "      <td>NaN</td>\n",
       "      <td>NaN</td>\n",
       "      <td>NaN</td>\n",
       "      <td>Программа медитации от Motify, которая поможет...</td>\n",
       "      <td>ПУТЬ, К, ГАРМОНИИ</td>\n",
       "    </tr>\n",
       "    <tr>\n",
       "      <th>13494</th>\n",
       "      <td>10276</td>\n",
       "      <td>1</td>\n",
       "      <td>джохор - пхохан стилерс</td>\n",
       "      <td>none</td>\n",
       "      <td>NaN</td>\n",
       "      <td>футбол</td>\n",
       "      <td>Россия</td>\n",
       "      <td>NaN</td>\n",
       "      <td>0.0</td>\n",
       "      <td>NaN</td>\n",
       "      <td>NaN</td>\n",
       "      <td>NaN</td>\n",
       "      <td>Лига чемпионов AFC - это главный клубный футбо...</td>\n",
       "      <td>Джохор, -, Пхохан, Стилерс, Россия, спорт-фитн...</td>\n",
       "    </tr>\n",
       "  </tbody>\n",
       "</table>\n",
       "</div>"
      ],
      "text/plain": [
       "       item_id  content_type                    title title_orig  \\\n",
       "15609    15173             1      порт - сересо осака       none   \n",
       "6283     10185             0                 прокачка       none   \n",
       "5973      6872             0   жиросжигающий интенсив       none   \n",
       "9653     13608             0          путь к гармонии       none   \n",
       "13494    10276             1  джохор - пхохан стилерс       none   \n",
       "\n",
       "       release_year         genres countries  for_kids  age_rating studios  \\\n",
       "15609           NaN         футбол    Россия       NaN         0.0     NaN   \n",
       "6283            NaN  фитнес, спорт       NaN       NaN         6.0     NaN   \n",
       "5973            NaN         фитнес    Россия       NaN         6.0     NaN   \n",
       "9653            NaN  фитнес, спорт       NaN       NaN         6.0     NaN   \n",
       "13494           NaN         футбол    Россия       NaN         0.0     NaN   \n",
       "\n",
       "      directors actors                                        description  \\\n",
       "15609       NaN    NaN  Лига чемпионов AFC - это главный клубный футбо...   \n",
       "6283        NaN    NaN  Прокачай свое тело вместе с комплексом трениро...   \n",
       "5973        NaN    NaN  Программа от Motify интенсивных тренировок для...   \n",
       "9653        NaN    NaN  Программа медитации от Motify, которая поможет...   \n",
       "13494       NaN    NaN  Лига чемпионов AFC - это главный клубный футбо...   \n",
       "\n",
       "                                                keywords  \n",
       "15609  Порт, -, Сересо, Осака, Россия, спорт-фитнес, ...  \n",
       "6283                                            Прокачка  \n",
       "5973   Жиросжигающий, интенсив, Россия, спорт-фитнес,...  \n",
       "9653                                   ПУТЬ, К, ГАРМОНИИ  \n",
       "13494  Джохор, -, Пхохан, Стилерс, Россия, спорт-фитн...  "
      ]
     },
     "execution_count": 53,
     "metadata": {},
     "output_type": "execute_result"
    }
   ],
   "source": [
    "items_df[items_df['release_year'].isna()].sample(5)"
   ]
  },
  {
   "cell_type": "code",
   "execution_count": 54,
   "metadata": {},
   "outputs": [
    {
     "data": {
      "text/plain": [
       "genres                                                 countries       \n",
       "фитнес                                                 Россия              59\n",
       "футбол                                                 Россия              22\n",
       "зарубежные, детские песни, развитие, для детей         Республика Корея     1\n",
       "зарубежные, для детей, западные мультфильмы, развитие  Республика Корея     1\n",
       "фитнес                                                 Великобритания       1\n",
       "Name: count, dtype: int64"
      ]
     },
     "execution_count": 54,
     "metadata": {},
     "output_type": "execute_result"
    }
   ],
   "source": [
    "items_df[items_df['release_year'].isna()][['genres', 'countries']].value_counts().head(10)"
   ]
  },
  {
   "cell_type": "code",
   "execution_count": 55,
   "metadata": {},
   "outputs": [
    {
     "data": {
      "text/plain": [
       "np.int64(98)"
      ]
     },
     "execution_count": 55,
     "metadata": {},
     "output_type": "execute_result"
    }
   ],
   "source": [
    "items_df.release_year.isna().sum()"
   ]
  },
  {
   "cell_type": "code",
   "execution_count": 56,
   "metadata": {},
   "outputs": [],
   "source": [
    "import re\n",
    "\n",
    "def extract_year(keywords):\n",
    "    match = re.search(r\"\\b(19\\d{2}|20\\d{2})\\b\", keywords)\n",
    "    return match.group(0) if match else None\n",
    "\n",
    "items_df[\"release_year\"] = items_df.apply(\n",
    "    lambda row: extract_year(row[\"keywords\"]) if pd.isna(row[\"release_year\"]) else row[\"release_year\"],\n",
    "    axis=1\n",
    ")"
   ]
  },
  {
   "cell_type": "code",
   "execution_count": 57,
   "metadata": {},
   "outputs": [
    {
     "data": {
      "text/plain": [
       "np.int64(77)"
      ]
     },
     "execution_count": 57,
     "metadata": {},
     "output_type": "execute_result"
    }
   ],
   "source": [
    "items_df.release_year.isna().sum()"
   ]
  },
  {
   "cell_type": "code",
   "execution_count": 58,
   "metadata": {},
   "outputs": [],
   "source": [
    "items_df['release_year_cat'] = 'None'\n",
    "items_df['release_year'] = pd.to_numeric(items_df['release_year'], errors='coerce')\n",
    "\n",
    "items_df.loc[(items_df['release_year'].notna()) & (items_df['release_year'] < 1920), 'release_year_cat'] = 'inf_1920'\n",
    "items_df.loc[(items_df['release_year'].notna()) & (items_df['release_year'] >= 2020), 'release_year_cat'] = '2020_inf'\n",
    "\n",
    "for i in range(1920, 2020, 10):\n",
    "    mask = (items_df['release_year'].notna()) & (items_df['release_year'] >= i) & (items_df['release_year'] < i + 10)\n",
    "    items_df.loc[mask, 'release_year_cat'] = f'{i}-{i+10}'"
   ]
  },
  {
   "cell_type": "code",
   "execution_count": 59,
   "metadata": {},
   "outputs": [
    {
     "data": {
      "text/plain": [
       "release_year_cat\n",
       "2010-2020    8788\n",
       "2020_inf     2199\n",
       "2000-2010    2168\n",
       "1980-1990     745\n",
       "1990-2000     636\n",
       "1970-1980     553\n",
       "1960-1970     342\n",
       "1950-1960     199\n",
       "1940-1950     117\n",
       "1930-1940     104\n",
       "None           77\n",
       "1920-1930      24\n",
       "inf_1920       11\n",
       "Name: count, dtype: int64"
      ]
     },
     "execution_count": 59,
     "metadata": {},
     "output_type": "execute_result"
    }
   ],
   "source": [
    "items_df.release_year_cat.value_counts()"
   ]
  },
  {
   "cell_type": "code",
   "execution_count": 60,
   "metadata": {},
   "outputs": [
    {
     "data": {
      "text/html": [
       "<div>\n",
       "<style scoped>\n",
       "    .dataframe tbody tr th:only-of-type {\n",
       "        vertical-align: middle;\n",
       "    }\n",
       "\n",
       "    .dataframe tbody tr th {\n",
       "        vertical-align: top;\n",
       "    }\n",
       "\n",
       "    .dataframe thead th {\n",
       "        text-align: right;\n",
       "    }\n",
       "</style>\n",
       "<table border=\"1\" class=\"dataframe\">\n",
       "  <thead>\n",
       "    <tr style=\"text-align: right;\">\n",
       "      <th></th>\n",
       "      <th>item_id</th>\n",
       "      <th>content_type</th>\n",
       "      <th>title</th>\n",
       "      <th>title_orig</th>\n",
       "      <th>release_year</th>\n",
       "      <th>genres</th>\n",
       "      <th>countries</th>\n",
       "      <th>for_kids</th>\n",
       "      <th>age_rating</th>\n",
       "      <th>studios</th>\n",
       "      <th>directors</th>\n",
       "      <th>actors</th>\n",
       "      <th>description</th>\n",
       "      <th>keywords</th>\n",
       "      <th>release_year_cat</th>\n",
       "    </tr>\n",
       "  </thead>\n",
       "  <tbody>\n",
       "    <tr>\n",
       "      <th>13514</th>\n",
       "      <td>12774</td>\n",
       "      <td>1</td>\n",
       "      <td>дорожное приключение</td>\n",
       "      <td>road trip</td>\n",
       "      <td>2000.0</td>\n",
       "      <td>комедии</td>\n",
       "      <td>США</td>\n",
       "      <td>NaN</td>\n",
       "      <td>18.0</td>\n",
       "      <td>NaN</td>\n",
       "      <td>Тодд Филлипс</td>\n",
       "      <td>Брекин Мейер, Шонн Уильям Скотт, Эми Смарт, Па...</td>\n",
       "      <td>Студент Джош изменил своей девушке Тиффани, ко...</td>\n",
       "      <td>сексизм, банк спермы, политика, блондинка, пое...</td>\n",
       "      <td>2000-2010</td>\n",
       "    </tr>\n",
       "    <tr>\n",
       "      <th>11931</th>\n",
       "      <td>14781</td>\n",
       "      <td>1</td>\n",
       "      <td>обратный билет</td>\n",
       "      <td>none</td>\n",
       "      <td>2012.0</td>\n",
       "      <td>русские, мелодрамы</td>\n",
       "      <td>Россия</td>\n",
       "      <td>NaN</td>\n",
       "      <td>12.0</td>\n",
       "      <td>NaN</td>\n",
       "      <td>Александр Кананович</td>\n",
       "      <td>Андрей Биланов, Дианисий Толоконников, Елена П...</td>\n",
       "      <td>Фильм рассказывает о девушке Марии, которая бы...</td>\n",
       "      <td>Обратный, билет, 2012, Россия, жизнь, преступл...</td>\n",
       "      <td>2010-2020</td>\n",
       "    </tr>\n",
       "    <tr>\n",
       "      <th>2568</th>\n",
       "      <td>6725</td>\n",
       "      <td>0</td>\n",
       "      <td>песни про машины</td>\n",
       "      <td>none</td>\n",
       "      <td>NaN</td>\n",
       "      <td>зарубежные, детские песни, развитие, для детей</td>\n",
       "      <td>Республика Корея</td>\n",
       "      <td>NaN</td>\n",
       "      <td>0.0</td>\n",
       "      <td>NaN</td>\n",
       "      <td>NaN</td>\n",
       "      <td>NaN</td>\n",
       "      <td>Сборник красочных песенок, которые рассказываю...</td>\n",
       "      <td>Песни, про, Машины, Южная, Корея, музыка, добр...</td>\n",
       "      <td>None</td>\n",
       "    </tr>\n",
       "    <tr>\n",
       "      <th>12960</th>\n",
       "      <td>14030</td>\n",
       "      <td>0</td>\n",
       "      <td>любви целительная сила</td>\n",
       "      <td>lyubvi tselitelnaya sila</td>\n",
       "      <td>2012.0</td>\n",
       "      <td>мелодрамы</td>\n",
       "      <td>Россия</td>\n",
       "      <td>NaN</td>\n",
       "      <td>16.0</td>\n",
       "      <td>NaN</td>\n",
       "      <td>Виктор Татарский</td>\n",
       "      <td>Лянка Грыу, Алексей Анищенко, Ольга Рептух, Ма...</td>\n",
       "      <td>У Ани большая радость - она побеждает на конку...</td>\n",
       "      <td>NaN</td>\n",
       "      <td>2010-2020</td>\n",
       "    </tr>\n",
       "    <tr>\n",
       "      <th>14231</th>\n",
       "      <td>101</td>\n",
       "      <td>1</td>\n",
       "      <td>куриоса</td>\n",
       "      <td>curiosa</td>\n",
       "      <td>2019.0</td>\n",
       "      <td>историческое, мелодрамы</td>\n",
       "      <td>Франция</td>\n",
       "      <td>NaN</td>\n",
       "      <td>18.0</td>\n",
       "      <td>NaN</td>\n",
       "      <td>Лу Жене</td>\n",
       "      <td>Ноэми Мерлан, Нильс Шнайдер, Бенжамен Лаверн, ...</td>\n",
       "      <td>Историческая драма про любовный треугольник, к...</td>\n",
       "      <td>, 1890-е, Большой пенис, Брак без секса, Вдохн...</td>\n",
       "      <td>2010-2020</td>\n",
       "    </tr>\n",
       "  </tbody>\n",
       "</table>\n",
       "</div>"
      ],
      "text/plain": [
       "       item_id  content_type                   title  \\\n",
       "13514    12774             1    дорожное приключение   \n",
       "11931    14781             1          обратный билет   \n",
       "2568      6725             0        песни про машины   \n",
       "12960    14030             0  любви целительная сила   \n",
       "14231      101             1                 куриоса   \n",
       "\n",
       "                     title_orig  release_year  \\\n",
       "13514                 road trip        2000.0   \n",
       "11931                      none        2012.0   \n",
       "2568                       none           NaN   \n",
       "12960  lyubvi tselitelnaya sila        2012.0   \n",
       "14231                   curiosa        2019.0   \n",
       "\n",
       "                                               genres         countries  \\\n",
       "13514                                         комедии               США   \n",
       "11931                              русские, мелодрамы            Россия   \n",
       "2568   зарубежные, детские песни, развитие, для детей  Республика Корея   \n",
       "12960                                       мелодрамы            Россия   \n",
       "14231                         историческое, мелодрамы           Франция   \n",
       "\n",
       "       for_kids  age_rating studios            directors  \\\n",
       "13514       NaN        18.0     NaN         Тодд Филлипс   \n",
       "11931       NaN        12.0     NaN  Александр Кананович   \n",
       "2568        NaN         0.0     NaN                  NaN   \n",
       "12960       NaN        16.0     NaN     Виктор Татарский   \n",
       "14231       NaN        18.0     NaN              Лу Жене   \n",
       "\n",
       "                                                  actors  \\\n",
       "13514  Брекин Мейер, Шонн Уильям Скотт, Эми Смарт, Па...   \n",
       "11931  Андрей Биланов, Дианисий Толоконников, Елена П...   \n",
       "2568                                                 NaN   \n",
       "12960  Лянка Грыу, Алексей Анищенко, Ольга Рептух, Ма...   \n",
       "14231  Ноэми Мерлан, Нильс Шнайдер, Бенжамен Лаверн, ...   \n",
       "\n",
       "                                             description  \\\n",
       "13514  Студент Джош изменил своей девушке Тиффани, ко...   \n",
       "11931  Фильм рассказывает о девушке Марии, которая бы...   \n",
       "2568   Сборник красочных песенок, которые рассказываю...   \n",
       "12960  У Ани большая радость - она побеждает на конку...   \n",
       "14231  Историческая драма про любовный треугольник, к...   \n",
       "\n",
       "                                                keywords release_year_cat  \n",
       "13514  сексизм, банк спермы, политика, блондинка, пое...        2000-2010  \n",
       "11931  Обратный, билет, 2012, Россия, жизнь, преступл...        2010-2020  \n",
       "2568   Песни, про, Машины, Южная, Корея, музыка, добр...             None  \n",
       "12960                                                NaN        2010-2020  \n",
       "14231  , 1890-е, Большой пенис, Брак без секса, Вдохн...        2010-2020  "
      ]
     },
     "execution_count": 60,
     "metadata": {},
     "output_type": "execute_result"
    }
   ],
   "source": [
    "items_df.sample(5)"
   ]
  },
  {
   "cell_type": "code",
   "execution_count": 61,
   "metadata": {},
   "outputs": [
    {
     "data": {
      "text/plain": [
       "genres\n",
       "документальное                                                             816\n",
       "драмы                                                                      719\n",
       "комедии                                                                    564\n",
       "для взрослых                                                               482\n",
       "русские, мелодрамы                                                         416\n",
       "                                                                          ... \n",
       "драмы, зарубежные, спорт, семейное, комедии                                  1\n",
       "музыкальные, драмы, зарубежные, семейное, комедии                            1\n",
       "приключения, полнометражные, зарубежные, семейное, западные мультфильмы      1\n",
       "детективы, приключения, зарубежные, триллеры, ужасы                          1\n",
       "фэнтези, семейное, криминал, комедии                                         1\n",
       "Name: count, Length: 2771, dtype: int64"
      ]
     },
     "execution_count": 61,
     "metadata": {},
     "output_type": "execute_result"
    }
   ],
   "source": [
    "items_df.genres.value_counts()"
   ]
  },
  {
   "cell_type": "code",
   "execution_count": 62,
   "metadata": {},
   "outputs": [
    {
     "data": {
      "text/plain": [
       "np.int64(0)"
      ]
     },
     "execution_count": 62,
     "metadata": {},
     "output_type": "execute_result"
    }
   ],
   "source": [
    "items_df.genres.isnull().sum()"
   ]
  },
  {
   "cell_type": "code",
   "execution_count": 63,
   "metadata": {},
   "outputs": [
    {
     "name": "stderr",
     "output_type": "stream",
     "text": [
      "2025-02-24 19:57:01 INFO: Checking for updates to resources.json in case models have been updated.  Note: this behavior can be turned off with download_method=None or download_method=DownloadMethod.REUSE_RESOURCES\n"
     ]
    },
    {
     "data": {
      "application/vnd.jupyter.widget-view+json": {
       "model_id": "fd1dd629e77c41ab98a08cc967c031ca",
       "version_major": 2,
       "version_minor": 0
      },
      "text/plain": [
       "Downloading https://raw.githubusercontent.com/stanfordnlp/stanza-resources/main/resources_1.10.0.json:   0%|  …"
      ]
     },
     "metadata": {},
     "output_type": "display_data"
    },
    {
     "name": "stderr",
     "output_type": "stream",
     "text": [
      "2025-02-24 19:57:01 INFO: Downloaded file to /Users/maksvell/stanza_resources/resources.json\n",
      "2025-02-24 19:57:02 INFO: Loading these models for language: ru (Russian):\n",
      "==================================\n",
      "| Processor | Package            |\n",
      "----------------------------------\n",
      "| tokenize  | syntagrus          |\n",
      "| pos       | syntagrus_charlm   |\n",
      "| lemma     | syntagrus_nocharlm |\n",
      "==================================\n",
      "\n",
      "2025-02-24 19:57:02 INFO: Using device: cpu\n",
      "2025-02-24 19:57:02 INFO: Loading: tokenize\n",
      "2025-02-24 19:57:02 INFO: Loading: pos\n",
      "2025-02-24 19:57:03 INFO: Loading: lemma\n",
      "2025-02-24 19:57:04 INFO: Done loading processors!\n"
     ]
    }
   ],
   "source": [
    "nlp = stanza.Pipeline('ru', processors='tokenize,pos,lemma')\n",
    "\n",
    "def lemmatize_genres_russian(genres):\n",
    "    if pd.isna(genres): \n",
    "        return ''\n",
    "    \n",
    "    genre_list = genres.split(', ') \n",
    "    lemmatized_genres = []\n",
    "    \n",
    "    for genre in genre_list:\n",
    "        doc = nlp(genre)\n",
    "        lemmatized_genre = \" \".join([word.lemma for word in doc.iter_words()])\n",
    "        lemmatized_genres.append(lemmatized_genre)\n",
    "    \n",
    "    return \", \".join(lemmatized_genres)"
   ]
  },
  {
   "cell_type": "code",
   "execution_count": 64,
   "metadata": {},
   "outputs": [],
   "source": [
    "items_df['genres'] = items_df['genres'].apply(lemmatize_genres_russian)"
   ]
  },
  {
   "cell_type": "code",
   "execution_count": 65,
   "metadata": {},
   "outputs": [
    {
     "data": {
      "text/plain": [
       "14292                                                драма\n",
       "10156                    драма, мелодрама, фэнтез, комедия\n",
       "15053       боевик, драма, зарубежный, триллер, фантастика\n",
       "11565    детский, полнометражный, приключение, зарубежн...\n",
       "1783                            мелодрама, фэнтез, комедия\n",
       "304                                            мультсериал\n",
       "9063                            драма, зарубежный, комедия\n",
       "3069                                                 драма\n",
       "716                                           для взрослый\n",
       "15893                              русский, документальный\n",
       "Name: genres, dtype: object"
      ]
     },
     "execution_count": 65,
     "metadata": {},
     "output_type": "execute_result"
    }
   ],
   "source": [
    "items_df.genres.sample(10)"
   ]
  },
  {
   "cell_type": "code",
   "execution_count": 66,
   "metadata": {},
   "outputs": [
    {
     "data": {
      "text/plain": [
       "countries\n",
       "Россия                                                                  4237\n",
       "США                                                                     4090\n",
       "СССР                                                                    1401\n",
       "Франция                                                                 1158\n",
       "Великобритания                                                           718\n",
       "                                                                        ... \n",
       "Франция, Китай                                                             1\n",
       "Мальта                                                                     1\n",
       "Великобритания, Ирландия, Канада, США, Индия                               1\n",
       "Швеция, Германия, Норвегия, Дания, Исландия, Бельгия, Великобритания       1\n",
       "Финляндия, Германия                                                        1\n",
       "Name: count, Length: 687, dtype: int64"
      ]
     },
     "execution_count": 66,
     "metadata": {},
     "output_type": "execute_result"
    }
   ],
   "source": [
    "items_df.countries.value_counts()"
   ]
  },
  {
   "cell_type": "code",
   "execution_count": 67,
   "metadata": {},
   "outputs": [
    {
     "data": {
      "text/plain": [
       "np.int64(37)"
      ]
     },
     "execution_count": 67,
     "metadata": {},
     "output_type": "execute_result"
    }
   ],
   "source": [
    "items_df.countries.isnull().sum()"
   ]
  },
  {
   "cell_type": "code",
   "execution_count": 68,
   "metadata": {},
   "outputs": [
    {
     "data": {
      "text/html": [
       "<div>\n",
       "<style scoped>\n",
       "    .dataframe tbody tr th:only-of-type {\n",
       "        vertical-align: middle;\n",
       "    }\n",
       "\n",
       "    .dataframe tbody tr th {\n",
       "        vertical-align: top;\n",
       "    }\n",
       "\n",
       "    .dataframe thead th {\n",
       "        text-align: right;\n",
       "    }\n",
       "</style>\n",
       "<table border=\"1\" class=\"dataframe\">\n",
       "  <thead>\n",
       "    <tr style=\"text-align: right;\">\n",
       "      <th></th>\n",
       "      <th>item_id</th>\n",
       "      <th>content_type</th>\n",
       "      <th>title</th>\n",
       "      <th>title_orig</th>\n",
       "      <th>release_year</th>\n",
       "      <th>genres</th>\n",
       "      <th>countries</th>\n",
       "      <th>for_kids</th>\n",
       "      <th>age_rating</th>\n",
       "      <th>studios</th>\n",
       "      <th>directors</th>\n",
       "      <th>actors</th>\n",
       "      <th>description</th>\n",
       "      <th>keywords</th>\n",
       "      <th>release_year_cat</th>\n",
       "    </tr>\n",
       "  </thead>\n",
       "  <tbody>\n",
       "    <tr>\n",
       "      <th>5662</th>\n",
       "      <td>15019</td>\n",
       "      <td>0</td>\n",
       "      <td>работа в офисе</td>\n",
       "      <td>none</td>\n",
       "      <td>NaN</td>\n",
       "      <td>фитнес, спорт</td>\n",
       "      <td>NaN</td>\n",
       "      <td>NaN</td>\n",
       "      <td>6.0</td>\n",
       "      <td>NaN</td>\n",
       "      <td>NaN</td>\n",
       "      <td>NaN</td>\n",
       "      <td>Цель программы модифицировать привычный пассив...</td>\n",
       "      <td>Работа, офисе</td>\n",
       "      <td>None</td>\n",
       "    </tr>\n",
       "    <tr>\n",
       "      <th>14830</th>\n",
       "      <td>10251</td>\n",
       "      <td>0</td>\n",
       "      <td>работа со стопой</td>\n",
       "      <td>none</td>\n",
       "      <td>NaN</td>\n",
       "      <td>фитнес, спорт</td>\n",
       "      <td>NaN</td>\n",
       "      <td>NaN</td>\n",
       "      <td>6.0</td>\n",
       "      <td>NaN</td>\n",
       "      <td>NaN</td>\n",
       "      <td>NaN</td>\n",
       "      <td>Уникальная тренировочная программа рассчитана ...</td>\n",
       "      <td>Работа, со, стопой</td>\n",
       "      <td>None</td>\n",
       "    </tr>\n",
       "    <tr>\n",
       "      <th>374</th>\n",
       "      <td>10656</td>\n",
       "      <td>0</td>\n",
       "      <td>медитации для жизни</td>\n",
       "      <td>none</td>\n",
       "      <td>NaN</td>\n",
       "      <td>фитнес</td>\n",
       "      <td>NaN</td>\n",
       "      <td>NaN</td>\n",
       "      <td>6.0</td>\n",
       "      <td>NaN</td>\n",
       "      <td>NaN</td>\n",
       "      <td>NaN</td>\n",
       "      <td>В этой программе собраны 3 базовых урока, на к...</td>\n",
       "      <td>Медитации, для, жизни, спорт-фитнес, спорт-тре...</td>\n",
       "      <td>None</td>\n",
       "    </tr>\n",
       "    <tr>\n",
       "      <th>9875</th>\n",
       "      <td>14893</td>\n",
       "      <td>0</td>\n",
       "      <td>похудение и рельеф</td>\n",
       "      <td>none</td>\n",
       "      <td>2020.0</td>\n",
       "      <td>фитнес, спорт</td>\n",
       "      <td>NaN</td>\n",
       "      <td>NaN</td>\n",
       "      <td>6.0</td>\n",
       "      <td>NaN</td>\n",
       "      <td>NaN</td>\n",
       "      <td>NaN</td>\n",
       "      <td>Комплекс вы можете выполнять 4-5 недель в дома...</td>\n",
       "      <td>Похудение, рельеф, 2020, спорт-фитнес, спорт-т...</td>\n",
       "      <td>2020_inf</td>\n",
       "    </tr>\n",
       "    <tr>\n",
       "      <th>2483</th>\n",
       "      <td>15508</td>\n",
       "      <td>0</td>\n",
       "      <td>тайная комната</td>\n",
       "      <td>none</td>\n",
       "      <td>2021.0</td>\n",
       "      <td>русский, для ребенок, сериал, приключение, раз...</td>\n",
       "      <td>NaN</td>\n",
       "      <td>NaN</td>\n",
       "      <td>0.0</td>\n",
       "      <td>NaN</td>\n",
       "      <td>Андрей Бахурин</td>\n",
       "      <td>Виктория Слуцкая, Дмитрий Стрелков</td>\n",
       "      <td>Двое братьев, Даня и Яша, а также их сестрёнка...</td>\n",
       "      <td>Тайная, комната, 2021, магия, волшебство, семь...</td>\n",
       "      <td>2020_inf</td>\n",
       "    </tr>\n",
       "  </tbody>\n",
       "</table>\n",
       "</div>"
      ],
      "text/plain": [
       "       item_id  content_type                title title_orig  release_year  \\\n",
       "5662     15019             0       работа в офисе       none           NaN   \n",
       "14830    10251             0     работа со стопой       none           NaN   \n",
       "374      10656             0  медитации для жизни       none           NaN   \n",
       "9875     14893             0   похудение и рельеф       none        2020.0   \n",
       "2483     15508             0       тайная комната       none        2021.0   \n",
       "\n",
       "                                                  genres countries  for_kids  \\\n",
       "5662                                       фитнес, спорт       NaN       NaN   \n",
       "14830                                      фитнес, спорт       NaN       NaN   \n",
       "374                                               фитнес       NaN       NaN   \n",
       "9875                                       фитнес, спорт       NaN       NaN   \n",
       "2483   русский, для ребенок, сериал, приключение, раз...       NaN       NaN   \n",
       "\n",
       "       age_rating studios       directors                              actors  \\\n",
       "5662          6.0     NaN             NaN                                 NaN   \n",
       "14830         6.0     NaN             NaN                                 NaN   \n",
       "374           6.0     NaN             NaN                                 NaN   \n",
       "9875          6.0     NaN             NaN                                 NaN   \n",
       "2483          0.0     NaN  Андрей Бахурин  Виктория Слуцкая, Дмитрий Стрелков   \n",
       "\n",
       "                                             description  \\\n",
       "5662   Цель программы модифицировать привычный пассив...   \n",
       "14830  Уникальная тренировочная программа рассчитана ...   \n",
       "374    В этой программе собраны 3 базовых урока, на к...   \n",
       "9875   Комплекс вы можете выполнять 4-5 недель в дома...   \n",
       "2483   Двое братьев, Даня и Яша, а также их сестрёнка...   \n",
       "\n",
       "                                                keywords release_year_cat  \n",
       "5662                                       Работа, офисе             None  \n",
       "14830                                 Работа, со, стопой             None  \n",
       "374    Медитации, для, жизни, спорт-фитнес, спорт-тре...             None  \n",
       "9875   Похудение, рельеф, 2020, спорт-фитнес, спорт-т...         2020_inf  \n",
       "2483   Тайная, комната, 2021, магия, волшебство, семь...         2020_inf  "
      ]
     },
     "execution_count": 68,
     "metadata": {},
     "output_type": "execute_result"
    }
   ],
   "source": [
    "items_df[items_df.countries.isna()].sample(5)"
   ]
  },
  {
   "cell_type": "code",
   "execution_count": 69,
   "metadata": {},
   "outputs": [],
   "source": [
    "items_df.loc[items_df.countries.isna(), 'countries'] = 'None'"
   ]
  },
  {
   "cell_type": "code",
   "execution_count": 70,
   "metadata": {},
   "outputs": [],
   "source": [
    "items_df['countries'] = items_df['countries'].str.lower()\n",
    "items_df['countries'] = items_df['countries'].apply(lambda x: ', '.join(sorted(list(set(x.split(', '))))))"
   ]
  },
  {
   "cell_type": "code",
   "execution_count": 71,
   "metadata": {},
   "outputs": [
    {
     "data": {
      "text/plain": [
       "<Axes: xlabel='countries'>"
      ]
     },
     "execution_count": 71,
     "metadata": {},
     "output_type": "execute_result"
    },
    {
     "data": {
      "image/png": "[encoded data removed]",
      "text/plain": [
       "<Figure size 640x480 with 1 Axes>"
      ]
     },
     "metadata": {},
     "output_type": "display_data"
    }
   ],
   "source": [
    "items_df.countries.value_counts().head(20).plot(kind='bar')"
   ]
  },
  {
   "cell_type": "code",
   "execution_count": 72,
   "metadata": {},
   "outputs": [
    {
     "data": {
      "text/plain": [
       "for_kids\n",
       "0.0    452\n",
       "1.0    114\n",
       "Name: count, dtype: int64"
      ]
     },
     "execution_count": 72,
     "metadata": {},
     "output_type": "execute_result"
    }
   ],
   "source": [
    "items_df['for_kids'].value_counts()"
   ]
  },
  {
   "cell_type": "code",
   "execution_count": 73,
   "metadata": {},
   "outputs": [
    {
     "data": {
      "text/plain": [
       "np.int64(15397)"
      ]
     },
     "execution_count": 73,
     "metadata": {},
     "output_type": "execute_result"
    }
   ],
   "source": [
    "items_df.for_kids.isnull().sum()"
   ]
  },
  {
   "cell_type": "code",
   "execution_count": 74,
   "metadata": {},
   "outputs": [],
   "source": [
    "items_df['for_kids'] = items_df['for_kids'].fillna(2)"
   ]
  },
  {
   "cell_type": "code",
   "execution_count": 75,
   "metadata": {},
   "outputs": [
    {
     "data": {
      "text/plain": [
       "for_kids\n",
       "2.0    15397\n",
       "0.0      452\n",
       "1.0      114\n",
       "Name: count, dtype: int64"
      ]
     },
     "execution_count": 75,
     "metadata": {},
     "output_type": "execute_result"
    }
   ],
   "source": [
    "items_df.for_kids.value_counts()"
   ]
  },
  {
   "cell_type": "code",
   "execution_count": 76,
   "metadata": {},
   "outputs": [
    {
     "data": {
      "text/plain": [
       "age_rating\n",
       "16.0    5729\n",
       "12.0    4147\n",
       "18.0    2547\n",
       "6.0     1538\n",
       "0.0     1518\n",
       "21.0     482\n",
       "Name: count, dtype: int64"
      ]
     },
     "execution_count": 76,
     "metadata": {},
     "output_type": "execute_result"
    }
   ],
   "source": [
    "items_df.age_rating.value_counts()"
   ]
  },
  {
   "cell_type": "code",
   "execution_count": 77,
   "metadata": {},
   "outputs": [
    {
     "data": {
      "text/html": [
       "<div>\n",
       "<style scoped>\n",
       "    .dataframe tbody tr th:only-of-type {\n",
       "        vertical-align: middle;\n",
       "    }\n",
       "\n",
       "    .dataframe tbody tr th {\n",
       "        vertical-align: top;\n",
       "    }\n",
       "\n",
       "    .dataframe thead th {\n",
       "        text-align: right;\n",
       "    }\n",
       "</style>\n",
       "<table border=\"1\" class=\"dataframe\">\n",
       "  <thead>\n",
       "    <tr style=\"text-align: right;\">\n",
       "      <th></th>\n",
       "      <th>item_id</th>\n",
       "      <th>content_type</th>\n",
       "      <th>title</th>\n",
       "      <th>title_orig</th>\n",
       "      <th>release_year</th>\n",
       "      <th>genres</th>\n",
       "      <th>countries</th>\n",
       "      <th>for_kids</th>\n",
       "      <th>age_rating</th>\n",
       "      <th>studios</th>\n",
       "      <th>directors</th>\n",
       "      <th>actors</th>\n",
       "      <th>description</th>\n",
       "      <th>keywords</th>\n",
       "      <th>release_year_cat</th>\n",
       "    </tr>\n",
       "  </thead>\n",
       "  <tbody>\n",
       "    <tr>\n",
       "      <th>8297</th>\n",
       "      <td>6316</td>\n",
       "      <td>0</td>\n",
       "      <td>машины-помощники</td>\n",
       "      <td>none</td>\n",
       "      <td>2016.0</td>\n",
       "      <td>русский, для ребенок, сериал, хотеть все знать...</td>\n",
       "      <td>россия</td>\n",
       "      <td>2.0</td>\n",
       "      <td>NaN</td>\n",
       "      <td>NaN</td>\n",
       "      <td>NaN</td>\n",
       "      <td>NaN</td>\n",
       "      <td>Маленькие мальчики всего мира любят играть в м...</td>\n",
       "      <td>Машины-помощники, 2017, Россия, работа, преодо...</td>\n",
       "      <td>2010-2020</td>\n",
       "    </tr>\n",
       "    <tr>\n",
       "      <th>12352</th>\n",
       "      <td>14409</td>\n",
       "      <td>0</td>\n",
       "      <td>бибабу</td>\n",
       "      <td>none</td>\n",
       "      <td>2017.0</td>\n",
       "      <td>русский, сериал, для ребенок, хотеть все знать...</td>\n",
       "      <td>россия</td>\n",
       "      <td>2.0</td>\n",
       "      <td>NaN</td>\n",
       "      <td>NaN</td>\n",
       "      <td>NaN</td>\n",
       "      <td>NaN</td>\n",
       "      <td>В сказочное подводное царство приглашают мален...</td>\n",
       "      <td>друзья, магия и волшебство, рыбы, моря и океан...</td>\n",
       "      <td>2010-2020</td>\n",
       "    </tr>\n",
       "  </tbody>\n",
       "</table>\n",
       "</div>"
      ],
      "text/plain": [
       "       item_id  content_type             title title_orig  release_year  \\\n",
       "8297      6316             0  машины-помощники       none        2016.0   \n",
       "12352    14409             0            бибабу       none        2017.0   \n",
       "\n",
       "                                                  genres countries  for_kids  \\\n",
       "8297   русский, для ребенок, сериал, хотеть все знать...    россия       2.0   \n",
       "12352  русский, сериал, для ребенок, хотеть все знать...    россия       2.0   \n",
       "\n",
       "       age_rating studios directors actors  \\\n",
       "8297          NaN     NaN       NaN    NaN   \n",
       "12352         NaN     NaN       NaN    NaN   \n",
       "\n",
       "                                             description  \\\n",
       "8297   Маленькие мальчики всего мира любят играть в м...   \n",
       "12352  В сказочное подводное царство приглашают мален...   \n",
       "\n",
       "                                                keywords release_year_cat  \n",
       "8297   Машины-помощники, 2017, Россия, работа, преодо...        2010-2020  \n",
       "12352  друзья, магия и волшебство, рыбы, моря и океан...        2010-2020  "
      ]
     },
     "execution_count": 77,
     "metadata": {},
     "output_type": "execute_result"
    }
   ],
   "source": [
    "items_df[items_df.age_rating.isna()]"
   ]
  },
  {
   "cell_type": "code",
   "execution_count": 78,
   "metadata": {},
   "outputs": [],
   "source": [
    "items_df.loc[items_df.age_rating.isna(), 'age_rating'] = 0"
   ]
  },
  {
   "cell_type": "code",
   "execution_count": 79,
   "metadata": {},
   "outputs": [
    {
     "data": {
      "text/plain": [
       "age_rating\n",
       "16.0    5729\n",
       "12.0    4147\n",
       "18.0    2547\n",
       "6.0     1538\n",
       "0.0     1520\n",
       "21.0     482\n",
       "Name: count, dtype: int64"
      ]
     },
     "execution_count": 79,
     "metadata": {},
     "output_type": "execute_result"
    }
   ],
   "source": [
    "items_df.age_rating.value_counts()"
   ]
  },
  {
   "cell_type": "code",
   "execution_count": 80,
   "metadata": {},
   "outputs": [
    {
     "data": {
      "text/plain": [
       "studios\n",
       "HBO                         353\n",
       "Ленфильм                    212\n",
       "Sony Pictures               162\n",
       "Ленфильм, рентв              46\n",
       "Paramount                    46\n",
       "Sky                          30\n",
       "DAZN                         30\n",
       "CBS                          27\n",
       "Starz                        21\n",
       "BBC                          19\n",
       "Universal                    18\n",
       "Showtime                     16\n",
       "Warner Bros. Television      14\n",
       "Cinemax                      10\n",
       "Warner Bros                   9\n",
       "Sony Pictures Television      7\n",
       "Fox                           7\n",
       "Fremantle                     4\n",
       "Endemol                       4\n",
       "Amediateka                    3\n",
       "Sky, Fremantle                2\n",
       "HBO, BBC                      2\n",
       "Мосфильм                      2\n",
       "Sony Plus, рентв              2\n",
       "CBS All Access                2\n",
       "Channel 4                     2\n",
       "Sony Pictures, рентв          2\n",
       "Disney                        2\n",
       "HBO Max                       2\n",
       "Legendary                     1\n",
       "New Regency Productions       1\n",
       "рентв                         1\n",
       "Universal, рентв              1\n",
       "MGM                           1\n",
       "Рок фильм                     1\n",
       "ABC                           1\n",
       "FX                            1\n",
       "Sony Plus                     1\n",
       "Name: count, dtype: int64"
      ]
     },
     "execution_count": 80,
     "metadata": {},
     "output_type": "execute_result"
    }
   ],
   "source": [
    "items_df.studios.value_counts()"
   ]
  },
  {
   "cell_type": "code",
   "execution_count": 81,
   "metadata": {},
   "outputs": [
    {
     "data": {
      "text/plain": [
       "<Axes: xlabel='studios'>"
      ]
     },
     "execution_count": 81,
     "metadata": {},
     "output_type": "execute_result"
    },
    {
     "data": {
      "image/png": "[encoded data removed]",
      "text/plain": [
       "<Figure size 640x480 with 1 Axes>"
      ]
     },
     "metadata": {},
     "output_type": "display_data"
    }
   ],
   "source": [
    "items_df['studios'].value_counts().head(20).plot(kind='bar')"
   ]
  },
  {
   "cell_type": "code",
   "execution_count": 82,
   "metadata": {},
   "outputs": [
    {
     "data": {
      "text/plain": [
       "np.int64(14898)"
      ]
     },
     "execution_count": 82,
     "metadata": {},
     "output_type": "execute_result"
    }
   ],
   "source": [
    "items_df.studios.isnull().sum()"
   ]
  },
  {
   "cell_type": "code",
   "execution_count": 83,
   "metadata": {},
   "outputs": [],
   "source": [
    "items_df['studios'] = items_df['studios'].fillna('None')"
   ]
  },
  {
   "cell_type": "code",
   "execution_count": 84,
   "metadata": {},
   "outputs": [],
   "source": [
    "items_df['studios'] = items_df['studios'].str.lower()\n",
    "items_df['studios'] = items_df['studios'].apply(lambda x: ', '.join(sorted(list(set(x.split(', '))))))"
   ]
  },
  {
   "cell_type": "code",
   "execution_count": 85,
   "metadata": {},
   "outputs": [
    {
     "data": {
      "text/plain": [
       "directors\n",
       "Оливье Шиабоду                     511\n",
       "Денис Франческо                     49\n",
       "Глова Роман Юрьевич                 36\n",
       "Сергей Зарев                        29\n",
       "Альфред Хичкок                      28\n",
       "                                  ... \n",
       "Джей Чандрашекхар                    1\n",
       "Гарт Дженнингс, Кристоф Лурделе      1\n",
       "Кэри Фукунага                        1\n",
       "Пол Вейланд                          1\n",
       "Михаил Миронов                       1\n",
       "Name: count, Length: 7973, dtype: int64"
      ]
     },
     "execution_count": 85,
     "metadata": {},
     "output_type": "execute_result"
    }
   ],
   "source": [
    "items_df.directors.value_counts()"
   ]
  },
  {
   "cell_type": "code",
   "execution_count": 86,
   "metadata": {},
   "outputs": [
    {
     "data": {
      "text/plain": [
       "np.int64(1509)"
      ]
     },
     "execution_count": 86,
     "metadata": {},
     "output_type": "execute_result"
    }
   ],
   "source": [
    "items_df.directors.isnull().sum()"
   ]
  },
  {
   "cell_type": "code",
   "execution_count": 87,
   "metadata": {},
   "outputs": [],
   "source": [
    "items_df['directors'] = items_df['directors'].fillna('None')"
   ]
  },
  {
   "cell_type": "code",
   "execution_count": 88,
   "metadata": {},
   "outputs": [],
   "source": [
    "items_df['directors'] = items_df['directors'].str.lower()"
   ]
  },
  {
   "cell_type": "code",
   "execution_count": 89,
   "metadata": {},
   "outputs": [
    {
     "data": {
      "text/plain": [
       "actors\n",
       "Александр Клюквин                                                                                                                                                              25\n",
       "Тайлер Никсон, Маркус Лондон, Томми Ганн                                                                                                                                       16\n",
       "Жан-Пьер Морель, Оливье Шиабоду                                                                                                                                                 8\n",
       "Кэти Морган                                                                                                                                                                     6\n",
       "Молли Мэнсон                                                                                                                                                                    6\n",
       "                                                                                                                                                                               ..\n",
       "Жанетт Хайн, Ютта-Мерле Бёрнсен, Клаус Тангэ, Йорг Винсент Малотки, Питер Гадиот, Марк Бишофф, Роджер Тебб, Джесси Инман, Манон Кайл, Тадэуш Мейлингер                          1\n",
       "Джон Траволта, Кира Седжвик, Форест Уитакер, Роберт Дювалл, Джеффри ДеМанн, Ричард Кайли, Дэвид Галлахер, Эшли Буккилль, Тони Дженаро, Шон О’Брайан                             1\n",
       "Шарлто Копли, Джейсон Коуп, Сильвен Страйк, Элизабет Мкандави, Джон Самнер, Уильям Аллен Янг, Грег Мелвилл-Смит, Ник Блейк, Нил Бломкамп, Натали Болтт, Морена Буса Сесатса     1\n",
       "Шэй Митчелл, Грэй Дэймон, Кирби Джонсон, Ник Тун, Луис Хертэм, Стана Катик, Максимиллиан МакНамара, Джейкоб Минг-Трент, Джеймс А. Уотсон мл., Марианн Байяр                     1\n",
       "Мкртыч Арзуманян, Виктория Рунцова                                                                                                                                              1\n",
       "Name: count, Length: 12996, dtype: int64"
      ]
     },
     "execution_count": 89,
     "metadata": {},
     "output_type": "execute_result"
    }
   ],
   "source": [
    "items_df.actors.value_counts()"
   ]
  },
  {
   "cell_type": "code",
   "execution_count": 90,
   "metadata": {},
   "outputs": [
    {
     "data": {
      "text/plain": [
       "np.int64(2619)"
      ]
     },
     "execution_count": 90,
     "metadata": {},
     "output_type": "execute_result"
    }
   ],
   "source": [
    "items_df.actors.isnull().sum()"
   ]
  },
  {
   "cell_type": "code",
   "execution_count": 91,
   "metadata": {},
   "outputs": [],
   "source": [
    "items_df['actors'] = items_df['actors'].fillna('None')"
   ]
  },
  {
   "cell_type": "code",
   "execution_count": 92,
   "metadata": {},
   "outputs": [],
   "source": [
    "items_df['actors'] = items_df['actors'].str.lower()"
   ]
  },
  {
   "cell_type": "code",
   "execution_count": 93,
   "metadata": {},
   "outputs": [
    {
     "data": {
      "text/plain": [
       "0    Поговори, ней, 2002, Испания, друзья, любовь, ...\n",
       "1    Голые, перцы, 2014, США, друзья, свадьбы, прео...\n",
       "2    Тактическая, сила, 2011, Канада, бандиты, ганг...\n",
       "3    45, лет, 2015, Великобритания, брак, жизнь, лю...\n",
       "4    Все, решает, мгновение, 1978, СССР, сильные, ж...\n",
       "Name: keywords, dtype: object"
      ]
     },
     "execution_count": 93,
     "metadata": {},
     "output_type": "execute_result"
    }
   ],
   "source": [
    "items_df['keywords'].head()"
   ]
  },
  {
   "cell_type": "code",
   "execution_count": 94,
   "metadata": {},
   "outputs": [
    {
     "data": {
      "text/plain": [
       "np.int64(423)"
      ]
     },
     "execution_count": 94,
     "metadata": {},
     "output_type": "execute_result"
    }
   ],
   "source": [
    "items_df.keywords.isnull().sum()"
   ]
  },
  {
   "cell_type": "code",
   "execution_count": 95,
   "metadata": {},
   "outputs": [],
   "source": [
    "items_df['keywords'] = items_df['keywords'].fillna('None')"
   ]
  },
  {
   "cell_type": "code",
   "execution_count": 96,
   "metadata": {},
   "outputs": [],
   "source": [
    "items_df['keywords'] = items_df['keywords'].str.lower()"
   ]
  },
  {
   "cell_type": "code",
   "execution_count": 97,
   "metadata": {},
   "outputs": [
    {
     "data": {
      "text/plain": [
       "np.int64(2)"
      ]
     },
     "execution_count": 97,
     "metadata": {},
     "output_type": "execute_result"
    }
   ],
   "source": [
    "items_df.description.isnull().sum()"
   ]
  },
  {
   "cell_type": "code",
   "execution_count": 98,
   "metadata": {},
   "outputs": [
    {
     "data": {
      "text/html": [
       "<div>\n",
       "<style scoped>\n",
       "    .dataframe tbody tr th:only-of-type {\n",
       "        vertical-align: middle;\n",
       "    }\n",
       "\n",
       "    .dataframe tbody tr th {\n",
       "        vertical-align: top;\n",
       "    }\n",
       "\n",
       "    .dataframe thead th {\n",
       "        text-align: right;\n",
       "    }\n",
       "</style>\n",
       "<table border=\"1\" class=\"dataframe\">\n",
       "  <thead>\n",
       "    <tr style=\"text-align: right;\">\n",
       "      <th></th>\n",
       "      <th>item_id</th>\n",
       "      <th>content_type</th>\n",
       "      <th>title</th>\n",
       "      <th>title_orig</th>\n",
       "      <th>release_year</th>\n",
       "      <th>genres</th>\n",
       "      <th>countries</th>\n",
       "      <th>for_kids</th>\n",
       "      <th>age_rating</th>\n",
       "      <th>studios</th>\n",
       "      <th>directors</th>\n",
       "      <th>actors</th>\n",
       "      <th>description</th>\n",
       "      <th>keywords</th>\n",
       "      <th>release_year_cat</th>\n",
       "    </tr>\n",
       "  </thead>\n",
       "  <tbody>\n",
       "    <tr>\n",
       "      <th>2660</th>\n",
       "      <td>2112</td>\n",
       "      <td>0</td>\n",
       "      <td>fizica - караоке</td>\n",
       "      <td>none</td>\n",
       "      <td>2020.0</td>\n",
       "      <td>караоке</td>\n",
       "      <td>россия</td>\n",
       "      <td>2.0</td>\n",
       "      <td>0.0</td>\n",
       "      <td>none</td>\n",
       "      <td>none</td>\n",
       "      <td>none</td>\n",
       "      <td>NaN</td>\n",
       "      <td>none</td>\n",
       "      <td>2020_inf</td>\n",
       "    </tr>\n",
       "    <tr>\n",
       "      <th>4297</th>\n",
       "      <td>4879</td>\n",
       "      <td>0</td>\n",
       "      <td>султан разия</td>\n",
       "      <td>razia sultan</td>\n",
       "      <td>2015.0</td>\n",
       "      <td>исторический, индийский кино, зарубежный</td>\n",
       "      <td>индия</td>\n",
       "      <td>2.0</td>\n",
       "      <td>12.0</td>\n",
       "      <td>none</td>\n",
       "      <td>none</td>\n",
       "      <td>панкхури авастхи, рохит пурохит, саурабх панде...</td>\n",
       "      <td>NaN</td>\n",
       "      <td>none</td>\n",
       "      <td>2010-2020</td>\n",
       "    </tr>\n",
       "  </tbody>\n",
       "</table>\n",
       "</div>"
      ],
      "text/plain": [
       "      item_id  content_type             title    title_orig  release_year  \\\n",
       "2660     2112             0  fizica - караоке          none        2020.0   \n",
       "4297     4879             0      султан разия  razia sultan        2015.0   \n",
       "\n",
       "                                        genres countries  for_kids  \\\n",
       "2660                                   караоке    россия       2.0   \n",
       "4297  исторический, индийский кино, зарубежный     индия       2.0   \n",
       "\n",
       "      age_rating studios directors  \\\n",
       "2660         0.0    none      none   \n",
       "4297        12.0    none      none   \n",
       "\n",
       "                                                 actors description keywords  \\\n",
       "2660                                               none         NaN     none   \n",
       "4297  панкхури авастхи, рохит пурохит, саурабх панде...         NaN     none   \n",
       "\n",
       "     release_year_cat  \n",
       "2660         2020_inf  \n",
       "4297        2010-2020  "
      ]
     },
     "execution_count": 98,
     "metadata": {},
     "output_type": "execute_result"
    }
   ],
   "source": [
    "items_df.loc[items_df.description.isnull()]"
   ]
  },
  {
   "cell_type": "code",
   "execution_count": 99,
   "metadata": {},
   "outputs": [],
   "source": [
    "items_df['description'] = items_df['description'].fillna('None')"
   ]
  },
  {
   "cell_type": "code",
   "execution_count": 100,
   "metadata": {},
   "outputs": [
    {
     "data": {
      "text/plain": [
       "np.int64(0)"
      ]
     },
     "execution_count": 100,
     "metadata": {},
     "output_type": "execute_result"
    }
   ],
   "source": [
    "items_df.duplicated(subset=['item_id'], keep=False).sum()"
   ]
  },
  {
   "cell_type": "code",
   "execution_count": 101,
   "metadata": {},
   "outputs": [
    {
     "data": {
      "text/plain": [
       "np.int64(1300)"
      ]
     },
     "execution_count": 101,
     "metadata": {},
     "output_type": "execute_result"
    }
   ],
   "source": [
    "items_df.duplicated(subset=['title'], keep=False).sum()"
   ]
  },
  {
   "cell_type": "code",
   "execution_count": 102,
   "metadata": {},
   "outputs": [
    {
     "data": {
      "text/html": [
       "<div>\n",
       "<style scoped>\n",
       "    .dataframe tbody tr th:only-of-type {\n",
       "        vertical-align: middle;\n",
       "    }\n",
       "\n",
       "    .dataframe tbody tr th {\n",
       "        vertical-align: top;\n",
       "    }\n",
       "\n",
       "    .dataframe thead th {\n",
       "        text-align: right;\n",
       "    }\n",
       "</style>\n",
       "<table border=\"1\" class=\"dataframe\">\n",
       "  <thead>\n",
       "    <tr style=\"text-align: right;\">\n",
       "      <th></th>\n",
       "      <th>content_type</th>\n",
       "      <th>title</th>\n",
       "      <th>countries</th>\n",
       "      <th>for_kids</th>\n",
       "      <th>directors</th>\n",
       "    </tr>\n",
       "  </thead>\n",
       "  <tbody>\n",
       "    <tr>\n",
       "      <th>7333</th>\n",
       "      <td>1</td>\n",
       "      <td>пираты по соседству</td>\n",
       "      <td>нидерланды</td>\n",
       "      <td>2.0</td>\n",
       "      <td>пим ван хёве</td>\n",
       "    </tr>\n",
       "    <tr>\n",
       "      <th>12757</th>\n",
       "      <td>1</td>\n",
       "      <td>пираты по соседству</td>\n",
       "      <td>нидерланды</td>\n",
       "      <td>2.0</td>\n",
       "      <td>пим ван хёве</td>\n",
       "    </tr>\n",
       "  </tbody>\n",
       "</table>\n",
       "</div>"
      ],
      "text/plain": [
       "       content_type                title   countries  for_kids     directors\n",
       "7333              1  пираты по соседству  нидерланды       2.0  пим ван хёве\n",
       "12757             1  пираты по соседству  нидерланды       2.0  пим ван хёве"
      ]
     },
     "execution_count": 102,
     "metadata": {},
     "output_type": "execute_result"
    }
   ],
   "source": [
    "items_df[items_df.duplicated(subset=['content_type', 'countries', 'title', 'directors'], keep=False)].sort_values('title')[['content_type', 'title', 'countries', 'for_kids', 'directors']].head()"
   ]
  },
  {
   "cell_type": "code",
   "execution_count": 103,
   "metadata": {},
   "outputs": [],
   "source": [
    "items_df = items_df.drop_duplicates(subset=['content_type', 'countries', 'title', 'directors'], keep='first')"
   ]
  },
  {
   "cell_type": "code",
   "execution_count": 104,
   "metadata": {},
   "outputs": [],
   "source": [
    "items_df = items_df.replace(['none', 'None'], 'none')"
   ]
  },
  {
   "cell_type": "code",
   "execution_count": 105,
   "metadata": {},
   "outputs": [
    {
     "name": "stdout",
     "output_type": "stream",
     "text": [
      "<class 'pandas.core.frame.DataFrame'>\n",
      "Index: 15962 entries, 0 to 15962\n",
      "Data columns (total 15 columns):\n",
      " #   Column            Non-Null Count  Dtype  \n",
      "---  ------            --------------  -----  \n",
      " 0   item_id           15962 non-null  int64  \n",
      " 1   content_type      15962 non-null  int64  \n",
      " 2   title             15962 non-null  object \n",
      " 3   title_orig        15962 non-null  object \n",
      " 4   release_year      15885 non-null  float64\n",
      " 5   genres            15962 non-null  object \n",
      " 6   countries         15962 non-null  object \n",
      " 7   for_kids          15962 non-null  float64\n",
      " 8   age_rating        15962 non-null  float64\n",
      " 9   studios           15962 non-null  object \n",
      " 10  directors         15962 non-null  object \n",
      " 11  actors            15962 non-null  object \n",
      " 12  description       15962 non-null  object \n",
      " 13  keywords          15962 non-null  object \n",
      " 14  release_year_cat  15962 non-null  object \n",
      "dtypes: float64(3), int64(2), object(10)\n",
      "memory usage: 1.9+ MB\n"
     ]
    }
   ],
   "source": [
    "items_df.info(verbose=True, show_counts=True)"
   ]
  },
  {
   "cell_type": "code",
   "execution_count": 106,
   "metadata": {},
   "outputs": [
    {
     "data": {
      "text/html": [
       "<div>\n",
       "<style scoped>\n",
       "    .dataframe tbody tr th:only-of-type {\n",
       "        vertical-align: middle;\n",
       "    }\n",
       "\n",
       "    .dataframe tbody tr th {\n",
       "        vertical-align: top;\n",
       "    }\n",
       "\n",
       "    .dataframe thead th {\n",
       "        text-align: right;\n",
       "    }\n",
       "</style>\n",
       "<table border=\"1\" class=\"dataframe\">\n",
       "  <thead>\n",
       "    <tr style=\"text-align: right;\">\n",
       "      <th></th>\n",
       "      <th>item_id</th>\n",
       "      <th>content_type</th>\n",
       "      <th>title</th>\n",
       "      <th>title_orig</th>\n",
       "      <th>release_year</th>\n",
       "      <th>genres</th>\n",
       "      <th>countries</th>\n",
       "      <th>for_kids</th>\n",
       "      <th>age_rating</th>\n",
       "      <th>studios</th>\n",
       "      <th>directors</th>\n",
       "      <th>actors</th>\n",
       "      <th>description</th>\n",
       "      <th>keywords</th>\n",
       "      <th>release_year_cat</th>\n",
       "    </tr>\n",
       "  </thead>\n",
       "  <tbody>\n",
       "    <tr>\n",
       "      <th>13126</th>\n",
       "      <td>11150</td>\n",
       "      <td>1</td>\n",
       "      <td>ехали в трамвае ильф и петров</td>\n",
       "      <td>none</td>\n",
       "      <td>1972.0</td>\n",
       "      <td>русский, комедия</td>\n",
       "      <td>ссср</td>\n",
       "      <td>2.0</td>\n",
       "      <td>12.0</td>\n",
       "      <td>none</td>\n",
       "      <td>виктор титов</td>\n",
       "      <td>нина агапова, лев дуров, нина алисова, владими...</td>\n",
       "      <td>Этот фильм будет любопытен всем тем, кто интер...</td>\n",
       "      <td>ехали, трамвае, ильф, петров, 1972, ссср</td>\n",
       "      <td>1970-1980</td>\n",
       "    </tr>\n",
       "    <tr>\n",
       "      <th>15154</th>\n",
       "      <td>9752</td>\n",
       "      <td>1</td>\n",
       "      <td>найти и уничтожить</td>\n",
       "      <td>search and destroy</td>\n",
       "      <td>2020.0</td>\n",
       "      <td>боевик</td>\n",
       "      <td>болгария</td>\n",
       "      <td>2.0</td>\n",
       "      <td>18.0</td>\n",
       "      <td>none</td>\n",
       "      <td>дэнни лернер</td>\n",
       "      <td>дилан брюс, джулиан костов, сергей бадюк, тим ...</td>\n",
       "      <td>Офицер разведки Джон Каттер теряет в бою весь ...</td>\n",
       "      <td>2020, болгария, найти, уничтожить</td>\n",
       "      <td>2020_inf</td>\n",
       "    </tr>\n",
       "    <tr>\n",
       "      <th>7010</th>\n",
       "      <td>16463</td>\n",
       "      <td>1</td>\n",
       "      <td>после. глава 2</td>\n",
       "      <td>after we colided</td>\n",
       "      <td>2020.0</td>\n",
       "      <td>драма, мелодрама</td>\n",
       "      <td>сша</td>\n",
       "      <td>2.0</td>\n",
       "      <td>16.0</td>\n",
       "      <td>none</td>\n",
       "      <td>роджер камбл</td>\n",
       "      <td>джозефина лэнгфорд, хиро файнс-тиффин, дилан с...</td>\n",
       "      <td>Встреча с Хардином разделила её жизнь на до и ...</td>\n",
       "      <td>на основе романа или книги, любовь, подростков...</td>\n",
       "      <td>2020_inf</td>\n",
       "    </tr>\n",
       "    <tr>\n",
       "      <th>7098</th>\n",
       "      <td>15909</td>\n",
       "      <td>1</td>\n",
       "      <td>принцесса лебедь: королевская свадьба</td>\n",
       "      <td>the swan princess: a royal wedding</td>\n",
       "      <td>2020.0</td>\n",
       "      <td>мультфильм, фэнтез, мелодрама</td>\n",
       "      <td>сша</td>\n",
       "      <td>2.0</td>\n",
       "      <td>6.0</td>\n",
       "      <td>none</td>\n",
       "      <td>ричард рич</td>\n",
       "      <td>none</td>\n",
       "      <td>Действие сказки переносится в загадочные, полн...</td>\n",
       "      <td>, любовь, 2020, соединенные штаты, принцесса, ...</td>\n",
       "      <td>2020_inf</td>\n",
       "    </tr>\n",
       "    <tr>\n",
       "      <th>5231</th>\n",
       "      <td>512</td>\n",
       "      <td>1</td>\n",
       "      <td>рядовой чээрин</td>\n",
       "      <td>none</td>\n",
       "      <td>2020.0</td>\n",
       "      <td>военный</td>\n",
       "      <td>россия</td>\n",
       "      <td>2.0</td>\n",
       "      <td>16.0</td>\n",
       "      <td>none</td>\n",
       "      <td>дмитрий кольцов</td>\n",
       "      <td>айтал степанов, александр казанцев, даниил жур...</td>\n",
       "      <td>Глубокая осень 1943 года. Немецкие снайперы хо...</td>\n",
       "      <td>2020, россия, рядовой, чээрин</td>\n",
       "      <td>2020_inf</td>\n",
       "    </tr>\n",
       "  </tbody>\n",
       "</table>\n",
       "</div>"
      ],
      "text/plain": [
       "       item_id  content_type                                  title  \\\n",
       "13126    11150             1          ехали в трамвае ильф и петров   \n",
       "15154     9752             1                     найти и уничтожить   \n",
       "7010     16463             1                         после. глава 2   \n",
       "7098     15909             1  принцесса лебедь: королевская свадьба   \n",
       "5231       512             1                         рядовой чээрин   \n",
       "\n",
       "                               title_orig  release_year  \\\n",
       "13126                                none        1972.0   \n",
       "15154                  search and destroy        2020.0   \n",
       "7010                     after we colided        2020.0   \n",
       "7098   the swan princess: a royal wedding        2020.0   \n",
       "5231                                 none        2020.0   \n",
       "\n",
       "                              genres countries  for_kids  age_rating studios  \\\n",
       "13126               русский, комедия      ссср       2.0        12.0    none   \n",
       "15154                         боевик  болгария       2.0        18.0    none   \n",
       "7010                драма, мелодрама       сша       2.0        16.0    none   \n",
       "7098   мультфильм, фэнтез, мелодрама       сша       2.0         6.0    none   \n",
       "5231                         военный    россия       2.0        16.0    none   \n",
       "\n",
       "             directors                                             actors  \\\n",
       "13126     виктор титов  нина агапова, лев дуров, нина алисова, владими...   \n",
       "15154     дэнни лернер  дилан брюс, джулиан костов, сергей бадюк, тим ...   \n",
       "7010      роджер камбл  джозефина лэнгфорд, хиро файнс-тиффин, дилан с...   \n",
       "7098        ричард рич                                               none   \n",
       "5231   дмитрий кольцов  айтал степанов, александр казанцев, даниил жур...   \n",
       "\n",
       "                                             description  \\\n",
       "13126  Этот фильм будет любопытен всем тем, кто интер...   \n",
       "15154  Офицер разведки Джон Каттер теряет в бою весь ...   \n",
       "7010   Встреча с Хардином разделила её жизнь на до и ...   \n",
       "7098   Действие сказки переносится в загадочные, полн...   \n",
       "5231   Глубокая осень 1943 года. Немецкие снайперы хо...   \n",
       "\n",
       "                                                keywords release_year_cat  \n",
       "13126           ехали, трамвае, ильф, петров, 1972, ссср        1970-1980  \n",
       "15154                  2020, болгария, найти, уничтожить         2020_inf  \n",
       "7010   на основе романа или книги, любовь, подростков...         2020_inf  \n",
       "7098   , любовь, 2020, соединенные штаты, принцесса, ...         2020_inf  \n",
       "5231                       2020, россия, рядовой, чээрин         2020_inf  "
      ]
     },
     "execution_count": 106,
     "metadata": {},
     "output_type": "execute_result"
    }
   ],
   "source": [
    "items_df.sample(5)"
   ]
  },
  {
   "cell_type": "markdown",
   "metadata": {},
   "source": [
    "ФИЧИ"
   ]
  },
  {
   "cell_type": "code",
   "execution_count": 107,
   "metadata": {},
   "outputs": [],
   "source": [
    "# Фичи на основе названия и описания\n",
    "items_df['title_length'] = items_df['title'].apply(lambda x: len(str(x)))\n",
    "items_df['title_word_count'] = items_df['title'].apply(lambda x: len(str(x).split()))\n",
    "items_df['title_unique_chars'] = items_df['title'].apply(lambda x: len(set(str(x))))\n",
    "\n",
    "items_df['desc_word_count'] = items_df['description'].apply(lambda x: len(str(x).split()))\n",
    "items_df['desc_avg_word_length'] = items_df['description'].apply(lambda x: np.mean([len(w) for w in str(x).split()]) if pd.notna(x) else 0)\n",
    "items_df['desc_unique_words_ratio'] = items_df['description'].apply(lambda x: len(set(str(x).split())) / len(str(x).split()) if pd.notna(x) and len(str(x).split()) > 0 else 0)"
   ]
  },
  {
   "cell_type": "code",
   "execution_count": 108,
   "metadata": {},
   "outputs": [],
   "source": [
    "# Фичи по ключевым словам\n",
    "items_df['num_keywords'] = items_df['keywords'].apply(lambda x: len(str(x).split(', ')) if pd.notna(x) else 0)\n",
    "items_df['keywords_unique_ratio'] = items_df['keywords'].apply(lambda x: len(set(str(x).split(', '))) / len(str(x).split(', ')) if pd.notna(x) and len(str(x).split(', ')) > 0 else 0)"
   ]
  },
  {
   "cell_type": "code",
   "execution_count": 109,
   "metadata": {},
   "outputs": [],
   "source": [
    "# Фичи по жанрам\n",
    "items_df['num_genres'] = items_df['genres'].apply(lambda x: len(str(x).split(', ')) if pd.notna(x) else 0)"
   ]
  },
  {
   "cell_type": "code",
   "execution_count": 110,
   "metadata": {},
   "outputs": [],
   "source": [
    "# Фичи по странам\n",
    "items_df['num_countries'] = items_df['countries'].apply(lambda x: len(str(x).split(', ')) if pd.notna(x) else 0)\n",
    "items_df['is_international'] = (items_df['num_countries'] > 1).astype(int)"
   ]
  },
  {
   "cell_type": "code",
   "execution_count": 111,
   "metadata": {},
   "outputs": [],
   "source": [
    "# Фичи по студиям\n",
    "items_df['num_studios'] = items_df['studios'].apply(lambda x: len(str(x).split(', ')) if pd.notna(x) else 0)\n",
    "\n",
    "# Фичи по режиссерам\n",
    "items_df['num_directors'] = items_df['directors'].apply(lambda x: len(str(x).split(', ')) if pd.notna(x) else 0)\n",
    "\n",
    "# Фичи по актерам\n",
    "items_df['num_actors'] = items_df['actors'].apply(lambda x: len(str(x).split(', ')) if pd.notna(x) else 0)"
   ]
  },
  {
   "cell_type": "code",
   "execution_count": 112,
   "metadata": {},
   "outputs": [],
   "source": [
    "# Фичи по году выпуска\n",
    "items_df['release_decade'] = (items_df['release_year'] // 10) * 10\n",
    "items_df['is_classic'] = (items_df['release_year'] < 1990).astype(int)\n",
    "items_df['is_recent'] = (items_df['release_year'] >= 2015).astype(int)\n",
    "\n",
    "# Бинарные флаги\n",
    "items_df['is_kids_content'] = (items_df['for_kids'] == 1).astype(int)\n",
    "items_df['is_series'] = (items_df['content_type'] == 'series').astype(int)\n",
    "items_df['is_adult_content'] = (items_df['age_rating'] == 18).astype(int)"
   ]
  },
  {
   "cell_type": "code",
   "execution_count": 113,
   "metadata": {},
   "outputs": [],
   "source": [
    "# Тематическое разнообразие\n",
    "items_df['genre_diversity'] = items_df['genres'].apply(lambda x: len(set(x.split(', '))))\n",
    "items_df['country_diversity'] = items_df['countries'].apply(lambda x: len(set(x.split(', '))))\n",
    "\n",
    "# Временные характеристики\n",
    "items_df['release_month'] = pd.to_datetime(items_df['release_year'], format='%Y').dt.month\n",
    "items_df['release_day_of_week'] = pd.to_datetime(items_df['release_year'], format='%Y').dt.dayofweek"
   ]
  },
  {
   "cell_type": "code",
   "execution_count": 114,
   "metadata": {},
   "outputs": [],
   "source": [
    "# Уникальность ключевых слов\n",
    "items_df['keyword_diversity'] = items_df['keywords'].apply(lambda x: len(set(x.split(', '))) if pd.notna(x) else 0)\n",
    "\n",
    "# Уникальность студий\n",
    "items_df['studio_diversity'] = items_df['studios'].apply(lambda x: len(set(x.split(', '))) if pd.notna(x) else 0)"
   ]
  },
  {
   "cell_type": "code",
   "execution_count": 115,
   "metadata": {},
   "outputs": [],
   "source": [
    "# Год выпуска в логарифмическом масштабе \n",
    "items_df['log_release_year'] = np.log1p(items_df['release_year'])\n",
    "\n",
    "# Категория по возрасту релиза\n",
    "current_year = 2025  # Подставляем текущий год\n",
    "items_df['years_since_release'] = current_year - items_df['release_year']\n",
    "items_df['release_age_group'] = pd.cut(\n",
    "    items_df['years_since_release'],\n",
    "    bins=[0, 1, 5, 10, 20, 50, 100, np.inf],\n",
    "    labels=['new', 'very_recent', 'recent', 'semi_old', 'old', 'classic', 'ancient']\n",
    ")"
   ]
  },
  {
   "cell_type": "code",
   "execution_count": 116,
   "metadata": {},
   "outputs": [],
   "source": [
    "popular_keywords = ['боевик', 'комедия', 'драма', 'детектив', 'фантастика', 'ужасы', 'триллер']\n",
    "popular_keywords = set(map(str.lower, popular_keywords))  \n",
    "\n",
    "def count_popular_keywords(keyword_str):\n",
    "    if pd.isna(keyword_str) or keyword_str == 'None':\n",
    "        return 0, 0 \n",
    "\n",
    "    keyword_list = set(map(str.strip, keyword_str.lower().split(', ')))  \n",
    "\n",
    "    intersection = keyword_list & popular_keywords  \n",
    "\n",
    "    return len(intersection) > 0, len(intersection)\n",
    "\n",
    "items_df[['has_popular_genres', 'num_popular_genres']] = items_df['genres'].apply(\n",
    "    lambda x: pd.Series(count_popular_keywords(x))\n",
    ")"
   ]
  },
  {
   "cell_type": "code",
   "execution_count": 117,
   "metadata": {},
   "outputs": [],
   "source": [
    "# Время с момента релиза в месяцах\n",
    "items_df['months_since_release'] = (current_year - items_df['release_year']) * 12 + pd.to_datetime(items_df['release_year'], format='%Y').dt.month\n",
    "\n",
    "# Средняя длина описания\n",
    "items_df['avg_desc_word_length'] = items_df['description'].apply(lambda x: np.mean([len(word) for word in str(x).split()]) if pd.notna(x) else 0)\n",
    "\n",
    "# Процент уникальных слов в описании\n",
    "items_df['desc_unique_percentage'] = items_df['description'].apply(\n",
    "    lambda x: len(set(str(x).split())) / len(str(x).split()) if pd.notna(x) and len(str(x).split()) > 0 else 0\n",
    ")\n",
    "\n",
    "# Количество уникальных жанров\n",
    "items_df['unique_genre_count'] = items_df['genres'].apply(lambda x: len(set(str(x).split(', '))) if pd.notna(x) else 0)\n",
    "\n",
    "# Статистика по ключевым словам: минимальное и максимальное количество слов в ключевых словах\n",
    "items_df['min_keywords_length'] = items_df['keywords'].apply(lambda x: min([len(word) for word in str(x).split(', ')]) if pd.notna(x) and len(str(x).split(', ')) > 0 else 0)\n",
    "items_df['max_keywords_length'] = items_df['keywords'].apply(lambda x: max([len(word) for word in str(x).split(', ')]) if pd.notna(x) and len(str(x).split(', ')) > 0 else 0)\n",
    "\n",
    "# Соотношение уникальных актёров к общему числу актёров\n",
    "items_df['unique_actors_ratio'] = items_df['actors'].apply(\n",
    "    lambda x: len(set(str(x).split(', '))) / len(str(x).split(', ')) if pd.notna(x) and len(str(x).split(', ')) > 0 else 0\n",
    ")\n",
    "\n",
    "# Соотношение уникальных режиссёров к общему числу режиссёров\n",
    "items_df['unique_directors_ratio'] = items_df['directors'].apply(\n",
    "    lambda x: len(set(str(x).split(', '))) / len(str(x).split(', ')) if pd.notna(x) and len(str(x).split(', ')) > 0 else 0\n",
    ")\n",
    "\n",
    "# Расстояние от среднего года выпуска (для измерения старости контента)\n",
    "avg_release_year = items_df['release_year'].mean()\n",
    "items_df['release_year_distance'] = np.abs(items_df['release_year'] - avg_release_year)\n",
    "\n",
    "# Количество лет с момента выпуска в логарифмическом масштабе\n",
    "items_df['log_years_since_release'] = np.log1p(items_df['years_since_release'])\n",
    "\n",
    "# Количество стран, где доступен контент\n",
    "items_df['unique_countries_count'] = items_df['countries'].apply(lambda x: len(set(str(x).split(', '))) if pd.notna(x) else 0)\n",
    "\n",
    "# Взаимосвязь жанров и стран: сколько уникальных стран для каждого жанра\n",
    "items_df['genre_country_interaction'] = items_df.apply(\n",
    "    lambda row: len(set(str(row['genres']).split(', ')) & set(str(row['countries']).split(', '))) if pd.notna(row['genres']) and pd.notna(row['countries']) else 0,\n",
    "    axis=1\n",
    ")\n",
    "\n",
    "# Сумма количества жанров, стран и студий для определения контентного объема\n",
    "items_df['total_content_volume'] = items_df['num_genres'] + items_df['num_countries'] + items_df['num_studios']\n",
    "\n",
    "# Количество лет с момента релиза контента в зависимости от разных категорий возраста\n",
    "items_df['age_rating_class'] = items_df['age_rating'].apply(\n",
    "    lambda x: 'kids' if x <= 12 else ('teen' if x <= 17 else 'adult') if pd.notna(x) else 'unknown'\n",
    ")\n",
    "\n",
    "# Количество уникальных жанров с учетом \"нетипичных\" жанров\n",
    "items_df['non_standard_genres_count'] = items_df['genres'].apply(\n",
    "    lambda x: len([genre for genre in str(x).split(', ') if genre not in popular_keywords]) if pd.notna(x) else 0\n",
    ")"
   ]
  },
  {
   "cell_type": "code",
   "execution_count": 118,
   "metadata": {},
   "outputs": [
    {
     "data": {
      "text/html": [
       "<div>\n",
       "<style scoped>\n",
       "    .dataframe tbody tr th:only-of-type {\n",
       "        vertical-align: middle;\n",
       "    }\n",
       "\n",
       "    .dataframe tbody tr th {\n",
       "        vertical-align: top;\n",
       "    }\n",
       "\n",
       "    .dataframe thead th {\n",
       "        text-align: right;\n",
       "    }\n",
       "</style>\n",
       "<table border=\"1\" class=\"dataframe\">\n",
       "  <thead>\n",
       "    <tr style=\"text-align: right;\">\n",
       "      <th></th>\n",
       "      <th>item_id</th>\n",
       "      <th>content_type</th>\n",
       "      <th>title</th>\n",
       "      <th>title_orig</th>\n",
       "      <th>release_year</th>\n",
       "      <th>genres</th>\n",
       "      <th>countries</th>\n",
       "      <th>for_kids</th>\n",
       "      <th>age_rating</th>\n",
       "      <th>studios</th>\n",
       "      <th>...</th>\n",
       "      <th>max_keywords_length</th>\n",
       "      <th>unique_actors_ratio</th>\n",
       "      <th>unique_directors_ratio</th>\n",
       "      <th>release_year_distance</th>\n",
       "      <th>log_years_since_release</th>\n",
       "      <th>unique_countries_count</th>\n",
       "      <th>genre_country_interaction</th>\n",
       "      <th>total_content_volume</th>\n",
       "      <th>age_rating_class</th>\n",
       "      <th>non_standard_genres_count</th>\n",
       "    </tr>\n",
       "  </thead>\n",
       "  <tbody>\n",
       "    <tr>\n",
       "      <th>3221</th>\n",
       "      <td>6228</td>\n",
       "      <td>1</td>\n",
       "      <td>гадкие лебеди (жестовым языком)</td>\n",
       "      <td>none</td>\n",
       "      <td>2006.0</td>\n",
       "      <td>фантастика, драма, детектив</td>\n",
       "      <td>россия, франция</td>\n",
       "      <td>2.0</td>\n",
       "      <td>16.0</td>\n",
       "      <td>none</td>\n",
       "      <td>...</td>\n",
       "      <td>9</td>\n",
       "      <td>1.0</td>\n",
       "      <td>1.0</td>\n",
       "      <td>1.948505</td>\n",
       "      <td>2.995732</td>\n",
       "      <td>2</td>\n",
       "      <td>0</td>\n",
       "      <td>6</td>\n",
       "      <td>teen</td>\n",
       "      <td>0</td>\n",
       "    </tr>\n",
       "    <tr>\n",
       "      <th>10787</th>\n",
       "      <td>14113</td>\n",
       "      <td>1</td>\n",
       "      <td>доктор дулиттл</td>\n",
       "      <td>doctor dolittle</td>\n",
       "      <td>1998.0</td>\n",
       "      <td>семейный, фэнтез, комедия</td>\n",
       "      <td>сша</td>\n",
       "      <td>2.0</td>\n",
       "      <td>12.0</td>\n",
       "      <td>none</td>\n",
       "      <td>...</td>\n",
       "      <td>19</td>\n",
       "      <td>1.0</td>\n",
       "      <td>1.0</td>\n",
       "      <td>9.948505</td>\n",
       "      <td>3.332205</td>\n",
       "      <td>1</td>\n",
       "      <td>0</td>\n",
       "      <td>5</td>\n",
       "      <td>kids</td>\n",
       "      <td>2</td>\n",
       "    </tr>\n",
       "    <tr>\n",
       "      <th>9097</th>\n",
       "      <td>2789</td>\n",
       "      <td>0</td>\n",
       "      <td>без комплексов</td>\n",
       "      <td>skin to the max</td>\n",
       "      <td>2011.0</td>\n",
       "      <td>документальный</td>\n",
       "      <td>сша</td>\n",
       "      <td>2.0</td>\n",
       "      <td>18.0</td>\n",
       "      <td>hbo</td>\n",
       "      <td>...</td>\n",
       "      <td>10</td>\n",
       "      <td>1.0</td>\n",
       "      <td>1.0</td>\n",
       "      <td>3.051495</td>\n",
       "      <td>2.708050</td>\n",
       "      <td>1</td>\n",
       "      <td>0</td>\n",
       "      <td>3</td>\n",
       "      <td>adult</td>\n",
       "      <td>1</td>\n",
       "    </tr>\n",
       "    <tr>\n",
       "      <th>12202</th>\n",
       "      <td>15407</td>\n",
       "      <td>0</td>\n",
       "      <td>правила охоты. отступник</td>\n",
       "      <td>none</td>\n",
       "      <td>2014.0</td>\n",
       "      <td>боевик, русский</td>\n",
       "      <td>россия</td>\n",
       "      <td>2.0</td>\n",
       "      <td>16.0</td>\n",
       "      <td>none</td>\n",
       "      <td>...</td>\n",
       "      <td>14</td>\n",
       "      <td>1.0</td>\n",
       "      <td>1.0</td>\n",
       "      <td>6.051495</td>\n",
       "      <td>2.484907</td>\n",
       "      <td>1</td>\n",
       "      <td>0</td>\n",
       "      <td>4</td>\n",
       "      <td>teen</td>\n",
       "      <td>1</td>\n",
       "    </tr>\n",
       "    <tr>\n",
       "      <th>13171</th>\n",
       "      <td>16255</td>\n",
       "      <td>0</td>\n",
       "      <td>дикий округ</td>\n",
       "      <td>none</td>\n",
       "      <td>2018.0</td>\n",
       "      <td>боевик, драма, зарубежный, криминал</td>\n",
       "      <td>колумбия</td>\n",
       "      <td>2.0</td>\n",
       "      <td>16.0</td>\n",
       "      <td>none</td>\n",
       "      <td>...</td>\n",
       "      <td>12</td>\n",
       "      <td>1.0</td>\n",
       "      <td>1.0</td>\n",
       "      <td>10.051495</td>\n",
       "      <td>2.079442</td>\n",
       "      <td>1</td>\n",
       "      <td>0</td>\n",
       "      <td>6</td>\n",
       "      <td>teen</td>\n",
       "      <td>2</td>\n",
       "    </tr>\n",
       "  </tbody>\n",
       "</table>\n",
       "<p>5 rows × 61 columns</p>\n",
       "</div>"
      ],
      "text/plain": [
       "       item_id  content_type                            title  \\\n",
       "3221      6228             1  гадкие лебеди (жестовым языком)   \n",
       "10787    14113             1                   доктор дулиттл   \n",
       "9097      2789             0                   без комплексов   \n",
       "12202    15407             0         правила охоты. отступник   \n",
       "13171    16255             0                      дикий округ   \n",
       "\n",
       "            title_orig  release_year                               genres  \\\n",
       "3221              none        2006.0          фантастика, драма, детектив   \n",
       "10787  doctor dolittle        1998.0            семейный, фэнтез, комедия   \n",
       "9097   skin to the max        2011.0                       документальный   \n",
       "12202             none        2014.0                      боевик, русский   \n",
       "13171             none        2018.0  боевик, драма, зарубежный, криминал   \n",
       "\n",
       "             countries  for_kids  age_rating studios  ... max_keywords_length  \\\n",
       "3221   россия, франция       2.0        16.0    none  ...                   9   \n",
       "10787              сша       2.0        12.0    none  ...                  19   \n",
       "9097               сша       2.0        18.0     hbo  ...                  10   \n",
       "12202           россия       2.0        16.0    none  ...                  14   \n",
       "13171         колумбия       2.0        16.0    none  ...                  12   \n",
       "\n",
       "      unique_actors_ratio unique_directors_ratio release_year_distance  \\\n",
       "3221                  1.0                    1.0              1.948505   \n",
       "10787                 1.0                    1.0              9.948505   \n",
       "9097                  1.0                    1.0              3.051495   \n",
       "12202                 1.0                    1.0              6.051495   \n",
       "13171                 1.0                    1.0             10.051495   \n",
       "\n",
       "      log_years_since_release  unique_countries_count  \\\n",
       "3221                 2.995732                       2   \n",
       "10787                3.332205                       1   \n",
       "9097                 2.708050                       1   \n",
       "12202                2.484907                       1   \n",
       "13171                2.079442                       1   \n",
       "\n",
       "       genre_country_interaction  total_content_volume  age_rating_class  \\\n",
       "3221                           0                     6              teen   \n",
       "10787                          0                     5              kids   \n",
       "9097                           0                     3             adult   \n",
       "12202                          0                     4              teen   \n",
       "13171                          0                     6              teen   \n",
       "\n",
       "       non_standard_genres_count  \n",
       "3221                           0  \n",
       "10787                          2  \n",
       "9097                           1  \n",
       "12202                          1  \n",
       "13171                          2  \n",
       "\n",
       "[5 rows x 61 columns]"
      ]
     },
     "execution_count": 118,
     "metadata": {},
     "output_type": "execute_result"
    }
   ],
   "source": [
    "items_df.sample(5)"
   ]
  },
  {
   "cell_type": "code",
   "execution_count": 119,
   "metadata": {},
   "outputs": [
    {
     "data": {
      "text/plain": [
       "{'item_id': np.int64(0),\n",
       " 'content_type': np.int64(15960),\n",
       " 'title': np.int64(686),\n",
       " 'title_orig': np.int64(5418),\n",
       " 'release_year': np.int64(15856),\n",
       " 'genres': np.int64(13206),\n",
       " 'countries': np.int64(15404),\n",
       " 'for_kids': np.int64(15959),\n",
       " 'age_rating': np.int64(15956),\n",
       " 'studios': np.int64(15923),\n",
       " 'directors': np.int64(7992),\n",
       " 'actors': np.int64(2966),\n",
       " 'description': np.int64(343),\n",
       " 'keywords': np.int64(470),\n",
       " 'release_year_cat': np.int64(15949),\n",
       " 'title_length': np.int64(15875),\n",
       " 'title_word_count': np.int64(15947),\n",
       " 'title_unique_chars': np.int64(15929),\n",
       " 'desc_word_count': np.int64(15714),\n",
       " 'desc_avg_word_length': np.int64(8974),\n",
       " 'desc_unique_words_ratio': np.int64(14203),\n",
       " 'num_keywords': np.int64(15827),\n",
       " 'keywords_unique_ratio': np.int64(15408),\n",
       " 'num_genres': np.int64(15953),\n",
       " 'num_countries': np.int64(15953),\n",
       " 'is_international': np.int64(15960),\n",
       " 'num_studios': np.int64(15960),\n",
       " 'num_directors': np.int64(15947),\n",
       " 'num_actors': np.int64(15889),\n",
       " 'release_decade': np.int64(15948),\n",
       " 'is_classic': np.int64(15960),\n",
       " 'is_recent': np.int64(15960),\n",
       " 'is_kids_content': np.int64(15960),\n",
       " 'is_series': np.int64(15961),\n",
       " 'is_adult_content': np.int64(15960),\n",
       " 'genre_diversity': np.int64(15953),\n",
       " 'country_diversity': np.int64(15953),\n",
       " 'release_month': np.int64(15960),\n",
       " 'release_day_of_week': np.int64(15954),\n",
       " 'keyword_diversity': np.int64(15829),\n",
       " 'studio_diversity': np.int64(15960),\n",
       " 'log_release_year': np.int64(15856),\n",
       " 'years_since_release': np.int64(15856),\n",
       " 'release_age_group': np.int64(15955),\n",
       " 'has_popular_genres': np.int64(15960),\n",
       " 'num_popular_genres': np.int64(15956),\n",
       " 'months_since_release': np.int64(15856),\n",
       " 'avg_desc_word_length': np.int64(8974),\n",
       " 'desc_unique_percentage': np.int64(14203),\n",
       " 'unique_genre_count': np.int64(15953),\n",
       " 'min_keywords_length': np.int64(15935),\n",
       " 'max_keywords_length': np.int64(15900),\n",
       " 'unique_actors_ratio': np.int64(15925),\n",
       " 'unique_directors_ratio': np.int64(15959),\n",
       " 'release_year_distance': np.int64(15856),\n",
       " 'log_years_since_release': np.int64(15856),\n",
       " 'unique_countries_count': np.int64(15953),\n",
       " 'genre_country_interaction': np.int64(15961),\n",
       " 'total_content_volume': np.int64(15949),\n",
       " 'age_rating_class': np.int64(15959),\n",
       " 'non_standard_genres_count': np.int64(15952)}"
      ]
     },
     "execution_count": 119,
     "metadata": {},
     "output_type": "execute_result"
    }
   ],
   "source": [
    "duplicates = {col: items_df[col].duplicated().sum() for col in items_df.columns}\n",
    "\n",
    "duplicates"
   ]
  },
  {
   "cell_type": "code",
   "execution_count": 120,
   "metadata": {},
   "outputs": [
    {
     "data": {
      "text/plain": [
       "Index(['item_id', 'content_type', 'title', 'title_orig', 'release_year',\n",
       "       'genres', 'countries', 'for_kids', 'age_rating', 'studios', 'directors',\n",
       "       'actors', 'description', 'keywords', 'release_year_cat', 'title_length',\n",
       "       'title_word_count', 'title_unique_chars', 'desc_word_count',\n",
       "       'desc_avg_word_length', 'desc_unique_words_ratio', 'num_keywords',\n",
       "       'keywords_unique_ratio', 'num_genres', 'num_countries',\n",
       "       'is_international', 'num_studios', 'num_directors', 'num_actors',\n",
       "       'release_decade', 'is_classic', 'is_recent', 'is_kids_content',\n",
       "       'is_series', 'is_adult_content', 'genre_diversity', 'country_diversity',\n",
       "       'release_month', 'release_day_of_week', 'keyword_diversity',\n",
       "       'studio_diversity', 'log_release_year', 'years_since_release',\n",
       "       'release_age_group', 'has_popular_genres', 'num_popular_genres',\n",
       "       'months_since_release', 'avg_desc_word_length',\n",
       "       'desc_unique_percentage', 'unique_genre_count', 'min_keywords_length',\n",
       "       'max_keywords_length', 'unique_actors_ratio', 'unique_directors_ratio',\n",
       "       'release_year_distance', 'log_years_since_release',\n",
       "       'unique_countries_count', 'genre_country_interaction',\n",
       "       'total_content_volume', 'age_rating_class',\n",
       "       'non_standard_genres_count'],\n",
       "      dtype='object')"
      ]
     },
     "execution_count": 120,
     "metadata": {},
     "output_type": "execute_result"
    }
   ],
   "source": [
    "items_df.columns"
   ]
  },
  {
   "cell_type": "markdown",
   "metadata": {},
   "source": [
    "## Interactions"
   ]
  },
  {
   "cell_type": "code",
   "execution_count": 121,
   "metadata": {},
   "outputs": [],
   "source": [
    "interactions_df = pd.read_csv('interactions.csv', parse_dates=['last_watch_dt'])"
   ]
  },
  {
   "cell_type": "code",
   "execution_count": 122,
   "metadata": {},
   "outputs": [
    {
     "data": {
      "text/html": [
       "<div>\n",
       "<style scoped>\n",
       "    .dataframe tbody tr th:only-of-type {\n",
       "        vertical-align: middle;\n",
       "    }\n",
       "\n",
       "    .dataframe tbody tr th {\n",
       "        vertical-align: top;\n",
       "    }\n",
       "\n",
       "    .dataframe thead th {\n",
       "        text-align: right;\n",
       "    }\n",
       "</style>\n",
       "<table border=\"1\" class=\"dataframe\">\n",
       "  <thead>\n",
       "    <tr style=\"text-align: right;\">\n",
       "      <th></th>\n",
       "      <th>user_id</th>\n",
       "      <th>item_id</th>\n",
       "      <th>last_watch_dt</th>\n",
       "      <th>total_dur</th>\n",
       "      <th>watched_pct</th>\n",
       "    </tr>\n",
       "  </thead>\n",
       "  <tbody>\n",
       "    <tr>\n",
       "      <th>0</th>\n",
       "      <td>176549</td>\n",
       "      <td>9506</td>\n",
       "      <td>2021-05-11</td>\n",
       "      <td>4250</td>\n",
       "      <td>72.0</td>\n",
       "    </tr>\n",
       "    <tr>\n",
       "      <th>1</th>\n",
       "      <td>699317</td>\n",
       "      <td>1659</td>\n",
       "      <td>2021-05-29</td>\n",
       "      <td>8317</td>\n",
       "      <td>100.0</td>\n",
       "    </tr>\n",
       "    <tr>\n",
       "      <th>2</th>\n",
       "      <td>656683</td>\n",
       "      <td>7107</td>\n",
       "      <td>2021-05-09</td>\n",
       "      <td>10</td>\n",
       "      <td>0.0</td>\n",
       "    </tr>\n",
       "    <tr>\n",
       "      <th>3</th>\n",
       "      <td>864613</td>\n",
       "      <td>7638</td>\n",
       "      <td>2021-07-05</td>\n",
       "      <td>14483</td>\n",
       "      <td>100.0</td>\n",
       "    </tr>\n",
       "    <tr>\n",
       "      <th>4</th>\n",
       "      <td>964868</td>\n",
       "      <td>9506</td>\n",
       "      <td>2021-04-30</td>\n",
       "      <td>6725</td>\n",
       "      <td>100.0</td>\n",
       "    </tr>\n",
       "  </tbody>\n",
       "</table>\n",
       "</div>"
      ],
      "text/plain": [
       "   user_id  item_id last_watch_dt  total_dur  watched_pct\n",
       "0   176549     9506    2021-05-11       4250         72.0\n",
       "1   699317     1659    2021-05-29       8317        100.0\n",
       "2   656683     7107    2021-05-09         10          0.0\n",
       "3   864613     7638    2021-07-05      14483        100.0\n",
       "4   964868     9506    2021-04-30       6725        100.0"
      ]
     },
     "execution_count": 122,
     "metadata": {},
     "output_type": "execute_result"
    }
   ],
   "source": [
    "interactions_df.head()"
   ]
  },
  {
   "cell_type": "code",
   "execution_count": 123,
   "metadata": {},
   "outputs": [
    {
     "data": {
      "text/plain": [
       "(5476251, 5)"
      ]
     },
     "execution_count": 123,
     "metadata": {},
     "output_type": "execute_result"
    }
   ],
   "source": [
    "interactions_df.shape"
   ]
  },
  {
   "cell_type": "code",
   "execution_count": 124,
   "metadata": {},
   "outputs": [
    {
     "data": {
      "text/plain": [
       "user_id          962179\n",
       "item_id           15706\n",
       "last_watch_dt       163\n",
       "total_dur        129788\n",
       "watched_pct         101\n",
       "dtype: int64"
      ]
     },
     "execution_count": 124,
     "metadata": {},
     "output_type": "execute_result"
    }
   ],
   "source": [
    "interactions_df.nunique()"
   ]
  },
  {
   "cell_type": "code",
   "execution_count": 125,
   "metadata": {},
   "outputs": [
    {
     "name": "stdout",
     "output_type": "stream",
     "text": [
      "Data date range: 2021-03-13 - 2021-08-22\n"
     ]
    }
   ],
   "source": [
    "print(f'Data date range: {interactions_df.last_watch_dt.min().date()} - {interactions_df.last_watch_dt.max().date()}')"
   ]
  },
  {
   "cell_type": "code",
   "execution_count": 126,
   "metadata": {},
   "outputs": [
    {
     "name": "stdout",
     "output_type": "stream",
     "text": [
      "<class 'pandas.core.frame.DataFrame'>\n",
      "RangeIndex: 5476251 entries, 0 to 5476250\n",
      "Data columns (total 5 columns):\n",
      " #   Column         Non-Null Count    Dtype         \n",
      "---  ------         --------------    -----         \n",
      " 0   user_id        5476251 non-null  int64         \n",
      " 1   item_id        5476251 non-null  int64         \n",
      " 2   last_watch_dt  5476251 non-null  datetime64[ns]\n",
      " 3   total_dur      5476251 non-null  int64         \n",
      " 4   watched_pct    5475423 non-null  float64       \n",
      "dtypes: datetime64[ns](1), float64(1), int64(3)\n",
      "memory usage: 208.9 MB\n"
     ]
    }
   ],
   "source": [
    "interactions_df.info(show_counts=True, verbose=True)"
   ]
  },
  {
   "cell_type": "code",
   "execution_count": 127,
   "metadata": {},
   "outputs": [
    {
     "data": {
      "text/plain": [
       "np.float64(100.0)"
      ]
     },
     "execution_count": 127,
     "metadata": {},
     "output_type": "execute_result"
    }
   ],
   "source": [
    "interactions_df.watched_pct.max()"
   ]
  },
  {
   "cell_type": "code",
   "execution_count": 128,
   "metadata": {},
   "outputs": [
    {
     "data": {
      "text/plain": [
       "np.float64(0.0)"
      ]
     },
     "execution_count": 128,
     "metadata": {},
     "output_type": "execute_result"
    }
   ],
   "source": [
    "interactions_df.watched_pct.min()"
   ]
  },
  {
   "cell_type": "code",
   "execution_count": 129,
   "metadata": {},
   "outputs": [],
   "source": [
    "interactions_df['watched_pct'] = interactions_df['watched_pct'].astype(pd.Int8Dtype())"
   ]
  },
  {
   "cell_type": "code",
   "execution_count": 130,
   "metadata": {},
   "outputs": [],
   "source": [
    "interactions_df['watched_pct'] = interactions_df['watched_pct'].fillna(0)"
   ]
  },
  {
   "cell_type": "code",
   "execution_count": 131,
   "metadata": {},
   "outputs": [
    {
     "data": {
      "text/plain": [
       "<Axes: >"
      ]
     },
     "execution_count": 131,
     "metadata": {},
     "output_type": "execute_result"
    },
    {
     "data": {
      "image/png": "[encoded data removed]",
      "text/plain": [
       "<Figure size 640x480 with 1 Axes>"
      ]
     },
     "metadata": {},
     "output_type": "display_data"
    }
   ],
   "source": [
    "interactions_df['watched_pct'].hist()"
   ]
  },
  {
   "cell_type": "code",
   "execution_count": 132,
   "metadata": {},
   "outputs": [
    {
     "data": {
      "text/plain": [
       "<Axes: >"
      ]
     },
     "execution_count": 132,
     "metadata": {},
     "output_type": "execute_result"
    },
    {
     "data": {
      "image/png": "[encoded data removed]",
      "text/plain": [
       "<Figure size 640x480 with 1 Axes>"
      ]
     },
     "metadata": {},
     "output_type": "display_data"
    }
   ],
   "source": [
    "interactions_df['total_dur'].hist()"
   ]
  },
  {
   "cell_type": "code",
   "execution_count": 133,
   "metadata": {},
   "outputs": [
    {
     "data": {
      "text/plain": [
       "(16042, 5)"
      ]
     },
     "execution_count": 133,
     "metadata": {},
     "output_type": "execute_result"
    }
   ],
   "source": [
    "interactions_df[interactions_df['total_dur'] > 200000].shape"
   ]
  },
  {
   "cell_type": "code",
   "execution_count": 134,
   "metadata": {},
   "outputs": [
    {
     "data": {
      "text/plain": [
       "<Axes: >"
      ]
     },
     "execution_count": 134,
     "metadata": {},
     "output_type": "execute_result"
    },
    {
     "data": {
      "image/png": "[encoded data removed]",
      "text/plain": [
       "<Figure size 640x480 with 1 Axes>"
      ]
     },
     "metadata": {},
     "output_type": "display_data"
    }
   ],
   "source": [
    "interactions_df[interactions_df['total_dur'] < 200000].total_dur.hist(bins=50)"
   ]
  },
  {
   "cell_type": "code",
   "execution_count": 135,
   "metadata": {},
   "outputs": [],
   "source": [
    "interactions_df['last_watch_dt'] = pd.to_datetime(interactions_df['last_watch_dt'])"
   ]
  },
  {
   "cell_type": "code",
   "execution_count": 136,
   "metadata": {},
   "outputs": [
    {
     "data": {
      "text/plain": [
       "Timestamp('2021-03-13 00:00:00')"
      ]
     },
     "execution_count": 136,
     "metadata": {},
     "output_type": "execute_result"
    }
   ],
   "source": [
    "interactions_df['last_watch_dt'].min()"
   ]
  },
  {
   "cell_type": "code",
   "execution_count": 137,
   "metadata": {},
   "outputs": [
    {
     "data": {
      "text/plain": [
       "Timestamp('2021-08-22 00:00:00')"
      ]
     },
     "execution_count": 137,
     "metadata": {},
     "output_type": "execute_result"
    }
   ],
   "source": [
    "interactions_df['last_watch_dt'].max()"
   ]
  },
  {
   "cell_type": "code",
   "execution_count": 138,
   "metadata": {},
   "outputs": [
    {
     "data": {
      "text/plain": [
       "<Axes: >"
      ]
     },
     "execution_count": 138,
     "metadata": {},
     "output_type": "execute_result"
    },
    {
     "data": {
      "image/png": "[encoded data removed]",
      "text/plain": [
       "<Figure size 640x480 with 1 Axes>"
      ]
     },
     "metadata": {},
     "output_type": "display_data"
    }
   ],
   "source": [
    "interactions_df['last_watch_dt'].hist(bins=50)"
   ]
  },
  {
   "cell_type": "code",
   "execution_count": 139,
   "metadata": {},
   "outputs": [
    {
     "data": {
      "text/plain": [
       "np.int64(0)"
      ]
     },
     "execution_count": 139,
     "metadata": {},
     "output_type": "execute_result"
    }
   ],
   "source": [
    "interactions_df.duplicated(subset=['user_id', 'item_id'], keep=False).sum()"
   ]
  },
  {
   "cell_type": "code",
   "execution_count": 140,
   "metadata": {},
   "outputs": [
    {
     "name": "stdout",
     "output_type": "stream",
     "text": [
      "<class 'pandas.core.frame.DataFrame'>\n",
      "RangeIndex: 5476251 entries, 0 to 5476250\n",
      "Data columns (total 5 columns):\n",
      " #   Column         Non-Null Count    Dtype         \n",
      "---  ------         --------------    -----         \n",
      " 0   user_id        5476251 non-null  int64         \n",
      " 1   item_id        5476251 non-null  int64         \n",
      " 2   last_watch_dt  5476251 non-null  datetime64[ns]\n",
      " 3   total_dur      5476251 non-null  int64         \n",
      " 4   watched_pct    5476251 non-null  Int8          \n",
      "dtypes: Int8(1), datetime64[ns](1), int64(3)\n",
      "memory usage: 177.6 MB\n"
     ]
    }
   ],
   "source": [
    "interactions_df.info(show_counts=True, verbose=True)"
   ]
  },
  {
   "cell_type": "code",
   "execution_count": 141,
   "metadata": {},
   "outputs": [
    {
     "data": {
      "text/plain": [
       "Index(['user_id', 'item_id', 'last_watch_dt', 'total_dur', 'watched_pct'], dtype='object')"
      ]
     },
     "execution_count": 141,
     "metadata": {},
     "output_type": "execute_result"
    }
   ],
   "source": [
    "interactions_df.columns"
   ]
  },
  {
   "cell_type": "markdown",
   "metadata": {},
   "source": [
    "# ФИЧИ"
   ]
  },
  {
   "cell_type": "markdown",
   "metadata": {},
   "source": [
    "## USERS"
   ]
  },
  {
   "cell_type": "code",
   "execution_count": 142,
   "metadata": {},
   "outputs": [],
   "source": [
    "# Активность пользователя\n",
    "users_df['total_watch_time'] = interactions_df.groupby('user_id')['total_dur'].sum().reset_index(name='total_watch_time')['total_watch_time']\n",
    "users_df['average_session_duration'] = interactions_df.groupby('user_id')['total_dur'].mean().reset_index(name='average_session_duration')['average_session_duration']\n",
    "\n",
    "# Предпочтения пользователя\n",
    "users_df['favorite_genres'] = interactions_df.merge(items_df[['item_id', 'genres']], on='item_id').groupby('user_id')['genres'].apply(lambda x: ', '.join(x)).reset_index(name='favorite_genres')['favorite_genres']\n",
    "users_df['favorite_countries'] = interactions_df.merge(items_df[['item_id', 'countries']], on='item_id').groupby('user_id')['countries'].apply(lambda x: ', '.join(x)).reset_index(name='favorite_countries')['favorite_countries']\n",
    "\n",
    "# Временные предпочтения\n",
    "users_df['preferred_watch_time'] = interactions_df.groupby('user_id')['last_watch_dt'].apply(lambda x: x.dt.hour.mode()[0]).reset_index(name='preferred_watch_time')['preferred_watch_time']\n",
    "users_df['preferred_days'] = interactions_df.groupby('user_id')['last_watch_dt'].apply(lambda x: x.dt.dayofweek.mode()[0]).reset_index(name='preferred_days')['preferred_days']"
   ]
  },
  {
   "cell_type": "code",
   "execution_count": 143,
   "metadata": {},
   "outputs": [
    {
     "name": "stderr",
     "output_type": "stream",
     "text": [
      "/var/folders/pq/7p0c971j5k7dd6zbzt4kxsj40000gn/T/ipykernel_4943/1845031085.py:13: DeprecationWarning: DataFrameGroupBy.apply operated on the grouping columns. This behavior is deprecated, and in a future version of pandas the grouping columns will be excluded from the operation. Either pass `include_groups=False` to exclude the groupings or explicitly select the grouping columns after groupby to silence this warning.\n",
      "  users_df['trending_score'] = interactions_df.groupby('user_id').apply(lambda x: x['total_dur'].rolling(window=7, min_periods=1).mean().iloc[-1]).reset_index(name='trending_score')['trending_score']\n"
     ]
    }
   ],
   "source": [
    "# Разнообразие контента\n",
    "users_df['genre_diversity'] = interactions_df.merge(items_df[['item_id', 'genres']], on='item_id').groupby('user_id')['genres'].apply(lambda x: len(set(x.sum()))).reset_index(name='genre_diversity')['genre_diversity']\n",
    "users_df['country_diversity'] = interactions_df.merge(items_df[['item_id', 'countries']], on='item_id').groupby('user_id')['countries'].apply(lambda x: len(set(x.sum()))).reset_index(name='country_diversity')['country_diversity']\n",
    "\n",
    "# Социальные характеристики\n",
    "users_df['number_of_unique_items_watched'] = interactions_df.groupby('user_id')['item_id'].nunique().reset_index(name='number_of_unique_items_watched')['number_of_unique_items_watched']\n",
    "\n",
    "# Поведенческие характеристики\n",
    "users_df['average_time_per_genre'] = interactions_df.merge(items_df[['item_id', 'genres']], on='item_id').groupby(['user_id', 'genres'])['total_dur'].mean().reset_index(name='average_time_per_genre')['average_time_per_genre']\n",
    "users_df['watch_frequency'] = interactions_df.groupby('user_id')['last_watch_dt'].apply(lambda x: len(x.dt.to_period('W').unique())).reset_index(name='watch_frequency')['watch_frequency']\n",
    "\n",
    "# Тренды и сезонность\n",
    "users_df['trending_score'] = interactions_df.groupby('user_id').apply(lambda x: x['total_dur'].rolling(window=7, min_periods=1).mean().iloc[-1]).reset_index(name='trending_score')['trending_score']\n",
    "users_df['seasonal_preference'] = interactions_df.groupby(['user_id', interactions_df['last_watch_dt'].dt.month])['total_dur'].sum().reset_index(name='seasonal_preference')['seasonal_preference']"
   ]
  },
  {
   "cell_type": "code",
   "execution_count": 144,
   "metadata": {},
   "outputs": [
    {
     "name": "stderr",
     "output_type": "stream",
     "text": [
      "/var/folders/pq/7p0c971j5k7dd6zbzt4kxsj40000gn/T/ipykernel_4943/635694279.py:3: DeprecationWarning: DataFrameGroupBy.apply operated on the grouping columns. This behavior is deprecated, and in a future version of pandas the grouping columns will be excluded from the operation. Either pass `include_groups=False` to exclude the groupings or explicitly select the grouping columns after groupby to silence this warning.\n",
      "  users_df['binge_watching_score'] = interactions_df.groupby('user_id').apply(lambda x: (x['last_watch_dt'].diff().dt.total_seconds() < 3600).sum()).reset_index(name='binge_watching_score')['binge_watching_score']\n"
     ]
    }
   ],
   "source": [
    "# Поведенческие характеристики\n",
    "users_df['average_completion_rate'] = interactions_df.groupby('user_id')['watched_pct'].mean().reset_index(name='average_completion_rate')['average_completion_rate']\n",
    "users_df['binge_watching_score'] = interactions_df.groupby('user_id').apply(lambda x: (x['last_watch_dt'].diff().dt.total_seconds() < 3600).sum()).reset_index(name='binge_watching_score')['binge_watching_score']\n",
    "\n",
    "# Временные предпочтения\n",
    "users_df['weekend_watch_frequency'] = interactions_df[interactions_df['last_watch_dt'].dt.weekday >= 5].groupby('user_id').size().reset_index(name='weekend_watch_frequency')['weekend_watch_frequency']\n",
    "users_df['weekday_watch_frequency'] = interactions_df[interactions_df['last_watch_dt'].dt.weekday < 5].groupby('user_id').size().reset_index(name='weekday_watch_frequency')['weekday_watch_frequency']\n",
    "\n",
    "# Предпочтения по контенту\n",
    "users_df['preferred_duration'] = interactions_df.groupby('user_id')['total_dur'].median().reset_index(name='preferred_duration')['preferred_duration']\n",
    "users_df['preferred_age_rating'] = interactions_df.merge(items_df[['item_id', 'age_rating']], on='item_id').groupby('user_id')['age_rating'].apply(lambda x: x.mode()[0]).reset_index(name='preferred_age_rating')['preferred_age_rating']"
   ]
  },
  {
   "cell_type": "code",
   "execution_count": 145,
   "metadata": {},
   "outputs": [],
   "source": [
    "# Поведенческие характеристики\n",
    "users_df['average_time_between_sessions'] = interactions_df.groupby('user_id')['last_watch_dt'].apply(lambda x: x.diff().dt.total_seconds().mean()).reset_index(name='average_time_between_sessions')['average_time_between_sessions']\n",
    "users_df['max_session_duration'] = interactions_df.groupby('user_id')['total_dur'].max().reset_index(name='max_session_duration')['max_session_duration']\n",
    "\n",
    "# Предпочтения по контенту\n",
    "users_df['preferred_studios'] = interactions_df.merge(items_df[['item_id', 'studios']], on='item_id').groupby('user_id')['studios'].apply(lambda x: ', '.join(x)).reset_index(name='preferred_studios')['preferred_studios']\n",
    "users_df['preferred_directors'] = interactions_df.merge(items_df[['item_id', 'directors']], on='item_id').groupby('user_id')['directors'].apply(lambda x: ', '.join(x)).reset_index(name='preferred_directors')['preferred_directors']\n",
    "users_df['preferred_actors'] = interactions_df.merge(items_df[['item_id', 'actors']], on='item_id').groupby('user_id')['actors'].apply(lambda x: ', '.join(x)).reset_index(name='preferred_actors')['preferred_actors']\n",
    "\n",
    "# Разнообразие контента\n",
    "users_df['genre_exploration_score'] = interactions_df.merge(items_df[['item_id', 'genres']], on='item_id').groupby('user_id')['genres'].apply(lambda x: len(set(x.sum()))).reset_index(name='genre_exploration_score')['genre_exploration_score']\n",
    "users_df['country_exploration_score'] = interactions_df.merge(items_df[['item_id', 'countries']], on='item_id').groupby('user_id')['countries'].apply(lambda x: len(set(x.sum()))).reset_index(name='country_exploration_score')['country_exploration_score']"
   ]
  },
  {
   "cell_type": "code",
   "execution_count": 146,
   "metadata": {},
   "outputs": [],
   "source": [
    "# Поведенческие характеристики\n",
    "users_df['recent_activity_score'] = interactions_df[interactions_df['last_watch_dt'] > (interactions_df['last_watch_dt'].max() - pd.Timedelta(days=30))].groupby('user_id').size().reset_index(name='recent_activity_score')['recent_activity_score']\n",
    "users_df['churn_risk_score'] = interactions_df.groupby('user_id')['last_watch_dt'].apply(lambda x: (pd.Timestamp.now() - x.max()).days).reset_index(name='churn_risk_score')['churn_risk_score']\n",
    "\n",
    "# Предпочтения по контенту\n",
    "users_df['preferred_keywords'] = interactions_df.merge(items_df[['item_id', 'keywords']], on='item_id').groupby('user_id')['keywords'].apply(lambda x: ', '.join(x)).reset_index(name='preferred_keywords')['preferred_keywords']\n",
    "users_df['preferred_description_length'] = interactions_df.merge(items_df[['item_id', 'desc_word_count']], on='item_id').groupby('user_id')['desc_word_count'].mean().reset_index(name='preferred_description_length')['preferred_description_length']\n",
    "\n",
    "# Разнообразие контента\n",
    "users_df['director_exploration_score'] = interactions_df.merge(items_df[['item_id', 'directors']], on='item_id').groupby('user_id')['directors'].apply(lambda x: len(set(x.sum()))).reset_index(name='director_exploration_score')['director_exploration_score']\n",
    "users_df['actor_exploration_score'] = interactions_df.merge(items_df[['item_id', 'actors']], on='item_id').groupby('user_id')['actors'].apply(lambda x: len(set(x.sum()))).reset_index(name='actor_exploration_score')['actor_exploration_score']"
   ]
  },
  {
   "cell_type": "code",
   "execution_count": 147,
   "metadata": {},
   "outputs": [
    {
     "data": {
      "text/html": [
       "<div>\n",
       "<style scoped>\n",
       "    .dataframe tbody tr th:only-of-type {\n",
       "        vertical-align: middle;\n",
       "    }\n",
       "\n",
       "    .dataframe tbody tr th {\n",
       "        vertical-align: top;\n",
       "    }\n",
       "\n",
       "    .dataframe thead th {\n",
       "        text-align: right;\n",
       "    }\n",
       "</style>\n",
       "<table border=\"1\" class=\"dataframe\">\n",
       "  <thead>\n",
       "    <tr style=\"text-align: right;\">\n",
       "      <th></th>\n",
       "      <th>user_id</th>\n",
       "      <th>age</th>\n",
       "      <th>income</th>\n",
       "      <th>sex</th>\n",
       "      <th>kids_flg</th>\n",
       "      <th>total_watch_time</th>\n",
       "      <th>average_session_duration</th>\n",
       "      <th>favorite_genres</th>\n",
       "      <th>favorite_countries</th>\n",
       "      <th>preferred_watch_time</th>\n",
       "      <th>...</th>\n",
       "      <th>preferred_directors</th>\n",
       "      <th>preferred_actors</th>\n",
       "      <th>genre_exploration_score</th>\n",
       "      <th>country_exploration_score</th>\n",
       "      <th>recent_activity_score</th>\n",
       "      <th>churn_risk_score</th>\n",
       "      <th>preferred_keywords</th>\n",
       "      <th>preferred_description_length</th>\n",
       "      <th>director_exploration_score</th>\n",
       "      <th>actor_exploration_score</th>\n",
       "    </tr>\n",
       "  </thead>\n",
       "  <tbody>\n",
       "    <tr>\n",
       "      <th>238120</th>\n",
       "      <td>1073032</td>\n",
       "      <td>2.0</td>\n",
       "      <td>3.0</td>\n",
       "      <td>0</td>\n",
       "      <td>False</td>\n",
       "      <td>23380</td>\n",
       "      <td>4676.000000</td>\n",
       "      <td>драма, триллер</td>\n",
       "      <td>россия</td>\n",
       "      <td>0</td>\n",
       "      <td>...</td>\n",
       "      <td>илья куликов</td>\n",
       "      <td>александр hовиков, валентина ляпина, никита па...</td>\n",
       "      <td>10</td>\n",
       "      <td>5</td>\n",
       "      <td>1.0</td>\n",
       "      <td>1325</td>\n",
       "      <td>подслушано, подслушано в контакте, социальная ...</td>\n",
       "      <td>87.0</td>\n",
       "      <td>9</td>\n",
       "      <td>23</td>\n",
       "    </tr>\n",
       "    <tr>\n",
       "      <th>677663</th>\n",
       "      <td>659841</td>\n",
       "      <td>5.0</td>\n",
       "      <td>2.0</td>\n",
       "      <td>1</td>\n",
       "      <td>False</td>\n",
       "      <td>1363</td>\n",
       "      <td>1363.000000</td>\n",
       "      <td>триллер, детектив</td>\n",
       "      <td>россия</td>\n",
       "      <td>0</td>\n",
       "      <td>...</td>\n",
       "      <td>душан глигоров</td>\n",
       "      <td>антон васильев, николай шрайбер, екатерина оль...</td>\n",
       "      <td>10</td>\n",
       "      <td>5</td>\n",
       "      <td>NaN</td>\n",
       "      <td>1409</td>\n",
       "      <td>хруст, хрусталь, хруста, хрус, полицейский, пе...</td>\n",
       "      <td>59.0</td>\n",
       "      <td>12</td>\n",
       "      <td>25</td>\n",
       "    </tr>\n",
       "    <tr>\n",
       "      <th>453591</th>\n",
       "      <td>95020</td>\n",
       "      <td>2.0</td>\n",
       "      <td>2.0</td>\n",
       "      <td>0</td>\n",
       "      <td>False</td>\n",
       "      <td>54729</td>\n",
       "      <td>3909.214286</td>\n",
       "      <td>боевик, триллер</td>\n",
       "      <td>великобритания, сша</td>\n",
       "      <td>0</td>\n",
       "      <td>...</td>\n",
       "      <td>гай ричи</td>\n",
       "      <td>джейсон стэйтем, холт маккэллани, джеффри доно...</td>\n",
       "      <td>11</td>\n",
       "      <td>16</td>\n",
       "      <td>NaN</td>\n",
       "      <td>1302</td>\n",
       "      <td>ограбление, криминальный авторитет, месть, пер...</td>\n",
       "      <td>84.0</td>\n",
       "      <td>7</td>\n",
       "      <td>26</td>\n",
       "    </tr>\n",
       "    <tr>\n",
       "      <th>285976</th>\n",
       "      <td>950594</td>\n",
       "      <td>2.0</td>\n",
       "      <td>3.0</td>\n",
       "      <td>1</td>\n",
       "      <td>True</td>\n",
       "      <td>84257</td>\n",
       "      <td>8425.700000</td>\n",
       "      <td>драма</td>\n",
       "      <td>сша, франция</td>\n",
       "      <td>0</td>\n",
       "      <td>...</td>\n",
       "      <td>джеймс мэнголд</td>\n",
       "      <td>кристиан бэйл, мэтт дэймон, катрина балф, трэй...</td>\n",
       "      <td>4</td>\n",
       "      <td>11</td>\n",
       "      <td>3.0</td>\n",
       "      <td>1287</td>\n",
       "      <td>по мотивам романа или книги, биография, спорт,...</td>\n",
       "      <td>67.0</td>\n",
       "      <td>12</td>\n",
       "      <td>22</td>\n",
       "    </tr>\n",
       "    <tr>\n",
       "      <th>668638</th>\n",
       "      <td>945337</td>\n",
       "      <td>2.0</td>\n",
       "      <td>3.0</td>\n",
       "      <td>1</td>\n",
       "      <td>False</td>\n",
       "      <td>5251</td>\n",
       "      <td>5251.000000</td>\n",
       "      <td>драма, боевик, триллер</td>\n",
       "      <td>сша, франция, великобритания, сша</td>\n",
       "      <td>0</td>\n",
       "      <td>...</td>\n",
       "      <td>джеймс мэнголд, гай ричи</td>\n",
       "      <td>кристиан бэйл, мэтт дэймон, катрина балф, трэй...</td>\n",
       "      <td>14</td>\n",
       "      <td>18</td>\n",
       "      <td>NaN</td>\n",
       "      <td>1392</td>\n",
       "      <td>по мотивам романа или книги, биография, спорт,...</td>\n",
       "      <td>75.5</td>\n",
       "      <td>16</td>\n",
       "      <td>26</td>\n",
       "    </tr>\n",
       "  </tbody>\n",
       "</table>\n",
       "<p>5 rows × 37 columns</p>\n",
       "</div>"
      ],
      "text/plain": [
       "        user_id  age  income  sex  kids_flg  total_watch_time  \\\n",
       "238120  1073032  2.0     3.0    0     False             23380   \n",
       "677663   659841  5.0     2.0    1     False              1363   \n",
       "453591    95020  2.0     2.0    0     False             54729   \n",
       "285976   950594  2.0     3.0    1      True             84257   \n",
       "668638   945337  2.0     3.0    1     False              5251   \n",
       "\n",
       "        average_session_duration         favorite_genres  \\\n",
       "238120               4676.000000          драма, триллер   \n",
       "677663               1363.000000       триллер, детектив   \n",
       "453591               3909.214286         боевик, триллер   \n",
       "285976               8425.700000                   драма   \n",
       "668638               5251.000000  драма, боевик, триллер   \n",
       "\n",
       "                       favorite_countries  preferred_watch_time  ...  \\\n",
       "238120                             россия                     0  ...   \n",
       "677663                             россия                     0  ...   \n",
       "453591                великобритания, сша                     0  ...   \n",
       "285976                       сша, франция                     0  ...   \n",
       "668638  сша, франция, великобритания, сша                     0  ...   \n",
       "\n",
       "             preferred_directors  \\\n",
       "238120              илья куликов   \n",
       "677663            душан глигоров   \n",
       "453591                  гай ричи   \n",
       "285976            джеймс мэнголд   \n",
       "668638  джеймс мэнголд, гай ричи   \n",
       "\n",
       "                                         preferred_actors  \\\n",
       "238120  александр hовиков, валентина ляпина, никита па...   \n",
       "677663  антон васильев, николай шрайбер, екатерина оль...   \n",
       "453591  джейсон стэйтем, холт маккэллани, джеффри доно...   \n",
       "285976  кристиан бэйл, мэтт дэймон, катрина балф, трэй...   \n",
       "668638  кристиан бэйл, мэтт дэймон, катрина балф, трэй...   \n",
       "\n",
       "        genre_exploration_score  country_exploration_score  \\\n",
       "238120                       10                          5   \n",
       "677663                       10                          5   \n",
       "453591                       11                         16   \n",
       "285976                        4                         11   \n",
       "668638                       14                         18   \n",
       "\n",
       "        recent_activity_score  churn_risk_score  \\\n",
       "238120                    1.0              1325   \n",
       "677663                    NaN              1409   \n",
       "453591                    NaN              1302   \n",
       "285976                    3.0              1287   \n",
       "668638                    NaN              1392   \n",
       "\n",
       "                                       preferred_keywords  \\\n",
       "238120  подслушано, подслушано в контакте, социальная ...   \n",
       "677663  хруст, хрусталь, хруста, хрус, полицейский, пе...   \n",
       "453591  ограбление, криминальный авторитет, месть, пер...   \n",
       "285976  по мотивам романа или книги, биография, спорт,...   \n",
       "668638  по мотивам романа или книги, биография, спорт,...   \n",
       "\n",
       "        preferred_description_length  director_exploration_score  \\\n",
       "238120                          87.0                           9   \n",
       "677663                          59.0                          12   \n",
       "453591                          84.0                           7   \n",
       "285976                          67.0                          12   \n",
       "668638                          75.5                          16   \n",
       "\n",
       "        actor_exploration_score  \n",
       "238120                       23  \n",
       "677663                       25  \n",
       "453591                       26  \n",
       "285976                       22  \n",
       "668638                       26  \n",
       "\n",
       "[5 rows x 37 columns]"
      ]
     },
     "execution_count": 147,
     "metadata": {},
     "output_type": "execute_result"
    }
   ],
   "source": [
    "users_df.sample(5)"
   ]
  },
  {
   "cell_type": "code",
   "execution_count": 148,
   "metadata": {},
   "outputs": [
    {
     "data": {
      "text/plain": [
       "Index(['user_id', 'age', 'income', 'sex', 'kids_flg', 'total_watch_time',\n",
       "       'average_session_duration', 'favorite_genres', 'favorite_countries',\n",
       "       'preferred_watch_time', 'preferred_days', 'genre_diversity',\n",
       "       'country_diversity', 'number_of_unique_items_watched',\n",
       "       'average_time_per_genre', 'watch_frequency', 'trending_score',\n",
       "       'seasonal_preference', 'average_completion_rate',\n",
       "       'binge_watching_score', 'weekend_watch_frequency',\n",
       "       'weekday_watch_frequency', 'preferred_duration', 'preferred_age_rating',\n",
       "       'average_time_between_sessions', 'max_session_duration',\n",
       "       'preferred_studios', 'preferred_directors', 'preferred_actors',\n",
       "       'genre_exploration_score', 'country_exploration_score',\n",
       "       'recent_activity_score', 'churn_risk_score', 'preferred_keywords',\n",
       "       'preferred_description_length', 'director_exploration_score',\n",
       "       'actor_exploration_score'],\n",
       "      dtype='object')"
      ]
     },
     "execution_count": 148,
     "metadata": {},
     "output_type": "execute_result"
    }
   ],
   "source": [
    "users_df.columns"
   ]
  },
  {
   "cell_type": "markdown",
   "metadata": {},
   "source": [
    "## ITEMS"
   ]
  },
  {
   "cell_type": "code",
   "execution_count": 149,
   "metadata": {},
   "outputs": [
    {
     "name": "stderr",
     "output_type": "stream",
     "text": [
      "/var/folders/pq/7p0c971j5k7dd6zbzt4kxsj40000gn/T/ipykernel_4943/374089686.py:6: DeprecationWarning: DataFrameGroupBy.apply operated on the grouping columns. This behavior is deprecated, and in a future version of pandas the grouping columns will be excluded from the operation. Either pass `include_groups=False` to exclude the groupings or explicitly select the grouping columns after groupby to silence this warning.\n",
      "  items_df['trending_score'] = interactions_df.groupby('item_id').apply(lambda x: x['total_dur'].rolling(window=7, min_periods=1).mean().iloc[-1]).reset_index(name='trending_score')['trending_score']\n"
     ]
    }
   ],
   "source": [
    "# Популярность контента\n",
    "items_df['view_count'] = interactions_df.groupby('item_id').size().reset_index(name='view_count')['view_count']\n",
    "items_df['average_watch_duration'] = interactions_df.groupby('item_id')['total_dur'].mean().reset_index(name='average_watch_duration')['average_watch_duration']\n",
    "\n",
    "# Тренды\n",
    "items_df['trending_score'] = interactions_df.groupby('item_id').apply(lambda x: x['total_dur'].rolling(window=7, min_periods=1).mean().iloc[-1]).reset_index(name='trending_score')['trending_score']\n",
    "\n",
    "# Сезонность\n",
    "items_df['seasonal_popularity'] = interactions_df.groupby(['item_id', interactions_df['last_watch_dt'].dt.month])['total_dur'].sum().reset_index(name='seasonal_popularity')['seasonal_popularity']\n",
    "\n",
    "# Тематическое разнообразие\n",
    "items_df['genre_diversity'] = items_df['genres'].apply(lambda x: len(set(x.split(', '))))\n",
    "items_df['country_diversity'] = items_df['countries'].apply(lambda x: len(set(x.split(', '))))\n",
    "\n",
    "# Временные характеристики\n",
    "items_df['release_month'] = pd.to_datetime(items_df['release_year'], format='%Y').dt.month\n",
    "items_df['release_day_of_week'] = pd.to_datetime(items_df['release_year'], format='%Y').dt.dayofweek\n",
    "\n",
    "# Технические характеристики\n",
    "items_df['duration'] = interactions_df.groupby('item_id')['total_dur'].sum().reset_index(name='duration')['duration']"
   ]
  },
  {
   "cell_type": "code",
   "execution_count": 150,
   "metadata": {},
   "outputs": [
    {
     "name": "stderr",
     "output_type": "stream",
     "text": [
      "/var/folders/pq/7p0c971j5k7dd6zbzt4kxsj40000gn/T/ipykernel_4943/749342844.py:6: DeprecationWarning: DataFrameGroupBy.apply operated on the grouping columns. This behavior is deprecated, and in a future version of pandas the grouping columns will be excluded from the operation. Either pass `include_groups=False` to exclude the groupings or explicitly select the grouping columns after groupby to silence this warning.\n",
      "  items_df['rating_trend'] = interactions_df.groupby('item_id').apply(lambda x: x['watched_pct'].expanding().mean().iloc[-1]).reset_index(name='rating_trend')['rating_trend']\n",
      "/var/folders/pq/7p0c971j5k7dd6zbzt4kxsj40000gn/T/ipykernel_4943/749342844.py:7: DeprecationWarning: DataFrameGroupBy.apply operated on the grouping columns. This behavior is deprecated, and in a future version of pandas the grouping columns will be excluded from the operation. Either pass `include_groups=False` to exclude the groupings or explicitly select the grouping columns after groupby to silence this warning.\n",
      "  items_df['positive_review_ratio'] = interactions_df.groupby('item_id').apply(lambda x: (x['watched_pct'] > 30).mean()).reset_index(name='positive_review_ratio')['positive_review_ratio']\n",
      "/var/folders/pq/7p0c971j5k7dd6zbzt4kxsj40000gn/T/ipykernel_4943/749342844.py:10: DeprecationWarning: DataFrameGroupBy.apply operated on the grouping columns. This behavior is deprecated, and in a future version of pandas the grouping columns will be excluded from the operation. Either pass `include_groups=False` to exclude the groupings or explicitly select the grouping columns after groupby to silence this warning.\n",
      "  items_df['trending_velocity'] = interactions_df.groupby('item_id').apply(lambda x: x['total_dur'].diff().rolling(window=7).mean().iloc[-1]).reset_index(name='trending_velocity')['trending_velocity']\n"
     ]
    }
   ],
   "source": [
    "# Популярность контента\n",
    "items_df['recent_popularity'] = interactions_df[interactions_df['last_watch_dt'] > (interactions_df['last_watch_dt'].max() - pd.Timedelta(days=30))].groupby('item_id').size().reset_index(name='recent_popularity')['recent_popularity']\n",
    "items_df['peak_view_period'] = interactions_df.groupby('item_id')['last_watch_dt'].apply(lambda x: x.dt.to_period('M').value_counts().idxmax()).reset_index(name='peak_view_period')['peak_view_period']\n",
    "\n",
    "# Рейтинги и отзывы\n",
    "items_df['rating_trend'] = interactions_df.groupby('item_id').apply(lambda x: x['watched_pct'].expanding().mean().iloc[-1]).reset_index(name='rating_trend')['rating_trend']\n",
    "items_df['positive_review_ratio'] = interactions_df.groupby('item_id').apply(lambda x: (x['watched_pct'] > 30).mean()).reset_index(name='positive_review_ratio')['positive_review_ratio']\n",
    "\n",
    "# Тренды\n",
    "items_df['trending_velocity'] = interactions_df.groupby('item_id').apply(lambda x: x['total_dur'].diff().rolling(window=7).mean().iloc[-1]).reset_index(name='trending_velocity')['trending_velocity']\n",
    "items_df['seasonal_trend'] = interactions_df.groupby(['item_id', interactions_df['last_watch_dt'].dt.quarter])['total_dur'].sum().reset_index(name='seasonal_trend')['seasonal_trend']"
   ]
  },
  {
   "cell_type": "code",
   "execution_count": 151,
   "metadata": {},
   "outputs": [
    {
     "name": "stderr",
     "output_type": "stream",
     "text": [
      "/var/folders/pq/7p0c971j5k7dd6zbzt4kxsj40000gn/T/ipykernel_4943/2237429661.py:9: DeprecationWarning: DataFrameGroupBy.apply operated on the grouping columns. This behavior is deprecated, and in a future version of pandas the grouping columns will be excluded from the operation. Either pass `include_groups=False` to exclude the groupings or explicitly select the grouping columns after groupby to silence this warning.\n",
      "  items_df['trending_acceleration'] = interactions_df.groupby('item_id').apply(lambda x: x['total_dur'].diff().diff().rolling(window=7).mean().iloc[-1]).reset_index(name='trending_acceleration')['trending_acceleration']\n"
     ]
    }
   ],
   "source": [
    "# Популярность контента\n",
    "items_df['view_count_last_month'] = interactions_df[interactions_df['last_watch_dt'] > (interactions_df['last_watch_dt'].max() - pd.Timedelta(days=30))].groupby('item_id').size().reset_index(name='view_count_last_month')['view_count_last_month']\n",
    "items_df['view_count_last_week'] = interactions_df[interactions_df['last_watch_dt'] > (interactions_df['last_watch_dt'].max() - pd.Timedelta(days=7))].groupby('item_id').size().reset_index(name='view_count_last_week')['view_count_last_week']\n",
    "\n",
    "# Рейтинги и отзывы\n",
    "items_df['average_rating_last_month'] = interactions_df[interactions_df['last_watch_dt'] > (interactions_df['last_watch_dt'].max() - pd.Timedelta(days=30))].groupby('item_id')['watched_pct'].mean().reset_index(name='average_rating_last_month')['average_rating_last_month']\n",
    "\n",
    "# Тренды\n",
    "items_df['trending_acceleration'] = interactions_df.groupby('item_id').apply(lambda x: x['total_dur'].diff().diff().rolling(window=7).mean().iloc[-1]).reset_index(name='trending_acceleration')['trending_acceleration']\n",
    "items_df['seasonal_trend_change'] = interactions_df.groupby(['item_id', interactions_df['last_watch_dt'].dt.quarter])['total_dur'].sum().pct_change().reset_index(name='seasonal_trend_change')['seasonal_trend_change']\n",
    "\n",
    "# Временные характеристики\n",
    "items_df['release_quarter'] = pd.to_datetime(items_df['release_year'], format='%Y').dt.quarter\n",
    "items_df['time_of_day_popularity'] = interactions_df.groupby(['item_id', interactions_df['last_watch_dt'].dt.hour // 6])['total_dur'].sum().reset_index(name='time_of_day_popularity')['time_of_day_popularity']\n"
   ]
  },
  {
   "cell_type": "code",
   "execution_count": 152,
   "metadata": {},
   "outputs": [
    {
     "data": {
      "text/html": [
       "<div>\n",
       "<style scoped>\n",
       "    .dataframe tbody tr th:only-of-type {\n",
       "        vertical-align: middle;\n",
       "    }\n",
       "\n",
       "    .dataframe tbody tr th {\n",
       "        vertical-align: top;\n",
       "    }\n",
       "\n",
       "    .dataframe thead th {\n",
       "        text-align: right;\n",
       "    }\n",
       "</style>\n",
       "<table border=\"1\" class=\"dataframe\">\n",
       "  <thead>\n",
       "    <tr style=\"text-align: right;\">\n",
       "      <th></th>\n",
       "      <th>item_id</th>\n",
       "      <th>content_type</th>\n",
       "      <th>title</th>\n",
       "      <th>title_orig</th>\n",
       "      <th>release_year</th>\n",
       "      <th>genres</th>\n",
       "      <th>countries</th>\n",
       "      <th>for_kids</th>\n",
       "      <th>age_rating</th>\n",
       "      <th>studios</th>\n",
       "      <th>...</th>\n",
       "      <th>positive_review_ratio</th>\n",
       "      <th>trending_velocity</th>\n",
       "      <th>seasonal_trend</th>\n",
       "      <th>view_count_last_month</th>\n",
       "      <th>view_count_last_week</th>\n",
       "      <th>average_rating_last_month</th>\n",
       "      <th>trending_acceleration</th>\n",
       "      <th>seasonal_trend_change</th>\n",
       "      <th>release_quarter</th>\n",
       "      <th>time_of_day_popularity</th>\n",
       "    </tr>\n",
       "  </thead>\n",
       "  <tbody>\n",
       "    <tr>\n",
       "      <th>5829</th>\n",
       "      <td>1525</td>\n",
       "      <td>1</td>\n",
       "      <td>принципиальный и жалостливый взгляд</td>\n",
       "      <td>none</td>\n",
       "      <td>1996.0</td>\n",
       "      <td>русский, мелодрама</td>\n",
       "      <td>россия</td>\n",
       "      <td>2.0</td>\n",
       "      <td>16.0</td>\n",
       "      <td>ленфильм</td>\n",
       "      <td>...</td>\n",
       "      <td>0.503443</td>\n",
       "      <td>-562.857143</td>\n",
       "      <td>62228</td>\n",
       "      <td>238.0</td>\n",
       "      <td>15.0</td>\n",
       "      <td>40.12605</td>\n",
       "      <td>-732.857143</td>\n",
       "      <td>-0.493999</td>\n",
       "      <td>1.0</td>\n",
       "      <td>5530058.0</td>\n",
       "    </tr>\n",
       "    <tr>\n",
       "      <th>3331</th>\n",
       "      <td>4143</td>\n",
       "      <td>1</td>\n",
       "      <td>дед, привет!</td>\n",
       "      <td>happier times, grump</td>\n",
       "      <td>2018.0</td>\n",
       "      <td>драма, комедия</td>\n",
       "      <td>финляндия</td>\n",
       "      <td>2.0</td>\n",
       "      <td>16.0</td>\n",
       "      <td>none</td>\n",
       "      <td>...</td>\n",
       "      <td>0.689922</td>\n",
       "      <td>623.857143</td>\n",
       "      <td>246201</td>\n",
       "      <td>1.0</td>\n",
       "      <td>3.0</td>\n",
       "      <td>0.0</td>\n",
       "      <td>624.857143</td>\n",
       "      <td>6.524710</td>\n",
       "      <td>1.0</td>\n",
       "      <td>865675.0</td>\n",
       "    </tr>\n",
       "    <tr>\n",
       "      <th>3534</th>\n",
       "      <td>609</td>\n",
       "      <td>0</td>\n",
       "      <td>институт благородных девиц</td>\n",
       "      <td>none</td>\n",
       "      <td>2009.0</td>\n",
       "      <td>исторический, русский, романтика, мелодрама</td>\n",
       "      <td>россия</td>\n",
       "      <td>2.0</td>\n",
       "      <td>16.0</td>\n",
       "      <td>none</td>\n",
       "      <td>...</td>\n",
       "      <td>0.529412</td>\n",
       "      <td>-450.428571</td>\n",
       "      <td>532</td>\n",
       "      <td>1.0</td>\n",
       "      <td>1.0</td>\n",
       "      <td>38.0</td>\n",
       "      <td>-639.428571</td>\n",
       "      <td>-0.346437</td>\n",
       "      <td>1.0</td>\n",
       "      <td>54933.0</td>\n",
       "    </tr>\n",
       "    <tr>\n",
       "      <th>7395</th>\n",
       "      <td>3982</td>\n",
       "      <td>1</td>\n",
       "      <td>параллельные миры</td>\n",
       "      <td>parallelnye miry</td>\n",
       "      <td>2013.0</td>\n",
       "      <td>мелодрама, комедия</td>\n",
       "      <td>россия</td>\n",
       "      <td>2.0</td>\n",
       "      <td>16.0</td>\n",
       "      <td>none</td>\n",
       "      <td>...</td>\n",
       "      <td>1.000000</td>\n",
       "      <td>NaN</td>\n",
       "      <td>11520</td>\n",
       "      <td>11.0</td>\n",
       "      <td>NaN</td>\n",
       "      <td>39.636364</td>\n",
       "      <td>NaN</td>\n",
       "      <td>8.396411</td>\n",
       "      <td>1.0</td>\n",
       "      <td>7504.0</td>\n",
       "    </tr>\n",
       "    <tr>\n",
       "      <th>14359</th>\n",
       "      <td>2381</td>\n",
       "      <td>1</td>\n",
       "      <td>рыцари королевства крутизны (жестовым языком)</td>\n",
       "      <td>knights of badassdom (sign language)</td>\n",
       "      <td>2012.0</td>\n",
       "      <td>ужас, зарубежный, фэнтез, комедия</td>\n",
       "      <td>сша</td>\n",
       "      <td>2.0</td>\n",
       "      <td>18.0</td>\n",
       "      <td>none</td>\n",
       "      <td>...</td>\n",
       "      <td>0.500000</td>\n",
       "      <td>824.571429</td>\n",
       "      <td>35179</td>\n",
       "      <td>NaN</td>\n",
       "      <td>NaN</td>\n",
       "      <td>&lt;NA&gt;</td>\n",
       "      <td>NaN</td>\n",
       "      <td>1.342924</td>\n",
       "      <td>1.0</td>\n",
       "      <td>25554.0</td>\n",
       "    </tr>\n",
       "  </tbody>\n",
       "</table>\n",
       "<p>5 rows × 79 columns</p>\n",
       "</div>"
      ],
      "text/plain": [
       "       item_id  content_type                                          title  \\\n",
       "5829      1525             1            принципиальный и жалостливый взгляд   \n",
       "3331      4143             1                                   дед, привет!   \n",
       "3534       609             0                     институт благородных девиц   \n",
       "7395      3982             1                              параллельные миры   \n",
       "14359     2381             1  рыцари королевства крутизны (жестовым языком)   \n",
       "\n",
       "                                 title_orig  release_year  \\\n",
       "5829                                   none        1996.0   \n",
       "3331                   happier times, grump        2018.0   \n",
       "3534                                   none        2009.0   \n",
       "7395                       parallelnye miry        2013.0   \n",
       "14359  knights of badassdom (sign language)        2012.0   \n",
       "\n",
       "                                            genres  countries  for_kids  \\\n",
       "5829                            русский, мелодрама     россия       2.0   \n",
       "3331                                драма, комедия  финляндия       2.0   \n",
       "3534   исторический, русский, романтика, мелодрама     россия       2.0   \n",
       "7395                            мелодрама, комедия     россия       2.0   \n",
       "14359            ужас, зарубежный, фэнтез, комедия        сша       2.0   \n",
       "\n",
       "       age_rating   studios  ... positive_review_ratio trending_velocity  \\\n",
       "5829         16.0  ленфильм  ...              0.503443       -562.857143   \n",
       "3331         16.0      none  ...              0.689922        623.857143   \n",
       "3534         16.0      none  ...              0.529412       -450.428571   \n",
       "7395         16.0      none  ...              1.000000               NaN   \n",
       "14359        18.0      none  ...              0.500000        824.571429   \n",
       "\n",
       "      seasonal_trend view_count_last_month view_count_last_week  \\\n",
       "5829           62228                 238.0                 15.0   \n",
       "3331          246201                   1.0                  3.0   \n",
       "3534             532                   1.0                  1.0   \n",
       "7395           11520                  11.0                  NaN   \n",
       "14359          35179                   NaN                  NaN   \n",
       "\n",
       "       average_rating_last_month  trending_acceleration  \\\n",
       "5829                    40.12605            -732.857143   \n",
       "3331                         0.0             624.857143   \n",
       "3534                        38.0            -639.428571   \n",
       "7395                   39.636364                    NaN   \n",
       "14359                       <NA>                    NaN   \n",
       "\n",
       "       seasonal_trend_change  release_quarter  time_of_day_popularity  \n",
       "5829               -0.493999              1.0               5530058.0  \n",
       "3331                6.524710              1.0                865675.0  \n",
       "3534               -0.346437              1.0                 54933.0  \n",
       "7395                8.396411              1.0                  7504.0  \n",
       "14359               1.342924              1.0                 25554.0  \n",
       "\n",
       "[5 rows x 79 columns]"
      ]
     },
     "execution_count": 152,
     "metadata": {},
     "output_type": "execute_result"
    }
   ],
   "source": [
    "items_df.sample(5)"
   ]
  },
  {
   "cell_type": "code",
   "execution_count": 153,
   "metadata": {},
   "outputs": [
    {
     "data": {
      "text/plain": [
       "Index(['item_id', 'content_type', 'title', 'title_orig', 'release_year',\n",
       "       'genres', 'countries', 'for_kids', 'age_rating', 'studios', 'directors',\n",
       "       'actors', 'description', 'keywords', 'release_year_cat', 'title_length',\n",
       "       'title_word_count', 'title_unique_chars', 'desc_word_count',\n",
       "       'desc_avg_word_length', 'desc_unique_words_ratio', 'num_keywords',\n",
       "       'keywords_unique_ratio', 'num_genres', 'num_countries',\n",
       "       'is_international', 'num_studios', 'num_directors', 'num_actors',\n",
       "       'release_decade', 'is_classic', 'is_recent', 'is_kids_content',\n",
       "       'is_series', 'is_adult_content', 'genre_diversity', 'country_diversity',\n",
       "       'release_month', 'release_day_of_week', 'keyword_diversity',\n",
       "       'studio_diversity', 'log_release_year', 'years_since_release',\n",
       "       'release_age_group', 'has_popular_genres', 'num_popular_genres',\n",
       "       'months_since_release', 'avg_desc_word_length',\n",
       "       'desc_unique_percentage', 'unique_genre_count', 'min_keywords_length',\n",
       "       'max_keywords_length', 'unique_actors_ratio', 'unique_directors_ratio',\n",
       "       'release_year_distance', 'log_years_since_release',\n",
       "       'unique_countries_count', 'genre_country_interaction',\n",
       "       'total_content_volume', 'age_rating_class', 'non_standard_genres_count',\n",
       "       'view_count', 'average_watch_duration', 'trending_score',\n",
       "       'seasonal_popularity', 'duration', 'recent_popularity',\n",
       "       'peak_view_period', 'rating_trend', 'positive_review_ratio',\n",
       "       'trending_velocity', 'seasonal_trend', 'view_count_last_month',\n",
       "       'view_count_last_week', 'average_rating_last_month',\n",
       "       'trending_acceleration', 'seasonal_trend_change', 'release_quarter',\n",
       "       'time_of_day_popularity'],\n",
       "      dtype='object')"
      ]
     },
     "execution_count": 153,
     "metadata": {},
     "output_type": "execute_result"
    }
   ],
   "source": [
    "items_df.columns"
   ]
  },
  {
   "cell_type": "markdown",
   "metadata": {},
   "source": [
    "# Some stats"
   ]
  },
  {
   "cell_type": "code",
   "execution_count": 154,
   "metadata": {},
   "outputs": [
    {
     "name": "stdout",
     "output_type": "stream",
     "text": [
      "Кол-во пользователей всего - 1058088\n",
      "Кол-во пользователей c взаимодействиями и фичами - 744288 (70.34%)\n",
      "Кол-во пользователей только c взаимодействиями - 217891 (20.59%)\n",
      "Кол-во пользователей только c фичами - 95909 (9.06%)\n"
     ]
    }
   ],
   "source": [
    "interaction_users = interactions_df['user_id'].unique()\n",
    "\n",
    "common_users = len(np.intersect1d(interaction_users, users_df['user_id']))\n",
    "users_only_in_interaction = len(np.setdiff1d(interaction_users, users_df['user_id']))\n",
    "users_only_features = len(np.setdiff1d(users_df['user_id'], interaction_users))\n",
    "total_users = common_users + users_only_in_interaction + users_only_features\n",
    "\n",
    "print(f'Кол-во пользователей всего - {total_users}')\n",
    "print(f'Кол-во пользователей c взаимодействиями и фичами - {common_users} ({common_users / total_users:.2%})')\n",
    "print(f'Кол-во пользователей только c взаимодействиями - {users_only_in_interaction} ({users_only_in_interaction / total_users:.2%})')\n",
    "print(f'Кол-во пользователей только c фичами - {users_only_features} ({users_only_features / total_users:.2%})')"
   ]
  },
  {
   "cell_type": "code",
   "execution_count": 155,
   "metadata": {},
   "outputs": [
    {
     "name": "stdout",
     "output_type": "stream",
     "text": [
      "Кол-во объектов всего - 15963\n",
      "Кол-во объектов c взаимодействиями и фичами - 15705 (98.38%)\n",
      "Кол-во объектов только c взаимодействиями - 1 (0.01%)\n",
      "Кол-во объектов только c фичами - 257 (1.61%)\n"
     ]
    }
   ],
   "source": [
    "interaction_items = interactions_df['item_id'].unique()\n",
    "\n",
    "common_items = len(np.intersect1d(interaction_items, items_df['item_id']))\n",
    "items_only_in_interaction = len(np.setdiff1d(interaction_items, items_df['item_id']))\n",
    "items_only_features = len(np.setdiff1d(items_df['item_id'], interaction_items))\n",
    "total_items = common_items + items_only_in_interaction + items_only_features\n",
    "print(f'Кол-во объектов всего - {total_items}')\n",
    "print(f'Кол-во объектов c взаимодействиями и фичами - {common_items} ({common_items / total_items:.2%})')\n",
    "print(f'Кол-во объектов только c взаимодействиями - {items_only_in_interaction} ({items_only_in_interaction / total_items:.2%})')\n",
    "print(f'Кол-во объектов только c фичами - {items_only_features} ({items_only_features / total_items:.2%})')"
   ]
  },
  {
   "cell_type": "markdown",
   "metadata": {},
   "source": [
    "График количества пользователей от даты"
   ]
  },
  {
   "cell_type": "code",
   "execution_count": 156,
   "metadata": {},
   "outputs": [
    {
     "data": {
      "image/png": "[encoded data removed]",
      "text/plain": [
       "<Figure size 640x480 with 1 Axes>"
      ]
     },
     "metadata": {},
     "output_type": "display_data"
    }
   ],
   "source": [
    "interactions_df_users_count = interactions_df.groupby('last_watch_dt').agg({'user_id': pd.Series.nunique}).reset_index().sort_values('last_watch_dt')\n",
    "sns.lineplot(data=interactions_df_users_count, x='last_watch_dt', y='user_id');"
   ]
  },
  {
   "cell_type": "markdown",
   "metadata": {},
   "source": [
    "График количества уникальных пользователей от даты"
   ]
  },
  {
   "cell_type": "code",
   "execution_count": 157,
   "metadata": {},
   "outputs": [],
   "source": [
    "interactions_df_unique_users_count = []\n",
    "unique_users = set()\n",
    "\n",
    "for date in sorted(interactions_df.last_watch_dt.unique()):\n",
    "    date_unique_users = interactions_df[interactions_df.last_watch_dt == date].user_id.unique()\n",
    "    interactions_df_unique_users_count.append((date, len(set(date_unique_users) - unique_users)))\n",
    "    unique_users = unique_users.union(set(date_unique_users))"
   ]
  },
  {
   "cell_type": "code",
   "execution_count": 158,
   "metadata": {},
   "outputs": [
    {
     "data": {
      "text/plain": [
       "<Axes: xlabel='date', ylabel='count'>"
      ]
     },
     "execution_count": 158,
     "metadata": {},
     "output_type": "execute_result"
    },
    {
     "data": {
      "image/png": "[encoded data removed]",
      "text/plain": [
       "<Figure size 640x480 with 1 Axes>"
      ]
     },
     "metadata": {},
     "output_type": "display_data"
    }
   ],
   "source": [
    "sns.lineplot(data=pd.DataFrame(interactions_df_unique_users_count, columns=['date', 'count']), x='date', y='count') "
   ]
  },
  {
   "cell_type": "markdown",
   "metadata": {},
   "source": [
    "Ага, очевидно, что каждый день есть у нас есть холодные пользователи. Это необходимо учесть в модели и по хорошему - придумать, что с ними делать"
   ]
  },
  {
   "cell_type": "markdown",
   "metadata": {},
   "source": [
    "Посмотрим на обьекты"
   ]
  },
  {
   "cell_type": "code",
   "execution_count": 159,
   "metadata": {},
   "outputs": [
    {
     "data": {
      "image/png": "[encoded data removed]",
      "text/plain": [
       "<Figure size 640x480 with 1 Axes>"
      ]
     },
     "metadata": {},
     "output_type": "display_data"
    }
   ],
   "source": [
    "interactions_df_items_count = interactions_df.groupby('last_watch_dt').agg({'item_id': pd.Series.nunique}).reset_index().sort_values('last_watch_dt')\n",
    "sns.lineplot(data=interactions_df_items_count, x='last_watch_dt', y='item_id');"
   ]
  },
  {
   "cell_type": "code",
   "execution_count": 160,
   "metadata": {},
   "outputs": [],
   "source": [
    "interactions_df_unique_items_count = []\n",
    "unique_items = set()\n",
    "\n",
    "for date in sorted(interactions_df.last_watch_dt.unique()):\n",
    "    date_unique_items = interactions_df[interactions_df.last_watch_dt == date].item_id.unique()\n",
    "    interactions_df_unique_items_count.append((date, len(set(date_unique_items) - unique_items)))\n",
    "    unique_items = unique_items.union(set(date_unique_items))\n",
    "    \n",
    "interactions_df_unique_items_count = pd.DataFrame(interactions_df_unique_items_count, columns=['date', 'count'])"
   ]
  },
  {
   "cell_type": "code",
   "execution_count": 161,
   "metadata": {},
   "outputs": [
    {
     "data": {
      "text/plain": [
       "<Axes: xlabel='date', ylabel='count'>"
      ]
     },
     "execution_count": 161,
     "metadata": {},
     "output_type": "execute_result"
    },
    {
     "data": {
      "image/png": "[encoded data removed]",
      "text/plain": [
       "<Figure size 640x480 with 1 Axes>"
      ]
     },
     "metadata": {},
     "output_type": "display_data"
    }
   ],
   "source": [
    "sns.lineplot(data=interactions_df_unique_items_count, x='date', y='count') "
   ]
  },
  {
   "cell_type": "code",
   "execution_count": 162,
   "metadata": {},
   "outputs": [
    {
     "data": {
      "text/plain": [
       "<Axes: xlabel='date', ylabel='count'>"
      ]
     },
     "execution_count": 162,
     "metadata": {},
     "output_type": "execute_result"
    },
    {
     "data": {
      "image/png": "[encoded data removed]",
      "text/plain": [
       "<Figure size 640x480 with 1 Axes>"
      ]
     },
     "metadata": {},
     "output_type": "display_data"
    }
   ],
   "source": [
    "sns.lineplot(data=interactions_df_unique_items_count[interactions_df_unique_items_count.date > '2021-04-01'], x='date', y='count') "
   ]
  },
  {
   "cell_type": "markdown",
   "metadata": {},
   "source": [
    "Холодные объекты тоже есть, но их явно меньше"
   ]
  },
  {
   "cell_type": "markdown",
   "metadata": {},
   "source": [
    "# Сохранение"
   ]
  },
  {
   "cell_type": "code",
   "execution_count": 163,
   "metadata": {},
   "outputs": [],
   "source": [
    "users_df.to_csv('processed_users.csv', index=False)\n",
    "items_df.to_csv('processed_items.csv', index=False)\n",
    "interactions_df.to_csv('processed_interactions.csv', index=False)"
   ]
  },
  {
   "cell_type": "code",
   "execution_count": null,
   "metadata": {},
   "outputs": [],
   "source": []
  }
 ],
 "metadata": {
  "kernelspec": {
   "display_name": ".venv",
   "language": "python",
   "name": "python3"
  },
  "language_info": {
   "codemirror_mode": {
    "name": "ipython",
    "version": 3
   },
   "file_extension": ".py",
   "mimetype": "text/x-python",
   "name": "python",
   "nbconvert_exporter": "python",
   "pygments_lexer": "ipython3",
   "version": "3.13.2"
  }
 },
 "nbformat": 4,
 "nbformat_minor": 2
}
